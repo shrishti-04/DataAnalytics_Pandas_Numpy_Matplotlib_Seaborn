{
  "nbformat": 4,
  "nbformat_minor": 0,
  "metadata": {
    "colab": {
      "name": "Appendix 3. Python 101 - Comparison, Logical Operators, Conditional Statements - Skeleton.ipynb",
      "provenance": [],
      "collapsed_sections": [],
      "include_colab_link": true
    },
    "kernelspec": {
      "name": "python3",
      "display_name": "Python 3"
    }
  },
  "cells": [
    {
      "cell_type": "markdown",
      "metadata": {
        "id": "view-in-github",
        "colab_type": "text"
      },
      "source": [
        "<a href=\"https://colab.research.google.com/github/shrishti-04/DataAnalytics_Pandas_Numpy_Matplotlib_Seaborn/blob/master/Comparison_LogicalOperators_Conditional_Statements.ipynb\" target=\"_parent\"><img src=\"https://colab.research.google.com/assets/colab-badge.svg\" alt=\"Open In Colab\"/></a>"
      ]
    },
    {
      "cell_type": "markdown",
      "metadata": {
        "id": "CV9YCHsGtAP5"
      },
      "source": [
        "# 1. COMPARISON OPERATORS\n"
      ]
    },
    {
      "cell_type": "code",
      "metadata": {
        "id": "o9VtOcrKtCc1",
        "colab": {
          "base_uri": "https://localhost:8080/"
        },
        "outputId": "d11c81fe-3800-4048-b40e-75c9dc10ca43"
      },
      "source": [
        "# Comparison Operator output could be \"True\" or \"False\"\n",
        "# Let's cover equal '==' comparison operator first\n",
        "# It's simply a question: \"Is stock_1_price equals stock_2_price or not?\"\n",
        "# \"True\" output means condition is satisfied \n",
        "# \"False\" output means Condition is not satisfied (condition is not true) \n",
        "\n",
        "stock_1_price = 2000\n",
        "stock_2_price = 2000\n",
        "\n",
        "stock_1_price == stock_2_price"
      ],
      "execution_count": 1,
      "outputs": [
        {
          "output_type": "execute_result",
          "data": {
            "text/plain": [
              "True"
            ]
          },
          "metadata": {},
          "execution_count": 1
        }
      ]
    },
    {
      "cell_type": "code",
      "metadata": {
        "id": "l48NWuCztX5G",
        "colab": {
          "base_uri": "https://localhost:8080/"
        },
        "outputId": "c317b47b-045b-4bf1-ed0d-7eb0b71bb9bc"
      },
      "source": [
        "# Greater than or equal operator '>='\n",
        "stock_1_price = 4000\n",
        "stock_2_price = 2000\n",
        "\n",
        "stock_1_price >= stock_2_price"
      ],
      "execution_count": 2,
      "outputs": [
        {
          "output_type": "execute_result",
          "data": {
            "text/plain": [
              "True"
            ]
          },
          "metadata": {},
          "execution_count": 2
        }
      ]
    },
    {
      "cell_type": "code",
      "metadata": {
        "id": "RmUrcn31tY0_"
      },
      "source": [
        "# Note that '==' is a comparison operator \n",
        "# Note that '=' is used for variable assignment (put 10 in stock_1_price)\n",
        "stock_1_price = 10"
      ],
      "execution_count": 3,
      "outputs": []
    },
    {
      "cell_type": "code",
      "metadata": {
        "id": "TttdgxEPtY3z",
        "colab": {
          "base_uri": "https://localhost:8080/"
        },
        "outputId": "c81f4cc8-2487-4c8b-81ea-b18b92a4c0bc"
      },
      "source": [
        "stock_1_price"
      ],
      "execution_count": 4,
      "outputs": [
        {
          "output_type": "execute_result",
          "data": {
            "text/plain": [
              "10"
            ]
          },
          "metadata": {},
          "execution_count": 4
        }
      ]
    },
    {
      "cell_type": "code",
      "metadata": {
        "id": "9fvPnQePtY9K",
        "colab": {
          "base_uri": "https://localhost:8080/"
        },
        "outputId": "597ebf51-47e4-43f4-e718-826fa00931e8"
      },
      "source": [
        "# Comparison operators work with strings as well\n",
        "'finance' == 'finance'"
      ],
      "execution_count": 5,
      "outputs": [
        {
          "output_type": "execute_result",
          "data": {
            "text/plain": [
              "True"
            ]
          },
          "metadata": {},
          "execution_count": 5
        }
      ]
    },
    {
      "cell_type": "code",
      "metadata": {
        "id": "krIE9oTdtj-Q",
        "colab": {
          "base_uri": "https://localhost:8080/"
        },
        "outputId": "cc50c98a-5d79-4c0c-cdbc-d4f348d60fce"
      },
      "source": [
        "# Both strings have to exactly match (lower case vs. upper case)\n",
        "'Finance' == 'finance'"
      ],
      "execution_count": 6,
      "outputs": [
        {
          "output_type": "execute_result",
          "data": {
            "text/plain": [
              "False"
            ]
          },
          "metadata": {},
          "execution_count": 6
        }
      ]
    },
    {
      "cell_type": "code",
      "metadata": {
        "id": "WI6k596Xtlcc",
        "colab": {
          "base_uri": "https://localhost:8080/"
        },
        "outputId": "0c9d03c3-3ec6-4c0c-a7fe-94cb17131c92"
      },
      "source": [
        "# Not equal comparison operator '!='\n",
        "stock_1_price = 5000\n",
        "stock_2_price = 3000\n",
        "\n",
        "stock_1_price != stock_2_price"
      ],
      "execution_count": 7,
      "outputs": [
        {
          "output_type": "execute_result",
          "data": {
            "text/plain": [
              "True"
            ]
          },
          "metadata": {},
          "execution_count": 7
        }
      ]
    },
    {
      "cell_type": "markdown",
      "metadata": {
        "id": "eNyKRJob4Xlo"
      },
      "source": [
        "**MINI CHALLENGE #1:**\n",
        "- **Without executing the code cell, What will this code generate?**\n",
        "\n",
        "```\n",
        "stock_1_price = 15\n",
        "stock_2_price = 10\n",
        "\n",
        "print(stock_1_price == stock_2_price) \n",
        "print(stock_1_price != stock_2_price) \n",
        "print(stock_1_price > stock_2_price)\n",
        "print(stock_1_price < stock_2_price) \n",
        "```\n"
      ]
    },
    {
      "cell_type": "code",
      "metadata": {
        "id": "-vRyMcIhlVPg",
        "colab": {
          "base_uri": "https://localhost:8080/"
        },
        "outputId": "ffe65784-112d-4fd4-83bc-cfb5cb6ca843"
      },
      "source": [
        "stock_1_price = 15\n",
        "stock_2_price = 10\n",
        "\n",
        "print(stock_1_price == stock_2_price) \n",
        "print(stock_1_price != stock_2_price) \n",
        "print(stock_1_price > stock_2_price)\n",
        "print(stock_1_price < stock_2_price)"
      ],
      "execution_count": 8,
      "outputs": [
        {
          "output_type": "stream",
          "name": "stdout",
          "text": [
            "False\n",
            "True\n",
            "True\n",
            "False\n"
          ]
        }
      ]
    },
    {
      "cell_type": "markdown",
      "metadata": {
        "id": "4ElLliXmvffI"
      },
      "source": [
        "# 2. LOGICAL OPERATORS"
      ]
    },
    {
      "cell_type": "code",
      "metadata": {
        "id": "DZ4lIrr9viXb",
        "colab": {
          "base_uri": "https://localhost:8080/"
        },
        "outputId": "93e4aa28-a21e-44a3-af2b-90d6f616e735"
      },
      "source": [
        "# For \"and\" logical operators, both arguments must be \"True\" in order for the output to be \"True\" \n",
        "# (Note that this is the only case in which the 'and' logical operator generates a True output)\n",
        "# 1 and 1 = 1\n",
        "True and True"
      ],
      "execution_count": 9,
      "outputs": [
        {
          "output_type": "execute_result",
          "data": {
            "text/plain": [
              "True"
            ]
          },
          "metadata": {},
          "execution_count": 9
        }
      ]
    },
    {
      "cell_type": "code",
      "metadata": {
        "id": "tBllQqO2vxPe",
        "colab": {
          "base_uri": "https://localhost:8080/"
        },
        "outputId": "03bad947-3bb8-4b39-888d-7032a7a30b2b"
      },
      "source": [
        "# 0 and 1 = 0\n",
        "False and True"
      ],
      "execution_count": 10,
      "outputs": [
        {
          "output_type": "execute_result",
          "data": {
            "text/plain": [
              "False"
            ]
          },
          "metadata": {},
          "execution_count": 10
        }
      ]
    },
    {
      "cell_type": "code",
      "metadata": {
        "id": "ebgLEPrQvy1h",
        "colab": {
          "base_uri": "https://localhost:8080/"
        },
        "outputId": "a28daf47-4601-4e9f-cff3-f263fe2f888a"
      },
      "source": [
        "# 0 and 0 = 0\n",
        "False and False"
      ],
      "execution_count": 11,
      "outputs": [
        {
          "output_type": "execute_result",
          "data": {
            "text/plain": [
              "False"
            ]
          },
          "metadata": {},
          "execution_count": 11
        }
      ]
    },
    {
      "cell_type": "code",
      "metadata": {
        "id": "Y_FB6C6yvzqb",
        "colab": {
          "base_uri": "https://localhost:8080/"
        },
        "outputId": "d9d11975-6d9d-455a-e3ef-433e346847ee"
      },
      "source": [
        "# For \"or\" logical operators, if any one of the arguments is \"True\", the output will be \"True\" \n",
        "# 1 or 1 = 1\n",
        "True or True"
      ],
      "execution_count": 12,
      "outputs": [
        {
          "output_type": "execute_result",
          "data": {
            "text/plain": [
              "True"
            ]
          },
          "metadata": {},
          "execution_count": 12
        }
      ]
    },
    {
      "cell_type": "code",
      "metadata": {
        "id": "kiy1MhGrvzu9",
        "colab": {
          "base_uri": "https://localhost:8080/"
        },
        "outputId": "b27a93ee-3102-422c-cf51-d63a37494748"
      },
      "source": [
        "# 1 or 0 = 1\n",
        "True or False"
      ],
      "execution_count": 13,
      "outputs": [
        {
          "output_type": "execute_result",
          "data": {
            "text/plain": [
              "True"
            ]
          },
          "metadata": {},
          "execution_count": 13
        }
      ]
    },
    {
      "cell_type": "code",
      "metadata": {
        "id": "S9Zo0wWovz2j",
        "colab": {
          "base_uri": "https://localhost:8080/"
        },
        "outputId": "e621811c-1b6a-4393-b384-5793286ab71b"
      },
      "source": [
        "# 0 or 1 = 1\n",
        "False or True"
      ],
      "execution_count": 14,
      "outputs": [
        {
          "output_type": "execute_result",
          "data": {
            "text/plain": [
              "True"
            ]
          },
          "metadata": {},
          "execution_count": 14
        }
      ]
    },
    {
      "cell_type": "code",
      "metadata": {
        "id": "Tu1BB3FAvz8-",
        "colab": {
          "base_uri": "https://localhost:8080/"
        },
        "outputId": "1c45a34d-0acd-4d17-facd-1dc0b4274e50"
      },
      "source": [
        "# 0 or 0 = 0 (Note that this is the only case in which the 'or' logical operator generates a False output)\n",
        "False or False"
      ],
      "execution_count": 15,
      "outputs": [
        {
          "output_type": "execute_result",
          "data": {
            "text/plain": [
              "False"
            ]
          },
          "metadata": {},
          "execution_count": 15
        }
      ]
    },
    {
      "cell_type": "code",
      "metadata": {
        "id": "KC9ArCvsvz7J",
        "colab": {
          "base_uri": "https://localhost:8080/"
        },
        "outputId": "9889b1f1-3e1c-4d38-8fbb-fd61a6f5960b"
      },
      "source": [
        " # True and False = False \n",
        "(10 > 7) and (9 == 3)"
      ],
      "execution_count": 16,
      "outputs": [
        {
          "output_type": "execute_result",
          "data": {
            "text/plain": [
              "False"
            ]
          },
          "metadata": {},
          "execution_count": 16
        }
      ]
    },
    {
      "cell_type": "code",
      "metadata": {
        "id": "1kVyRF3Avz5V",
        "colab": {
          "base_uri": "https://localhost:8080/"
        },
        "outputId": "6dd0e6c1-8ec4-4fa5-d923-f0823c1b2b87"
      },
      "source": [
        "# True or False = True\n",
        "(3 < 8) or (5 == 10)"
      ],
      "execution_count": 17,
      "outputs": [
        {
          "output_type": "execute_result",
          "data": {
            "text/plain": [
              "True"
            ]
          },
          "metadata": {},
          "execution_count": 17
        }
      ]
    },
    {
      "cell_type": "markdown",
      "metadata": {
        "id": "vjvXsd7ezN4y"
      },
      "source": [
        "**MINI CHALLENGE #2:**\n",
        "- **Without executing the code cell, What will these two lines of code generate?**\n",
        "\n",
        "```\n",
        "print('FINANCE'!='FINANCE' and (10 > 3) and (20 == 20)) \n",
        "```\n",
        "\n",
        "```\n",
        "print('Finance'!='FINANCE' or (16 > 20) or (25 == 25)) \n",
        "```\n"
      ]
    },
    {
      "cell_type": "code",
      "metadata": {
        "id": "4u7cWLq15VZt",
        "colab": {
          "base_uri": "https://localhost:8080/"
        },
        "outputId": "8a56fdda-7208-4cfa-aec2-fa66a2a5c09e"
      },
      "source": [
        "# False and True and True\n",
        "print('FINANCE'!='FINANCE' and (10 > 3) and (20 == 20))"
      ],
      "execution_count": 22,
      "outputs": [
        {
          "output_type": "stream",
          "name": "stdout",
          "text": [
            "False\n"
          ]
        }
      ]
    },
    {
      "cell_type": "code",
      "source": [
        "# False or False or True\n",
        "print('Finance'!='FINANCE' or (16 > 20) or (25 == 25))"
      ],
      "metadata": {
        "colab": {
          "base_uri": "https://localhost:8080/"
        },
        "id": "RoUoBgM5RVEL",
        "outputId": "4cebc82b-b56e-4c80-f87e-e380a1529abb"
      },
      "execution_count": 23,
      "outputs": [
        {
          "output_type": "stream",
          "name": "stdout",
          "text": [
            "True\n"
          ]
        }
      ]
    },
    {
      "cell_type": "markdown",
      "metadata": {
        "id": "GVMXs0iZ0xJp"
      },
      "source": [
        "**MINI CHALLENGE #3:**\n",
        "- **Without executing the code cell, What will these two lines of code generate?**\n",
        "\n",
        "```\n",
        "a = 5\n",
        "b = 3.5\n",
        "\n",
        "print(a == b or a != b) \n",
        "print(a == b and a != b) \n",
        "```\n",
        "\n"
      ]
    },
    {
      "cell_type": "code",
      "metadata": {
        "id": "xA9pXas-5WJB",
        "colab": {
          "base_uri": "https://localhost:8080/"
        },
        "outputId": "74fc1988-8953-475a-8e98-65d29b07e795"
      },
      "source": [
        "a = 5\n",
        "b = 3.5 \n",
        "\n",
        "print(a == b or a != b)\n",
        "print(a == b and a != b)"
      ],
      "execution_count": 20,
      "outputs": [
        {
          "output_type": "stream",
          "name": "stdout",
          "text": [
            "True\n",
            "False\n"
          ]
        }
      ]
    },
    {
      "cell_type": "markdown",
      "metadata": {
        "id": "STR2UADaxtHC"
      },
      "source": [
        "# 3. CONDITIONAL STATEMENTS"
      ]
    },
    {
      "cell_type": "markdown",
      "metadata": {
        "id": "owrJExRxX--G"
      },
      "source": [
        "- A simple if-else statement is written in Python as follows:\n",
        "\n",
        "```\n",
        "if condition:\n",
        "  statement #1\n",
        "else:\n",
        "  statement #2\n",
        "```\n",
        "\n",
        "- If the condition is true, execute the first indented statement\n",
        "- if the condition is not true, then execute the else indented statements. \n",
        "- Note that Python uses indentation (whitespace) to indicate code sections and scope."
      ]
    },
    {
      "cell_type": "code",
      "metadata": {
        "id": "9iiHeyl_xvte",
        "colab": {
          "base_uri": "https://localhost:8080/"
        },
        "outputId": "894668ce-1916-44f9-d173-d3493fa64eae"
      },
      "source": [
        "if 10 > 3:\n",
        "  print('This statement is True')\n",
        "else:\n",
        "  print('This statement is False')"
      ],
      "execution_count": 28,
      "outputs": [
        {
          "output_type": "stream",
          "name": "stdout",
          "text": [
            "This statement is True\n"
          ]
        }
      ]
    },
    {
      "cell_type": "code",
      "metadata": {
        "id": "M05mmLIWxzCP",
        "colab": {
          "base_uri": "https://localhost:8080/"
        },
        "outputId": "ad471cde-3091-4044-f320-b3ab14b4b9dd"
      },
      "source": [
        "if 8 < 6:\n",
        "  print('This statement is True')\n",
        "else:\n",
        "  print('This statement is False')"
      ],
      "execution_count": 25,
      "outputs": [
        {
          "output_type": "stream",
          "name": "stdout",
          "text": [
            "This statement is False\n"
          ]
        }
      ]
    },
    {
      "cell_type": "code",
      "metadata": {
        "id": "4i8g3ORFxzFn",
        "colab": {
          "base_uri": "https://localhost:8080/"
        },
        "outputId": "7ca8d535-bfcc-4b00-8b3b-417ecfcbd841"
      },
      "source": [
        "if 'ShriShti' == 'Shrishti':\n",
        "  print('This statement is False')\n",
        "elif 'ShriShtI' == 'shrishti':\n",
        "  print('This statement is False')\n",
        "else:\n",
        "  print('This statement is True')"
      ],
      "execution_count": 29,
      "outputs": [
        {
          "output_type": "stream",
          "name": "stdout",
          "text": [
            "This statement is True\n"
          ]
        }
      ]
    },
    {
      "cell_type": "code",
      "metadata": {
        "id": "cZKbXTtVxzAG",
        "colab": {
          "base_uri": "https://localhost:8080/"
        },
        "outputId": "3b095b7a-7fca-404d-ba9b-64ff106e1705"
      },
      "source": [
        "if 'HELLO' == 'Hello':\n",
        "  print('This statement is False')\n",
        "elif 'Hello' == 'Hello':\n",
        "  print('This statement is True')\n",
        "else:\n",
        "  print('This statement is Null')"
      ],
      "execution_count": 30,
      "outputs": [
        {
          "output_type": "stream",
          "name": "stdout",
          "text": [
            "This statement is True\n"
          ]
        }
      ]
    },
    {
      "cell_type": "code",
      "metadata": {
        "id": "qXCMo76Wxy95",
        "colab": {
          "base_uri": "https://localhost:8080/"
        },
        "outputId": "155fb5df-a0a8-44e3-a459-f9b550a5bd48"
      },
      "source": [
        "# Let's take an input from the user and grant or deny access accordingly\n",
        "name = input('Enter your name: ')\n",
        "\n",
        "if name == 'Shrishti':\n",
        "  print('Access granted')\n",
        "else:\n",
        "  print('Access denied')"
      ],
      "execution_count": 31,
      "outputs": [
        {
          "output_type": "stream",
          "name": "stdout",
          "text": [
            "Enter your name: shrishti\n",
            "Access denied\n"
          ]
        }
      ]
    },
    {
      "cell_type": "code",
      "metadata": {
        "id": "mgZaUUxhxy75",
        "colab": {
          "base_uri": "https://localhost:8080/"
        },
        "outputId": "f5b875b4-fb7b-4654-e370-bcf11b82549b"
      },
      "source": [
        "# Let's make the code more robust (case insensitive)\n",
        "name = input('Enter your name: ')\n",
        "\n",
        "if name == 'Shrishti' or name == 'SHRISHTI' or name == 'shrishti':\n",
        "  print('Access granted')\n",
        "else:\n",
        "  print('Access denied')\n"
      ],
      "execution_count": 33,
      "outputs": [
        {
          "output_type": "stream",
          "name": "stdout",
          "text": [
            "Enter your name: SHRISHTI\n",
            "Access granted\n"
          ]
        }
      ]
    },
    {
      "cell_type": "markdown",
      "metadata": {
        "id": "E9b_qCZ12Baz"
      },
      "source": [
        "**MINI CHALLENGE #4:**\n",
        "- **Write a code that takes a number from the user and indicates if it's positive or negative**"
      ]
    },
    {
      "cell_type": "code",
      "metadata": {
        "id": "I4-RpDvp2kHG",
        "colab": {
          "base_uri": "https://localhost:8080/"
        },
        "outputId": "c723027d-6dca-4d2f-a5e4-a5fa5aebee58"
      },
      "source": [
        "number = int(input('Enter any number: '))\n",
        "\n",
        "if number > 0:\n",
        "  print('The number you have entered is POSITIVE')\n",
        "elif number < 0:\n",
        "  print('The number you have entered is NEGATIVE')\n",
        "else:\n",
        "  print('The number is ZERO')"
      ],
      "execution_count": 50,
      "outputs": [
        {
          "output_type": "stream",
          "name": "stdout",
          "text": [
            "Enter any number: -2\n",
            "The number you have entered is NEGATIVE\n"
          ]
        }
      ]
    },
    {
      "cell_type": "markdown",
      "metadata": {
        "id": "OnJwHMUe2Ztp"
      },
      "source": [
        "**MINI CHALLENGE #5:**\n",
        "- **Write a code that takes a number from the user and checks if the number is divisible by 3 but is not a multiple of 7**"
      ]
    },
    {
      "cell_type": "code",
      "metadata": {
        "id": "KHv409N93OjP",
        "colab": {
          "base_uri": "https://localhost:8080/"
        },
        "outputId": "7673659f-0b0b-47d8-8709-cb3c630e5a30"
      },
      "source": [
        "numbers = int(input('Enter your number: '))\n",
        "\n",
        "if (numbers % 3 == 0) and (numbers % 7 != 0):\n",
        "  print('This is correct number')\n",
        "else:\n",
        "  print('This is wrong number')"
      ],
      "execution_count": 44,
      "outputs": [
        {
          "output_type": "stream",
          "name": "stdout",
          "text": [
            "Enter your number: 21\n",
            "This is wrong number\n"
          ]
        }
      ]
    },
    {
      "cell_type": "markdown",
      "metadata": {
        "id": "bMs3OKSo29_D"
      },
      "source": [
        "**MINI CHALLENGE #6:** \n",
        "- **Write a code that takes a number from the user and indicate if the number is even or odd**"
      ]
    },
    {
      "cell_type": "code",
      "metadata": {
        "id": "RaDyZQqC28Ya",
        "colab": {
          "base_uri": "https://localhost:8080/"
        },
        "outputId": "8b46ecf9-0078-46dc-dd9b-491f3712182c"
      },
      "source": [
        "even_odd_no = int(input('Enter your age: '))\n",
        "\n",
        "if (even_odd_no % 2 == 0):\n",
        "  print('You are even')\n",
        "else:\n",
        "  print('You are odd')"
      ],
      "execution_count": 47,
      "outputs": [
        {
          "output_type": "stream",
          "name": "stdout",
          "text": [
            "Enter your age: 21\n",
            "You are odd\n"
          ]
        }
      ]
    }
  ]
}