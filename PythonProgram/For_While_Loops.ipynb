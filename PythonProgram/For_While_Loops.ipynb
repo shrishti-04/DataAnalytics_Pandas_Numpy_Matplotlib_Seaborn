{
  "nbformat": 4,
  "nbformat_minor": 0,
  "metadata": {
    "colab": {
      "name": "Copy of Appendix 4. Python 101 - For While Loops, Range, List Comprehension - Skeleton.ipynb",
      "provenance": [],
      "collapsed_sections": [],
      "include_colab_link": true
    },
    "kernelspec": {
      "name": "python3",
      "display_name": "Python 3"
    }
  },
  "cells": [
    {
      "cell_type": "markdown",
      "metadata": {
        "id": "view-in-github",
        "colab_type": "text"
      },
      "source": [
        "<a href=\"https://colab.research.google.com/github/shrishti-04/DataAnalytics_Pandas_Numpy_Matplotlib_Seaborn/blob/master/For_While_Loops.ipynb\" target=\"_parent\"><img src=\"https://colab.research.google.com/assets/colab-badge.svg\" alt=\"Open In Colab\"/></a>"
      ]
    },
    {
      "cell_type": "markdown",
      "metadata": {
        "id": "BK5uIrxoLRtf"
      },
      "source": [
        "# 1. FOR LOOPS"
      ]
    },
    {
      "cell_type": "code",
      "metadata": {
        "id": "IeM5ykmzHuYB",
        "colab": {
          "base_uri": "https://localhost:8080/"
        },
        "outputId": "f238bff0-c1b0-4830-ea07-7aae6580eb9b"
      },
      "source": [
        "# For loops are used for iterating over a sequence (a list, a tuple, a dictionary, a set, or a string).\n",
        "# An action can be executed once for each item in a list, tuple of the for loop.\n",
        "my_list = [1, 2, 3]\n",
        "my_list"
      ],
      "execution_count": null,
      "outputs": [
        {
          "output_type": "execute_result",
          "data": {
            "text/plain": [
              "[1, 2, 3]"
            ]
          },
          "metadata": {},
          "execution_count": 1
        }
      ]
    },
    {
      "cell_type": "code",
      "metadata": {
        "id": "R0jpLRvsJ4Yf",
        "colab": {
          "base_uri": "https://localhost:8080/"
        },
        "outputId": "5983a190-72b6-4ec2-a043-13915a16b419"
      },
      "source": [
        "for i in my_list:\n",
        "  print(i)"
      ],
      "execution_count": null,
      "outputs": [
        {
          "output_type": "stream",
          "name": "stdout",
          "text": [
            "1\n",
            "2\n",
            "3\n"
          ]
        }
      ]
    },
    {
      "cell_type": "code",
      "metadata": {
        "id": "a5dXYSWBJ5Ze",
        "colab": {
          "base_uri": "https://localhost:8080/"
        },
        "outputId": "c58ebd14-a879-45f9-ce15-84c5b702fddd"
      },
      "source": [
        "# you can do more than one task for every loop such as printing out 'Hello world' \n",
        "for i in my_list:\n",
        "  print(i)\n",
        "  print('Hello World')"
      ],
      "execution_count": null,
      "outputs": [
        {
          "output_type": "stream",
          "name": "stdout",
          "text": [
            "1\n",
            "Hello World\n",
            "2\n",
            "Hello World\n",
            "3\n",
            "Hello World\n"
          ]
        }
      ]
    },
    {
      "cell_type": "code",
      "metadata": {
        "id": "q76leWB9J5bx",
        "colab": {
          "base_uri": "https://localhost:8080/"
        },
        "outputId": "62d9cb7f-79f1-4fa4-fd27-7b802f3e435b"
      },
      "source": [
        "# List of strings\n",
        "my_list = ['AAPL', 'GOOG', 'T', 'TSLA', 'SP500']\n",
        "my_list"
      ],
      "execution_count": null,
      "outputs": [
        {
          "output_type": "execute_result",
          "data": {
            "text/plain": [
              "['AAPL', 'GOOG', 'T', 'TSLA', 'SP500']"
            ]
          },
          "metadata": {},
          "execution_count": 4
        }
      ]
    },
    {
      "cell_type": "code",
      "metadata": {
        "id": "DD9E3VLPJ5fo",
        "colab": {
          "base_uri": "https://localhost:8080/"
        },
        "outputId": "29de3f95-d340-489b-a013-3c5163e009c9"
      },
      "source": [
        "for i in my_list:\n",
        "  print(i)"
      ],
      "execution_count": null,
      "outputs": [
        {
          "output_type": "stream",
          "name": "stdout",
          "text": [
            "AAPL\n",
            "GOOG\n",
            "T\n",
            "TSLA\n",
            "SP500\n"
          ]
        }
      ]
    },
    {
      "cell_type": "code",
      "metadata": {
        "id": "2QI7iU17J5j_",
        "colab": {
          "base_uri": "https://localhost:8080/"
        },
        "outputId": "49e37ee0-7d85-4e1f-d9d1-dc3b3e75d56f"
      },
      "source": [
        "# you can loop over a string as follows\n",
        "for i in 'TSLA':\n",
        "  print(i)"
      ],
      "execution_count": null,
      "outputs": [
        {
          "output_type": "stream",
          "name": "stdout",
          "text": [
            "T\n",
            "S\n",
            "L\n",
            "A\n"
          ]
        }
      ]
    },
    {
      "cell_type": "markdown",
      "metadata": {
        "id": "VHeLtXS0Z5XU"
      },
      "source": [
        "**MINI CHALLENGE #1:**\n",
        "- **Write a code that takes in a string and prints it out on the screen except for any letter 'T'. You can replace the letter 'T' with '*'.**"
      ]
    },
    {
      "cell_type": "code",
      "source": [
        "for i in 'TTSGJVNTATTG':\n",
        "  if i == 'T':\n",
        "    print('*')\n",
        "  else:\n",
        "    print(i)\n",
        "  "
      ],
      "metadata": {
        "id": "PrgpurQB_kh_",
        "outputId": "52bd62d0-74f4-4e58-e9dd-81d100563a79",
        "colab": {
          "base_uri": "https://localhost:8080/"
        }
      },
      "execution_count": null,
      "outputs": [
        {
          "output_type": "stream",
          "name": "stdout",
          "text": [
            "*\n",
            "*\n",
            "S\n",
            "G\n",
            "J\n",
            "V\n",
            "N\n",
            "*\n",
            "A\n",
            "*\n",
            "*\n",
            "G\n"
          ]
        }
      ]
    },
    {
      "cell_type": "markdown",
      "metadata": {
        "id": "5ShxNDJeLVVo"
      },
      "source": [
        "# 2. RANGE"
      ]
    },
    {
      "cell_type": "code",
      "metadata": {
        "id": "fsH8H4IwJ5mi"
      },
      "source": [
        "# Range() generates a list of numbers, which is used to iterate over with for loops.\n",
        "# range() is 0-index based, meaning list indexes start at 0, not 1. \n",
        "# The last integer generated by range() is up to, but not including, last element. \n",
        "# Example: range(0, 10) generates integers from 0 up to, but not including, 10."
      ],
      "execution_count": null,
      "outputs": []
    },
    {
      "cell_type": "code",
      "metadata": {
        "id": "LfnqYODNJ5qq",
        "colab": {
          "base_uri": "https://localhost:8080/"
        },
        "outputId": "7f86a17e-6eef-408c-cb7b-2534e68e8e07"
      },
      "source": [
        "for i in range(6):\n",
        "  print(i)"
      ],
      "execution_count": null,
      "outputs": [
        {
          "output_type": "stream",
          "name": "stdout",
          "text": [
            "0\n",
            "1\n",
            "2\n",
            "3\n",
            "4\n",
            "5\n"
          ]
        }
      ]
    },
    {
      "cell_type": "code",
      "metadata": {
        "id": "b4XBIA2KJ5pT",
        "colab": {
          "base_uri": "https://localhost:8080/"
        },
        "outputId": "d79c8fcd-235e-4401-95b6-9ad57e975b4c"
      },
      "source": [
        "# Range of numbers from 1 to 20 with steps of 2\n",
        "for i in range(1, 20, 2):\n",
        "  print(i)"
      ],
      "execution_count": null,
      "outputs": [
        {
          "output_type": "stream",
          "name": "stdout",
          "text": [
            "1\n",
            "3\n",
            "5\n",
            "7\n",
            "9\n",
            "11\n",
            "13\n",
            "15\n",
            "17\n",
            "19\n"
          ]
        }
      ]
    },
    {
      "cell_type": "code",
      "metadata": {
        "id": "dOpRLPUNJ5iO",
        "colab": {
          "base_uri": "https://localhost:8080/"
        },
        "outputId": "5b126507-a4c0-49ec-aec1-e1df54018914"
      },
      "source": [
        "for i in reversed(range(10)):\n",
        "  print(i)"
      ],
      "execution_count": null,
      "outputs": [
        {
          "output_type": "stream",
          "name": "stdout",
          "text": [
            "9\n",
            "8\n",
            "7\n",
            "6\n",
            "5\n",
            "4\n",
            "3\n",
            "2\n",
            "1\n",
            "0\n"
          ]
        }
      ]
    },
    {
      "cell_type": "code",
      "metadata": {
        "id": "S4ZZ5HlFbMoY"
      },
      "source": [
        ""
      ],
      "execution_count": null,
      "outputs": []
    },
    {
      "cell_type": "markdown",
      "metadata": {
        "id": "eRgAw_bLbNBj"
      },
      "source": [
        "**MINI CHALLENGE #2:**\n",
        "- **Write a code that takes in the maximum and minimum limits from the user and prints out even numbers only between the provided range**"
      ]
    },
    {
      "cell_type": "code",
      "metadata": {
        "id": "TzPMQq-obcAI",
        "colab": {
          "base_uri": "https://localhost:8080/"
        },
        "outputId": "581c6fbe-6317-41b2-cc4f-99c325273268"
      },
      "source": [
        "min_price = int(input('Enter the minimum price(lower bound): '))\n",
        "max_price = int(input('Enter the maximum price(upper bound): '))\n",
        "\n",
        "for i in range(min_price, max_price):\n",
        "  if (i % 2 == 0):\n",
        "      print(i)\n"
      ],
      "execution_count": null,
      "outputs": [
        {
          "output_type": "stream",
          "name": "stdout",
          "text": [
            "Enter the minimum price(lower bound): 19\n",
            "Enter the maximum price(upper bound): 41\n",
            "20\n",
            "22\n",
            "24\n",
            "26\n",
            "28\n",
            "30\n",
            "32\n",
            "34\n",
            "36\n",
            "38\n",
            "40\n"
          ]
        }
      ]
    },
    {
      "cell_type": "markdown",
      "metadata": {
        "id": "KoBeo2-NW-IG"
      },
      "source": [
        "**MINI CHALLENGE #3:**\n",
        "- **Write a code that generates the following table:**\n",
        "```\n",
        "1   1    1\n",
        "2   4    8\n",
        "3   9   27\n",
        "4  16   64\n",
        "5  25  125\n",
        "6  36  216\n",
        "7  49  343\n",
        "8  64  512\n",
        "9  81  729\n",
        "10 100 1000\n",
        "```\n",
        "\n",
        "\n"
      ]
    },
    {
      "cell_type": "code",
      "source": [
        "for x in range(1, 11):\n",
        "  print('{}  {}  {}'.format(x, x*x, x*x*x))"
      ],
      "metadata": {
        "id": "PCtQRNQniZX9",
        "outputId": "4065e775-e7ba-4aa7-9e0e-be62ff1fe134",
        "colab": {
          "base_uri": "https://localhost:8080/"
        }
      },
      "execution_count": null,
      "outputs": [
        {
          "output_type": "stream",
          "name": "stdout",
          "text": [
            "1  1  1\n",
            "2  4  8\n",
            "3  9  27\n",
            "4  16  64\n",
            "5  25  125\n",
            "6  36  216\n",
            "7  49  343\n",
            "8  64  512\n",
            "9  81  729\n",
            "10  100  1000\n"
          ]
        }
      ]
    },
    {
      "cell_type": "markdown",
      "metadata": {
        "id": "7xt72C8NNgN8"
      },
      "source": [
        "# 3. WHILE LOOPS"
      ]
    },
    {
      "cell_type": "code",
      "metadata": {
        "id": "G1Du3nteNlfR",
        "colab": {
          "base_uri": "https://localhost:8080/"
        },
        "outputId": "0c7b80c7-bf03-47ca-c9f7-ceb91358ea99"
      },
      "source": [
        "# While loop can be used to execute a set of statements as long as a certain condition holds true.\n",
        "i = 0\n",
        "\n",
        "while i<=15:\n",
        "  print(i)\n",
        "  i = i + 1"
      ],
      "execution_count": null,
      "outputs": [
        {
          "output_type": "stream",
          "name": "stdout",
          "text": [
            "0\n",
            "1\n",
            "2\n",
            "3\n",
            "4\n",
            "5\n",
            "6\n",
            "7\n",
            "8\n",
            "9\n",
            "10\n",
            "11\n",
            "12\n",
            "13\n",
            "14\n",
            "15\n"
          ]
        }
      ]
    },
    {
      "cell_type": "code",
      "metadata": {
        "id": "z0sUEdgvNoFe"
      },
      "source": [
        ""
      ],
      "execution_count": null,
      "outputs": []
    },
    {
      "cell_type": "markdown",
      "metadata": {
        "id": "lB2soXiSUWDd"
      },
      "source": [
        "**MINI CHALLENGE #4:**\n",
        "- **Write a code that displays numbers from 1 to 30 using for and while loops**\n"
      ]
    },
    {
      "cell_type": "code",
      "metadata": {
        "id": "RY_3xRVRXWuL",
        "colab": {
          "base_uri": "https://localhost:8080/"
        },
        "outputId": "cdb8dffd-50ef-4b2e-e265-a2dc990e34fe"
      },
      "source": [
        "i = 1\n",
        "\n",
        "while i<31:\n",
        "  print(i)\n",
        "  i = i + 1"
      ],
      "execution_count": null,
      "outputs": [
        {
          "output_type": "stream",
          "name": "stdout",
          "text": [
            "1\n",
            "2\n",
            "3\n",
            "4\n",
            "5\n",
            "6\n",
            "7\n",
            "8\n",
            "9\n",
            "10\n",
            "11\n",
            "12\n",
            "13\n",
            "14\n",
            "15\n",
            "16\n",
            "17\n",
            "18\n",
            "19\n",
            "20\n",
            "21\n",
            "22\n",
            "23\n",
            "24\n",
            "25\n",
            "26\n",
            "27\n",
            "28\n",
            "29\n",
            "30\n"
          ]
        }
      ]
    },
    {
      "cell_type": "code",
      "source": [
        "for i in range(1, 31):\n",
        "  print(i)"
      ],
      "metadata": {
        "id": "Dm9pW3gInjoI",
        "outputId": "bbc68969-2152-4e09-b01d-3630b706692e",
        "colab": {
          "base_uri": "https://localhost:8080/"
        }
      },
      "execution_count": null,
      "outputs": [
        {
          "output_type": "stream",
          "name": "stdout",
          "text": [
            "1\n",
            "2\n",
            "3\n",
            "4\n",
            "5\n",
            "6\n",
            "7\n",
            "8\n",
            "9\n",
            "10\n",
            "11\n",
            "12\n",
            "13\n",
            "14\n",
            "15\n",
            "16\n",
            "17\n",
            "18\n",
            "19\n",
            "20\n",
            "21\n",
            "22\n",
            "23\n",
            "24\n",
            "25\n",
            "26\n",
            "27\n",
            "28\n",
            "29\n",
            "30\n"
          ]
        }
      ]
    },
    {
      "cell_type": "markdown",
      "metadata": {
        "id": "ZIueG9h3XXTC"
      },
      "source": [
        "**MINI CHALLENGE #5:**\n",
        "- **Create a rolling dice game that assume we have two dice (#1 and #2). The dice is being thrown and a random number is generated everytime. The game should be designed such that it prompts the user to ask if he/she would like to keep playing or exit the game.**"
      ]
    },
    {
      "cell_type": "code",
      "source": [
        "import random\n",
        "rolling_dice = 'y'\n",
        "\n",
        "while rolling_dice == 'y':\n",
        "  print('Rolling the dice please wait!!')\n",
        "  print('The results for #dice1 is: ', random.randint(1, 6))\n",
        "  print('The results for #dice2 is: ', random.randint(1, 6))\n",
        "  \n",
        "  rolling_dice = input('Do you want to roll again? (y/n) ')\n",
        "  if rolling_dice == 'n':\n",
        "    print('Thank you!! Come Again')"
      ],
      "metadata": {
        "id": "F8W3AZ0NSjm8",
        "outputId": "de004088-2283-4d58-e4e8-1dbf162f361f",
        "colab": {
          "base_uri": "https://localhost:8080/"
        }
      },
      "execution_count": null,
      "outputs": [
        {
          "output_type": "stream",
          "name": "stdout",
          "text": [
            "Rolling the dice please wait!!\n",
            "The results for #dice1 is:  3\n",
            "The results for #dice2 is:  2\n",
            "Do you want to roll again? (y/n) y\n",
            "Rolling the dice please wait!!\n",
            "The results for #dice1 is:  5\n",
            "The results for #dice2 is:  5\n",
            "Do you want to roll again? (y/n) n\n",
            "Thank you!! Come Again\n"
          ]
        }
      ]
    },
    {
      "cell_type": "markdown",
      "metadata": {
        "id": "9wunXtl0M9sT"
      },
      "source": [
        "### 4. BREAK A LOOP"
      ]
    },
    {
      "cell_type": "code",
      "metadata": {
        "id": "Zl8mvmT3J5eY"
      },
      "source": [
        "# break() is used to exit a for loop or a while loop\n",
        "# continue() is used to skip the current block, and return to the \"for\" or \"while\" statement."
      ],
      "execution_count": null,
      "outputs": []
    },
    {
      "cell_type": "code",
      "metadata": {
        "id": "mYbZR3i6NH8k"
      },
      "source": [
        "my_list = ['GOOG', 'AAPL', 'T', 'SP500', 'TSLA']"
      ],
      "execution_count": null,
      "outputs": []
    },
    {
      "cell_type": "code",
      "metadata": {
        "id": "P0gbDVWVNMzw",
        "colab": {
          "base_uri": "https://localhost:8080/"
        },
        "outputId": "d79c8a76-d09b-4b7a-c9a3-0b2a7806659f"
      },
      "source": [
        "my_list"
      ],
      "execution_count": null,
      "outputs": [
        {
          "output_type": "execute_result",
          "data": {
            "text/plain": [
              "['GOOG', 'AAPL', 'T', 'SP500', 'TSLA']"
            ]
          },
          "metadata": {},
          "execution_count": 19
        }
      ]
    },
    {
      "cell_type": "code",
      "metadata": {
        "id": "JGerA93sNM4C",
        "colab": {
          "base_uri": "https://localhost:8080/"
        },
        "outputId": "3de4ffb9-29e7-4204-9dbe-feaafb971b35"
      },
      "source": [
        "# print out all elements in the list\n",
        "for i in my_list:\n",
        "  print(i)"
      ],
      "execution_count": null,
      "outputs": [
        {
          "output_type": "stream",
          "name": "stdout",
          "text": [
            "GOOG\n",
            "AAPL\n",
            "T\n",
            "SP500\n",
            "TSLA\n"
          ]
        }
      ]
    },
    {
      "cell_type": "code",
      "metadata": {
        "id": "7gsSn9R9NNBH",
        "colab": {
          "base_uri": "https://localhost:8080/"
        },
        "outputId": "37387a8c-790e-4eca-b35c-da40bfa6df4f"
      },
      "source": [
        "# print out all elements in the list up until the AT&T stock (Ticker Symbol = T) is detected\n",
        "for i in my_list:\n",
        "  if i == 'T':\n",
        "    break\n",
        "  print(i)\n",
        " "
      ],
      "execution_count": null,
      "outputs": [
        {
          "output_type": "stream",
          "name": "stdout",
          "text": [
            "GOOG\n",
            "AAPL\n"
          ]
        }
      ]
    },
    {
      "cell_type": "code",
      "metadata": {
        "id": "Rja3f7RiNM_F",
        "colab": {
          "base_uri": "https://localhost:8080/"
        },
        "outputId": "2b99d935-3111-4110-813a-3cce1a5b7001"
      },
      "source": [
        "# Print only odd elements and skip even numbers\n",
        "my_list = [1, 2, 3, 4, 5, 6, 7, 8, 9, 10]\n",
        "my_list\n",
        "\n",
        "for i in my_list:\n",
        "  if i%2 == 0:\n",
        "    continue\n",
        "  print(i)"
      ],
      "execution_count": null,
      "outputs": [
        {
          "output_type": "stream",
          "name": "stdout",
          "text": [
            "1\n",
            "3\n",
            "5\n",
            "7\n",
            "9\n"
          ]
        }
      ]
    },
    {
      "cell_type": "markdown",
      "metadata": {
        "id": "JF9CljMnYwEi"
      },
      "source": [
        "**MINI CHALLENGE #6:**\n",
        "- **Write a code that continiously gets data from the user and calculates the average and print out on the screen. The code exits when the user enters 'e'.**"
      ]
    },
    {
      "cell_type": "code",
      "metadata": {
        "id": "ynWaFl9LoIjw",
        "colab": {
          "base_uri": "https://localhost:8080/"
        },
        "outputId": "454912de-b861-45cb-c6e8-9dae4db4da9b"
      },
      "source": [
        "n = 0\n",
        "avg = 0\n",
        "\n",
        "while True:\n",
        "  x = input('Please enter your number: ')\n",
        "\n",
        "  if x == 'e':\n",
        "    break\n",
        "\n",
        "  x = int(x)\n",
        "  n = n + 1\n",
        "\n",
        "  avg = ((avg * (n - 1)) + x) / n\n",
        "  print('The average of the number you entered is ', avg)"
      ],
      "execution_count": null,
      "outputs": [
        {
          "name": "stdout",
          "output_type": "stream",
          "text": [
            "Please enter your number: 2\n",
            "The average of the number you entered is  2.0\n",
            "Please enter your number: 4\n",
            "The average of the number you entered is  3.0\n",
            "Please enter your number: 7\n",
            "The average of the number you entered is  4.333333333333333\n",
            "Please enter your number: e\n"
          ]
        }
      ]
    },
    {
      "cell_type": "markdown",
      "metadata": {
        "id": "22kF_RupOG2o"
      },
      "source": [
        "# 5. NESTED LOOPS"
      ]
    },
    {
      "cell_type": "code",
      "metadata": {
        "id": "rL6xaGIbNM69",
        "colab": {
          "base_uri": "https://localhost:8080/"
        },
        "outputId": "ba533c7c-9283-44b5-e53f-097f6720068b"
      },
      "source": [
        "# Nested loops are loops that exist inside the body of another loop\n",
        "for i in range(1, 4):   #slow loop\n",
        "  for j in range(1, 11):   #fast loop\n",
        "    print('{} * {} = {}'.format(i, j, i*j))"
      ],
      "execution_count": null,
      "outputs": [
        {
          "output_type": "stream",
          "name": "stdout",
          "text": [
            "1 * 1 = 1\n",
            "1 * 2 = 2\n",
            "1 * 3 = 3\n",
            "1 * 4 = 4\n",
            "1 * 5 = 5\n",
            "1 * 6 = 6\n",
            "1 * 7 = 7\n",
            "1 * 8 = 8\n",
            "1 * 9 = 9\n",
            "1 * 10 = 10\n",
            "2 * 1 = 2\n",
            "2 * 2 = 4\n",
            "2 * 3 = 6\n",
            "2 * 4 = 8\n",
            "2 * 5 = 10\n",
            "2 * 6 = 12\n",
            "2 * 7 = 14\n",
            "2 * 8 = 16\n",
            "2 * 9 = 18\n",
            "2 * 10 = 20\n",
            "3 * 1 = 3\n",
            "3 * 2 = 6\n",
            "3 * 3 = 9\n",
            "3 * 4 = 12\n",
            "3 * 5 = 15\n",
            "3 * 6 = 18\n",
            "3 * 7 = 21\n",
            "3 * 8 = 24\n",
            "3 * 9 = 27\n",
            "3 * 10 = 30\n"
          ]
        }
      ]
    },
    {
      "cell_type": "code",
      "metadata": {
        "id": "Xpe6MiCiNM2L",
        "colab": {
          "base_uri": "https://localhost:8080/"
        },
        "outputId": "086ec8cf-8257-4d42-ec5a-c0b5be6ea81c"
      },
      "source": [
        "my_color = ['Black', 'Gold', 'White']\n",
        "my_phone = ['iphone', 'Samsung', 'BlackBerry']\n",
        "\n",
        "for c in my_color:\n",
        "  for p in my_phone:\n",
        "    print(c, p)"
      ],
      "execution_count": null,
      "outputs": [
        {
          "output_type": "stream",
          "name": "stdout",
          "text": [
            "Black iphone\n",
            "Black Samsung\n",
            "Black BlackBerry\n",
            "Gold iphone\n",
            "Gold Samsung\n",
            "Gold BlackBerry\n",
            "White iphone\n",
            "White Samsung\n",
            "White BlackBerry\n"
          ]
        }
      ]
    },
    {
      "cell_type": "markdown",
      "metadata": {
        "id": "r9D5aZhAfa-O"
      },
      "source": [
        "**MINI CHALLENGE #7:**\n",
        "- **Write a code that takes in a number (range between 1 and 9) from the user and print out the multiplication table up until that number.**"
      ]
    },
    {
      "cell_type": "code",
      "metadata": {
        "id": "LD-wO03co0QI",
        "colab": {
          "base_uri": "https://localhost:8080/"
        },
        "outputId": "0c1b778e-935f-41a3-ffa0-5c3678b50a7d"
      },
      "source": [
        "number = int(input('Enter any number from 1 to 9: '))\n",
        "\n",
        "for x in range(1, number+1):\n",
        "  for y in range(1, 11):\n",
        "    print('{} * {} = {}'.format(x, y, x*y))"
      ],
      "execution_count": 32,
      "outputs": [
        {
          "output_type": "stream",
          "name": "stdout",
          "text": [
            "Enter any number from 1 to 9: 4\n",
            "1 * 1 = 1\n",
            "1 * 2 = 2\n",
            "1 * 3 = 3\n",
            "1 * 4 = 4\n",
            "1 * 5 = 5\n",
            "1 * 6 = 6\n",
            "1 * 7 = 7\n",
            "1 * 8 = 8\n",
            "1 * 9 = 9\n",
            "1 * 10 = 10\n",
            "2 * 1 = 2\n",
            "2 * 2 = 4\n",
            "2 * 3 = 6\n",
            "2 * 4 = 8\n",
            "2 * 5 = 10\n",
            "2 * 6 = 12\n",
            "2 * 7 = 14\n",
            "2 * 8 = 16\n",
            "2 * 9 = 18\n",
            "2 * 10 = 20\n",
            "3 * 1 = 3\n",
            "3 * 2 = 6\n",
            "3 * 3 = 9\n",
            "3 * 4 = 12\n",
            "3 * 5 = 15\n",
            "3 * 6 = 18\n",
            "3 * 7 = 21\n",
            "3 * 8 = 24\n",
            "3 * 9 = 27\n",
            "3 * 10 = 30\n",
            "4 * 1 = 4\n",
            "4 * 2 = 8\n",
            "4 * 3 = 12\n",
            "4 * 4 = 16\n",
            "4 * 5 = 20\n",
            "4 * 6 = 24\n",
            "4 * 7 = 28\n",
            "4 * 8 = 32\n",
            "4 * 9 = 36\n",
            "4 * 10 = 40\n"
          ]
        }
      ]
    },
    {
      "cell_type": "markdown",
      "metadata": {
        "id": "2-WphsjVPDiZ"
      },
      "source": [
        "# 6. LIST COMPREHENSION"
      ]
    },
    {
      "cell_type": "code",
      "metadata": {
        "id": "qz9csDMHPNWA",
        "colab": {
          "base_uri": "https://localhost:8080/"
        },
        "outputId": "7bb60e0c-546d-42af-b054-8d1c786dbcb9"
      },
      "source": [
        "# List comprehension is an elegant tool to transform one list into another list. \n",
        "# Instead of using loops and append, list comprehension is used to iterate over a list, condition its elements and include them in a new list.\n",
        "# Let's take a look at the traditional way of taking a list and squaring its elements\n",
        "input_list = [1, 2, 3, 4]\n",
        "output_list = []\n",
        "\n",
        "for i in input_list:\n",
        "  output_list.append(i ** 2)\n",
        "\n",
        "print(output_list)"
      ],
      "execution_count": 34,
      "outputs": [
        {
          "output_type": "stream",
          "name": "stdout",
          "text": [
            "[1, 4, 9, 16]\n"
          ]
        }
      ]
    },
    {
      "cell_type": "code",
      "metadata": {
        "id": "vw-8Z7adPdTP",
        "colab": {
          "base_uri": "https://localhost:8080/"
        },
        "outputId": "22ee5681-6206-433e-e73d-b53e67ba071f"
      },
      "source": [
        "# List comprehension is a super powerful one line of code!\n",
        "[i**2  for i in input_list  ]"
      ],
      "execution_count": 36,
      "outputs": [
        {
          "output_type": "execute_result",
          "data": {
            "text/plain": [
              "[1, 4, 9, 16]"
            ]
          },
          "metadata": {},
          "execution_count": 36
        }
      ]
    },
    {
      "cell_type": "code",
      "metadata": {
        "id": "az-FlBJsPwRh",
        "colab": {
          "base_uri": "https://localhost:8080/"
        },
        "outputId": "5e41541a-92c4-4247-8253-4bf17e27fa2f"
      },
      "source": [
        "# Let's square even numbers only \n",
        "# We need to insert a condition \n",
        "input_number = [1, 2, 4, 5, 6, 7, 8, 9, 10]\n",
        "output_number = []\n",
        "\n",
        "for i in input_number:\n",
        "  if i%2 == 0:\n",
        "    output_number.append(i ** 2)\n",
        "\n",
        "print(output_number)"
      ],
      "execution_count": 38,
      "outputs": [
        {
          "output_type": "stream",
          "name": "stdout",
          "text": [
            "[4, 16, 36, 64, 100]\n"
          ]
        }
      ]
    },
    {
      "cell_type": "code",
      "source": [
        "input_number = [1, 2, 4, 5, 6, 7, 8, 9, 10]\n",
        "output_number = []\n",
        "\n",
        "for i in input_number:\n",
        "  if i%2 == 0:\n",
        "    output_number.append(i ** 2)\n",
        "\n",
        "  print(output_number)"
      ],
      "metadata": {
        "colab": {
          "base_uri": "https://localhost:8080/"
        },
        "id": "OM-D8zEqx_no",
        "outputId": "727660dc-a6ad-4574-9319-35ae6bf867dd"
      },
      "execution_count": 39,
      "outputs": [
        {
          "output_type": "stream",
          "name": "stdout",
          "text": [
            "[]\n",
            "[4]\n",
            "[4, 16]\n",
            "[4, 16]\n",
            "[4, 16, 36]\n",
            "[4, 16, 36]\n",
            "[4, 16, 36, 64]\n",
            "[4, 16, 36, 64]\n",
            "[4, 16, 36, 64, 100]\n"
          ]
        }
      ]
    },
    {
      "cell_type": "code",
      "metadata": {
        "id": "zaREccpfP47m",
        "colab": {
          "base_uri": "https://localhost:8080/"
        },
        "outputId": "0cc865d9-54cf-4999-c47d-b35573f07d80"
      },
      "source": [
        "# All this could be done with one line of code as well using List Comprehension\n",
        "\n",
        "output_number = [i**2  for i in input_number   if i%2 == 0  ]\n",
        "output_number"
      ],
      "execution_count": 41,
      "outputs": [
        {
          "output_type": "execute_result",
          "data": {
            "text/plain": [
              "[4, 16, 36, 64, 100]"
            ]
          },
          "metadata": {},
          "execution_count": 41
        }
      ]
    },
    {
      "cell_type": "markdown",
      "metadata": {
        "id": "lIBSXypYX_3O"
      },
      "source": [
        "**MINI CHALLENGE #8:**\n",
        "- **Write a code that takes in a list of prices of a stock for the past 7 days and then normalize the prices** "
      ]
    },
    {
      "cell_type": "code",
      "metadata": {
        "id": "02iEvxCQQyZ7",
        "colab": {
          "base_uri": "https://localhost:8080/"
        },
        "outputId": "2d1abaf9-a38b-45f3-df49-48ff33831c1f"
      },
      "source": [
        "print('Enter your prices:')\n",
        "\n",
        "prices = [int(i)  for i in input().split()  ]"
      ],
      "execution_count": 44,
      "outputs": [
        {
          "name": "stdout",
          "output_type": "stream",
          "text": [
            "Enter your prices:\n",
            "3330 3333 3337 3339 3340\n"
          ]
        }
      ]
    },
    {
      "cell_type": "code",
      "source": [
        "prices"
      ],
      "metadata": {
        "colab": {
          "base_uri": "https://localhost:8080/"
        },
        "id": "HhVSoQvk1-Cy",
        "outputId": "b0a23dc2-c466-4d87-8107-e75603eac24e"
      },
      "execution_count": 45,
      "outputs": [
        {
          "output_type": "execute_result",
          "data": {
            "text/plain": [
              "[3330, 3333, 3337, 3339, 3340]"
            ]
          },
          "metadata": {},
          "execution_count": 45
        }
      ]
    },
    {
      "cell_type": "code",
      "source": [
        "normalized_prices = [i/prices[0]  for i in prices  ]\n",
        "print('Original Prices = {}\\nNormalized Prices = {}'.format(prices, normalized_prices))"
      ],
      "metadata": {
        "colab": {
          "base_uri": "https://localhost:8080/"
        },
        "id": "xTopVQGu2AhB",
        "outputId": "49d9ca69-6dbe-4adb-e861-7fbe7aeb1fdb"
      },
      "execution_count": 49,
      "outputs": [
        {
          "output_type": "stream",
          "name": "stdout",
          "text": [
            "Original Prices = [3330, 3333, 3337, 3339, 3340]\n",
            "Normalized Prices = [1.0, 1.000900900900901, 1.0021021021021022, 1.0027027027027027, 1.003003003003003]\n"
          ]
        }
      ]
    }
  ]
}