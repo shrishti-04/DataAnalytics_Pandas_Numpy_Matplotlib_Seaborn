{
  "nbformat": 4,
  "nbformat_minor": 0,
  "metadata": {
    "colab": {
      "name": "Appendix 5. Python 101 - Functions - Skeleton.ipynb",
      "provenance": [],
      "collapsed_sections": [],
      "include_colab_link": true
    },
    "kernelspec": {
      "name": "python3",
      "display_name": "Python 3"
    }
  },
  "cells": [
    {
      "cell_type": "markdown",
      "metadata": {
        "id": "view-in-github",
        "colab_type": "text"
      },
      "source": [
        "<a href=\"https://colab.research.google.com/github/shrishti-04/DataAnalytics_Pandas_Numpy_Matplotlib_Seaborn/blob/master/Functions.ipynb\" target=\"_parent\"><img src=\"https://colab.research.google.com/assets/colab-badge.svg\" alt=\"Open In Colab\"/></a>"
      ]
    },
    {
      "cell_type": "markdown",
      "metadata": {
        "id": "2qdHbV6LKCdn"
      },
      "source": [
        "# 1. BUILT-IN FUNCTIONS"
      ]
    },
    {
      "cell_type": "code",
      "metadata": {
        "id": "e027nLRtKclL"
      },
      "source": [
        "# There are many built-in functions that you can leverage directly \n",
        "# Let's define 2 lists x and y\n",
        "x = [4, 6, 1, 3, 5, 6]\n",
        "y = list(range(1, 7))"
      ],
      "execution_count": 1,
      "outputs": []
    },
    {
      "cell_type": "code",
      "metadata": {
        "id": "B_q1ds-xKcnQ",
        "colab": {
          "base_uri": "https://localhost:8080/"
        },
        "outputId": "3bb9e4d0-8485-4074-dce5-8600d6fb50ca"
      },
      "source": [
        "x"
      ],
      "execution_count": 2,
      "outputs": [
        {
          "output_type": "execute_result",
          "data": {
            "text/plain": [
              "[4, 6, 1, 3, 5, 6]"
            ]
          },
          "metadata": {},
          "execution_count": 2
        }
      ]
    },
    {
      "cell_type": "code",
      "metadata": {
        "id": "wlYds_UIK3Uq",
        "colab": {
          "base_uri": "https://localhost:8080/"
        },
        "outputId": "fd6f2872-c242-49f4-8233-7aa245a7d67b"
      },
      "source": [
        "y"
      ],
      "execution_count": 3,
      "outputs": [
        {
          "output_type": "execute_result",
          "data": {
            "text/plain": [
              "[1, 2, 3, 4, 5, 6]"
            ]
          },
          "metadata": {},
          "execution_count": 3
        }
      ]
    },
    {
      "cell_type": "code",
      "metadata": {
        "id": "sOb6YyohK3XA",
        "colab": {
          "base_uri": "https://localhost:8080/"
        },
        "outputId": "9d2ad644-ec43-49a2-e171-de3d6e5ecf13"
      },
      "source": [
        "# Let's obtain the length of y\n",
        "len(y)"
      ],
      "execution_count": 4,
      "outputs": [
        {
          "output_type": "execute_result",
          "data": {
            "text/plain": [
              "6"
            ]
          },
          "metadata": {},
          "execution_count": 4
        }
      ]
    },
    {
      "cell_type": "code",
      "metadata": {
        "id": "E2d-scjBK3f_",
        "colab": {
          "base_uri": "https://localhost:8080/"
        },
        "outputId": "dd31d394-db77-4010-9a6e-b230e4b6e572"
      },
      "source": [
        "# Let's obtain the minimum value \n",
        "min(x)"
      ],
      "execution_count": 5,
      "outputs": [
        {
          "output_type": "execute_result",
          "data": {
            "text/plain": [
              "1"
            ]
          },
          "metadata": {},
          "execution_count": 5
        }
      ]
    },
    {
      "cell_type": "code",
      "metadata": {
        "id": "MPcUuoY6K3id",
        "colab": {
          "base_uri": "https://localhost:8080/"
        },
        "outputId": "f5d90ec1-a8d8-440e-acd9-1fdd76ff4bd6"
      },
      "source": [
        "# Let's obtain the maximum value\n",
        "max(x)"
      ],
      "execution_count": 7,
      "outputs": [
        {
          "output_type": "execute_result",
          "data": {
            "text/plain": [
              "6"
            ]
          },
          "metadata": {},
          "execution_count": 7
        }
      ]
    },
    {
      "cell_type": "code",
      "metadata": {
        "id": "oo4EvfwgK3nQ"
      },
      "source": [
        "# Let's create a tuple out of the list\n",
        "z = tuple(x)"
      ],
      "execution_count": 8,
      "outputs": []
    },
    {
      "cell_type": "code",
      "metadata": {
        "id": "gbcSW9n5Lrf0",
        "colab": {
          "base_uri": "https://localhost:8080/"
        },
        "outputId": "9c8d40cc-8c39-45e7-8347-75e26ad78cad"
      },
      "source": [
        "z"
      ],
      "execution_count": 9,
      "outputs": [
        {
          "output_type": "execute_result",
          "data": {
            "text/plain": [
              "(4, 6, 1, 3, 5, 6)"
            ]
          },
          "metadata": {},
          "execution_count": 9
        }
      ]
    },
    {
      "cell_type": "code",
      "metadata": {
        "id": "S-BLWy_AK3lL",
        "colab": {
          "base_uri": "https://localhost:8080/"
        },
        "outputId": "bc506a4c-f948-45e7-b3c2-1c72af9ccb45"
      },
      "source": [
        "type(z)"
      ],
      "execution_count": 10,
      "outputs": [
        {
          "output_type": "execute_result",
          "data": {
            "text/plain": [
              "tuple"
            ]
          },
          "metadata": {},
          "execution_count": 10
        }
      ]
    },
    {
      "cell_type": "code",
      "metadata": {
        "id": "NYVetBn-Kcpk",
        "colab": {
          "base_uri": "https://localhost:8080/"
        },
        "outputId": "e71483b0-4d80-43f0-9af1-4aa9fc73fa73"
      },
      "source": [
        "# Let's obtain the sum of elements in x\n",
        "sum(x)"
      ],
      "execution_count": 11,
      "outputs": [
        {
          "output_type": "execute_result",
          "data": {
            "text/plain": [
              "25"
            ]
          },
          "metadata": {},
          "execution_count": 11
        }
      ]
    },
    {
      "cell_type": "markdown",
      "metadata": {
        "id": "CvaYA-XocFOc"
      },
      "source": [
        "**MINI CHALLENGE #1:**\n",
        "- **Write a code that takes in 2 lists x = [-1 -4 -7] and y = [-3 7 4] and  calculates the absolute sum of all its elements |x+y|**\n"
      ]
    },
    {
      "cell_type": "code",
      "metadata": {
        "id": "DMYqI7CBekNI",
        "colab": {
          "base_uri": "https://localhost:8080/"
        },
        "outputId": "e920810a-8265-443d-a681-9cf60d4e278c"
      },
      "source": [
        "x = [-1, -4, -7]\n",
        "y = [-3, 7, 4]\n",
        "\n",
        "z = abs(sum(x + y))\n",
        "z"
      ],
      "execution_count": 16,
      "outputs": [
        {
          "output_type": "execute_result",
          "data": {
            "text/plain": [
              "4"
            ]
          },
          "metadata": {},
          "execution_count": 16
        }
      ]
    },
    {
      "cell_type": "markdown",
      "metadata": {
        "id": "AHrwK11xMArY"
      },
      "source": [
        "# 2. FUNCTIONS"
      ]
    },
    {
      "cell_type": "code",
      "metadata": {
        "id": "LhhFvM60MGrX"
      },
      "source": [
        "# Let's define a function named \"my_function\" that does not receive any arguments\n",
        "# The function simply prints out content and does not return anything\n",
        "def my_function():\n",
        "  print('Welcome to my code source')"
      ],
      "execution_count": 17,
      "outputs": []
    },
    {
      "cell_type": "code",
      "metadata": {
        "id": "-jJdkGlGMGwE",
        "colab": {
          "base_uri": "https://localhost:8080/"
        },
        "outputId": "c5b113e3-c0c4-4c79-bd3a-2c50c896b75e"
      },
      "source": [
        "# Function call\n",
        "my_function()"
      ],
      "execution_count": 18,
      "outputs": [
        {
          "output_type": "stream",
          "name": "stdout",
          "text": [
            "Welcome to my code source\n"
          ]
        }
      ]
    },
    {
      "cell_type": "code",
      "metadata": {
        "id": "OSVyOu91MGuW"
      },
      "source": [
        "# Define a function that takes in argument x and return the squared value \n",
        "def square(x):\n",
        "  return x**2"
      ],
      "execution_count": 19,
      "outputs": []
    },
    {
      "cell_type": "code",
      "metadata": {
        "id": "NVPrMz2_MPz1",
        "colab": {
          "base_uri": "https://localhost:8080/"
        },
        "outputId": "b1e17c0c-1bf0-4df3-8303-db67cb9911ec"
      },
      "source": [
        "# Call the function\n",
        "y = square(3)\n",
        "y"
      ],
      "execution_count": 20,
      "outputs": [
        {
          "output_type": "execute_result",
          "data": {
            "text/plain": [
              "9"
            ]
          },
          "metadata": {},
          "execution_count": 20
        }
      ]
    },
    {
      "cell_type": "code",
      "metadata": {
        "id": "6ET-hFiSMPxi"
      },
      "source": [
        "# Define a function with default value \n",
        "def my_function(amount = 0.0):\n",
        "  print('My portfolio worth is: {}'.format(amount))"
      ],
      "execution_count": 21,
      "outputs": []
    },
    {
      "cell_type": "code",
      "metadata": {
        "id": "-tiaDshNM48J",
        "colab": {
          "base_uri": "https://localhost:8080/"
        },
        "outputId": "93e1f420-a3c4-4020-8f02-8a7b3a6a7aac"
      },
      "source": [
        "# If you pass an argument to the function, it overwrites the default value \n",
        "my_function(4000)"
      ],
      "execution_count": 22,
      "outputs": [
        {
          "output_type": "stream",
          "name": "stdout",
          "text": [
            "My portfolio worth is: 4000\n"
          ]
        }
      ]
    },
    {
      "cell_type": "code",
      "metadata": {
        "id": "-cPR_Cg-M6nm",
        "colab": {
          "base_uri": "https://localhost:8080/"
        },
        "outputId": "63d1d0fa-f03e-418a-a411-147d6a254dba"
      },
      "source": [
        "# If you don't pass an argument, the default value \"20000\" will be used instead\n",
        "my_function()"
      ],
      "execution_count": 24,
      "outputs": [
        {
          "output_type": "stream",
          "name": "stdout",
          "text": [
            "My portfolio worth is: 0.0\n"
          ]
        }
      ]
    },
    {
      "cell_type": "markdown",
      "metadata": {
        "id": "DB1zlBEEfDlA"
      },
      "source": [
        "**MINI CHALLENGE #2:** \n",
        "- **Write a code that takes in two inputs (number of shares and prices) from the user and calculate the total account balance**"
      ]
    },
    {
      "cell_type": "code",
      "metadata": {
        "id": "s7fbv5eApK97"
      },
      "source": [
        "def my_balance(shares, prices):\n",
        "  amount = shares * prices\n",
        "  return amount"
      ],
      "execution_count": 29,
      "outputs": []
    },
    {
      "cell_type": "code",
      "source": [
        "num_shares = int(input('Enter the number of shares: '))\n",
        "num_prices = int(input('Enter the price of shares: '))\n",
        "\n",
        "total_amount = my_balance(num_shares, num_prices)\n",
        "print('Total account balance in bank is {}'.format(total_amount))"
      ],
      "metadata": {
        "colab": {
          "base_uri": "https://localhost:8080/"
        },
        "id": "UNReOOldXF9u",
        "outputId": "828a7f5e-142c-4f5c-9155-d2336d5a5db7"
      },
      "execution_count": 30,
      "outputs": [
        {
          "output_type": "stream",
          "name": "stdout",
          "text": [
            "Enter the number of shares: 6\n",
            "Enter the price of shares: 3500\n",
            "Total account balance in bank is 21000\n"
          ]
        }
      ]
    },
    {
      "cell_type": "markdown",
      "metadata": {
        "id": "lBj4QkQEpLkX"
      },
      "source": [
        "# 3. LAMBDA EXPRESSIONS "
      ]
    },
    {
      "cell_type": "code",
      "metadata": {
        "id": "YtkjNLEypRTb"
      },
      "source": [
        "# Lambda function is used to create a function without a name \n",
        "# Lambda functions are mainly used with filter() and map() [they will be discussed later on]. \n",
        "# Lambda function can receive any number of arguments, but can only have one expression."
      ],
      "execution_count": null,
      "outputs": []
    },
    {
      "cell_type": "code",
      "metadata": {
        "id": "FV5-hEWdpRdd"
      },
      "source": [
        "# let's see how to create a basic function that squares the input\n",
        "def my_function(x):\n",
        "  square = x**2\n",
        "  return square"
      ],
      "execution_count": 31,
      "outputs": []
    },
    {
      "cell_type": "code",
      "metadata": {
        "id": "cQZDrvwCpRa3",
        "colab": {
          "base_uri": "https://localhost:8080/"
        },
        "outputId": "330fb725-0443-4de9-c487-87fe9b1819ef"
      },
      "source": [
        "# Function call\n",
        "my_function(4)"
      ],
      "execution_count": 32,
      "outputs": [
        {
          "output_type": "execute_result",
          "data": {
            "text/plain": [
              "16"
            ]
          },
          "metadata": {},
          "execution_count": 32
        }
      ]
    },
    {
      "cell_type": "code",
      "metadata": {
        "id": "r5u0-IOBpRZq"
      },
      "source": [
        "# We can do the same task using Lambda expression\n",
        "# Note that there is no function name\n",
        "z = lambda x:x**2"
      ],
      "execution_count": 33,
      "outputs": []
    },
    {
      "cell_type": "code",
      "metadata": {
        "id": "hLsuWg7apRW9",
        "colab": {
          "base_uri": "https://localhost:8080/"
        },
        "outputId": "cfc62740-7726-4954-8f4e-dbef6bb29fd3"
      },
      "source": [
        "z(5)"
      ],
      "execution_count": 34,
      "outputs": [
        {
          "output_type": "execute_result",
          "data": {
            "text/plain": [
              "25"
            ]
          },
          "metadata": {},
          "execution_count": 34
        }
      ]
    },
    {
      "cell_type": "code",
      "metadata": {
        "id": "OKcE7JHBuzTj"
      },
      "source": [
        "# Note that lambda expression can take in more than one argument \n",
        "# there is only one expression that could be performed\n",
        "def summation(x, y, z):\n",
        "  return x+y+z"
      ],
      "execution_count": 35,
      "outputs": []
    },
    {
      "cell_type": "code",
      "metadata": {
        "id": "VyEdRTwXuzQ4",
        "colab": {
          "base_uri": "https://localhost:8080/"
        },
        "outputId": "8551b4ff-1621-4941-9518-4cb38f84dcd7"
      },
      "source": [
        "result = summation(4, 6, 3)\n",
        "result"
      ],
      "execution_count": 36,
      "outputs": [
        {
          "output_type": "execute_result",
          "data": {
            "text/plain": [
              "13"
            ]
          },
          "metadata": {},
          "execution_count": 36
        }
      ]
    },
    {
      "cell_type": "code",
      "metadata": {
        "id": "kAuNql-zuzPE"
      },
      "source": [
        "answer = lambda x, y, z: x + y + z"
      ],
      "execution_count": 37,
      "outputs": []
    },
    {
      "cell_type": "code",
      "metadata": {
        "id": "8PfLE79Lvuvg",
        "colab": {
          "base_uri": "https://localhost:8080/"
        },
        "outputId": "15b441fd-bada-4a4b-c7ce-920902ccfe84"
      },
      "source": [
        "answer(4, 6, 8)"
      ],
      "execution_count": 38,
      "outputs": [
        {
          "output_type": "execute_result",
          "data": {
            "text/plain": [
              "18"
            ]
          },
          "metadata": {},
          "execution_count": 38
        }
      ]
    },
    {
      "cell_type": "markdown",
      "metadata": {
        "id": "KTRBKK97fQGG"
      },
      "source": [
        "**MINI CHALLENGE #3:**\n",
        "- **Repeat mini challenge #2 (Write a code that takes in two inputs from the user and calculates the total) using lambda expressions instead**"
      ]
    },
    {
      "cell_type": "code",
      "metadata": {
        "id": "jz5bvTOmuHhG"
      },
      "source": [
        "balance = lambda shares, price: shares*price"
      ],
      "execution_count": 39,
      "outputs": []
    },
    {
      "cell_type": "code",
      "source": [
        "shares_num = int(input('Enter the number of shares: '))\n",
        "price_num = int(input('Enter the price of shares: '))\n",
        "\n",
        "total_amount = balance(shares_num, price_num)\n",
        "print('The total bank account balance in bank is {}'.format(total_amount))"
      ],
      "metadata": {
        "colab": {
          "base_uri": "https://localhost:8080/"
        },
        "id": "NDhAd11WhKKE",
        "outputId": "577309cf-b19d-41c6-bbc1-156a6f3148e3"
      },
      "execution_count": 40,
      "outputs": [
        {
          "output_type": "stream",
          "name": "stdout",
          "text": [
            "Enter the number of shares: 3\n",
            "Enter the price of shares: 50\n",
            "The total bank account balance in bank is 150\n"
          ]
        }
      ]
    },
    {
      "cell_type": "markdown",
      "metadata": {
        "id": "S8pekOcjKF6H"
      },
      "source": [
        "# 4. MAP "
      ]
    },
    {
      "cell_type": "code",
      "metadata": {
        "id": "-zx6IFX7KdKi"
      },
      "source": [
        "# The map() function takes in a function and a list.\n",
        "# map() performs an operation on the entire list and return the results in a new list.\n",
        "# Define two lists a and b\n",
        "x = [5, 3, 7, 9, 4]\n",
        "y = [2, 6, 4, 3, 9]"
      ],
      "execution_count": 41,
      "outputs": []
    },
    {
      "cell_type": "code",
      "metadata": {
        "id": "l4AEJ33iih46"
      },
      "source": [
        "# Let's define a function that adds two elements together\n",
        "def summation(x, y):\n",
        "  return x+y"
      ],
      "execution_count": 42,
      "outputs": []
    },
    {
      "cell_type": "code",
      "metadata": {
        "id": "8ZEm6BjIKdQ7",
        "colab": {
          "base_uri": "https://localhost:8080/"
        },
        "outputId": "9ba8727f-cbba-48d0-8dca-9007c0e47023"
      },
      "source": [
        "# You can now use map() to apply a function to the entire list and generate a new list\n",
        "z = list(map(summation, x, y))\n",
        "z"
      ],
      "execution_count": 43,
      "outputs": [
        {
          "output_type": "execute_result",
          "data": {
            "text/plain": [
              "[7, 9, 11, 12, 13]"
            ]
          },
          "metadata": {},
          "execution_count": 43
        }
      ]
    },
    {
      "cell_type": "code",
      "metadata": {
        "id": "pc6LxQQFKdM2",
        "colab": {
          "base_uri": "https://localhost:8080/"
        },
        "outputId": "33048021-44d9-409f-b6b1-ef35f2f2f407"
      },
      "source": [
        "# map could be used with Lambda as follows\n",
        "# lambda function is an anonymous function that take any number of arguments and can only have one expression\n",
        "input_list = [8, 2, 5, 3]\n",
        "\n",
        "out_list = list(map(  lambda x:x**2, input_list  ))\n",
        "out_list"
      ],
      "execution_count": 44,
      "outputs": [
        {
          "output_type": "execute_result",
          "data": {
            "text/plain": [
              "[64, 4, 25, 9]"
            ]
          },
          "metadata": {},
          "execution_count": 44
        }
      ]
    },
    {
      "cell_type": "markdown",
      "metadata": {
        "id": "Dj4Wcbr1gLo8"
      },
      "source": [
        "**MINI CHALLENGE #4:**\n",
        "- **Write a function that takes an argument and return its cubic value**\n",
        "- **Define a list of integers ranging from -10 to 10** \n",
        "- **Apply the function to the entire list and generate a new output list** \n"
      ]
    },
    {
      "cell_type": "code",
      "metadata": {
        "id": "pqXiuFVxvU18"
      },
      "source": [
        "def numbers_cubed(x):\n",
        "  return x*x*x"
      ],
      "execution_count": 46,
      "outputs": []
    },
    {
      "cell_type": "code",
      "source": [
        "integers = list(range(-10, 11))\n",
        "integers"
      ],
      "metadata": {
        "colab": {
          "base_uri": "https://localhost:8080/"
        },
        "id": "t9J49mTSpnre",
        "outputId": "8f3e98fd-f1bc-482e-eaaa-4d5c5cf09988"
      },
      "execution_count": 48,
      "outputs": [
        {
          "output_type": "execute_result",
          "data": {
            "text/plain": [
              "[-10, -9, -8, -7, -6, -5, -4, -3, -2, -1, 0, 1, 2, 3, 4, 5, 6, 7, 8, 9, 10]"
            ]
          },
          "metadata": {},
          "execution_count": 48
        }
      ]
    },
    {
      "cell_type": "code",
      "source": [
        "cubic_value = list(map(lambda x:numbers_cubed(x), integers))\n",
        "cubic_value"
      ],
      "metadata": {
        "colab": {
          "base_uri": "https://localhost:8080/"
        },
        "id": "WlUlg9j3p0rP",
        "outputId": "8ee8fc99-1044-4b44-d987-1941173acf39"
      },
      "execution_count": 51,
      "outputs": [
        {
          "output_type": "execute_result",
          "data": {
            "text/plain": [
              "[-1000,\n",
              " -729,\n",
              " -512,\n",
              " -343,\n",
              " -216,\n",
              " -125,\n",
              " -64,\n",
              " -27,\n",
              " -8,\n",
              " -1,\n",
              " 0,\n",
              " 1,\n",
              " 8,\n",
              " 27,\n",
              " 64,\n",
              " 125,\n",
              " 216,\n",
              " 343,\n",
              " 512,\n",
              " 729,\n",
              " 1000]"
            ]
          },
          "metadata": {},
          "execution_count": 51
        }
      ]
    },
    {
      "cell_type": "markdown",
      "metadata": {
        "id": "BtAxpyeGKGA1"
      },
      "source": [
        "# 5. FILTER\n"
      ]
    },
    {
      "cell_type": "code",
      "metadata": {
        "id": "D5LVa00JKdz0",
        "colab": {
          "base_uri": "https://localhost:8080/"
        },
        "outputId": "120f8efd-1897-47ae-9839-84c8d5ed2efa"
      },
      "source": [
        "# filter is used to create a list of elements for which a function returns \"True\".\n",
        "my_list = [50, 380, 283, 460, 235, 155, 340, 68, 477]\n",
        "my_list"
      ],
      "execution_count": 55,
      "outputs": [
        {
          "output_type": "execute_result",
          "data": {
            "text/plain": [
              "[50, 380, 283, 460, 235, 155, 340, 68, 477]"
            ]
          },
          "metadata": {},
          "execution_count": 55
        }
      ]
    },
    {
      "cell_type": "code",
      "metadata": {
        "id": "cgQq4hlcKd4A",
        "colab": {
          "base_uri": "https://localhost:8080/"
        },
        "outputId": "7f93a642-c4cc-483e-c810-1d267f82d2e9"
      },
      "source": [
        "# return only even numbers\n",
        "out = list(filter( lambda x: (x%2 == 0), my_list ))\n",
        "out"
      ],
      "execution_count": 57,
      "outputs": [
        {
          "output_type": "execute_result",
          "data": {
            "text/plain": [
              "[50, 380, 460, 340, 68]"
            ]
          },
          "metadata": {},
          "execution_count": 57
        }
      ]
    },
    {
      "cell_type": "code",
      "metadata": {
        "id": "shory4UpKd2Y",
        "colab": {
          "base_uri": "https://localhost:8080/"
        },
        "outputId": "a9e4b3ff-729c-4629-f3ce-9a066a3e09b4"
      },
      "source": [
        "# Return prices that are greater than or equal 100\n",
        "out = list(filter(  lambda x: (x >= 100), my_list  ))\n",
        "out"
      ],
      "execution_count": 59,
      "outputs": [
        {
          "output_type": "execute_result",
          "data": {
            "text/plain": [
              "[380, 283, 460, 235, 155, 340, 477]"
            ]
          },
          "metadata": {},
          "execution_count": 59
        }
      ]
    },
    {
      "cell_type": "code",
      "metadata": {
        "id": "uQi17-h_hlSf",
        "colab": {
          "base_uri": "https://localhost:8080/"
        },
        "outputId": "a47e512e-2980-4b92-9d55-b26109ffa13a"
      },
      "source": [
        "# Return age between 200 and 250\n",
        "out = list(filter(  lambda x: (x >= 200 and x <= 250), my_list ))\n",
        "out"
      ],
      "execution_count": 60,
      "outputs": [
        {
          "output_type": "execute_result",
          "data": {
            "text/plain": [
              "[235]"
            ]
          },
          "metadata": {},
          "execution_count": 60
        }
      ]
    },
    {
      "cell_type": "markdown",
      "metadata": {
        "id": "JZIiCmyvh7EW"
      },
      "source": [
        "**MINI CHALLENGE #5:**\n",
        "- **Write a code from the user that takes in a range (upper and lower bounds) and returns a list of positive and even numbers only** \n"
      ]
    },
    {
      "cell_type": "code",
      "metadata": {
        "id": "4JDq7Y04ve0S",
        "colab": {
          "base_uri": "https://localhost:8080/"
        },
        "outputId": "227b9674-d729-4f69-c05a-0dd23341d3b3"
      },
      "source": [
        "min = int(input('Enter the negative number (lower bound): '))\n",
        "max = int(input('Enter the positive number (upper bound): '))\n",
        "\n",
        "numbers = range(min, max)\n",
        "even_positive_number = list(filter(  lambda x: x > 0 and x%2 == 0, numbers  ))\n",
        "print(even_positive_number)"
      ],
      "execution_count": 61,
      "outputs": [
        {
          "output_type": "stream",
          "name": "stdout",
          "text": [
            "Enter the negative number (lower bound): -20\n",
            "Enter the positive number (upper bound): 40\n",
            "[2, 4, 6, 8, 10, 12, 14, 16, 18, 20, 22, 24, 26, 28, 30, 32, 34, 36, 38]\n"
          ]
        }
      ]
    }
  ]
}