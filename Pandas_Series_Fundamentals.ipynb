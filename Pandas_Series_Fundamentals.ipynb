{
  "nbformat": 4,
  "nbformat_minor": 0,
  "metadata": {
    "colab": {
      "name": "Copy of Pandas Series Fundamentals - Skeleton.ipynb",
      "provenance": [],
      "collapsed_sections": [],
      "include_colab_link": true
    },
    "kernelspec": {
      "name": "python3",
      "display_name": "Python 3"
    }
  },
  "cells": [
    {
      "cell_type": "markdown",
      "metadata": {
        "id": "view-in-github",
        "colab_type": "text"
      },
      "source": [
        "<a href=\"https://colab.research.google.com/github/shrishti-04/DataAnalytics_Pandas_Numpy_Matplotlib_Seaborn/blob/master/Pandas_Series_Fundamentals.ipynb\" target=\"_parent\"><img src=\"https://colab.research.google.com/assets/colab-badge.svg\" alt=\"Open In Colab\"/></a>"
      ]
    },
    {
      "cell_type": "markdown",
      "metadata": {
        "id": "1ivPDcc7p8lD"
      },
      "source": [
        "# 1. DEFINE A PANDAS SERIES (WITH NUMERIC DEFAULT INDEX)"
      ]
    },
    {
      "cell_type": "code",
      "metadata": {
        "id": "4YdCraz8p_XF"
      },
      "source": [
        "# Pandas is a data manipulation and analysis tool that is built on Numpy.\n",
        "# Pandas uses a data structure known as DataFrame (think of it as Microsoft excel in Python). \n",
        "# DataFrames empower programmers to store and manipulate data in a tabular fashion (rows and columns).\n",
        "# Series Vs. DataFrame? Series is considered a single column of a DataFrame."
      ],
      "execution_count": 1,
      "outputs": []
    },
    {
      "cell_type": "code",
      "metadata": {
        "id": "6H2808pkqKIR"
      },
      "source": [
        "import pandas as pd"
      ],
      "execution_count": 2,
      "outputs": []
    },
    {
      "cell_type": "code",
      "metadata": {
        "colab": {
          "base_uri": "https://localhost:8080/"
        },
        "id": "SA9m0RD3K2TF",
        "outputId": "76eba170-8c59-4bd6-d5b1-f7fb10649a1a"
      },
      "source": [
        "# Let's define a Python list that contains 5 stocks: Nvidia, Microsoft, FaceBook, Amazon, and Boeing\n",
        "my_list = ['NVDA', 'MSFT', 'FB', 'AMZN', 'BA']\n",
        "my_list"
      ],
      "execution_count": 3,
      "outputs": [
        {
          "output_type": "execute_result",
          "data": {
            "text/plain": [
              "['NVDA', 'MSFT', 'FB', 'AMZN', 'BA']"
            ]
          },
          "metadata": {},
          "execution_count": 3
        }
      ]
    },
    {
      "cell_type": "code",
      "metadata": {
        "colab": {
          "base_uri": "https://localhost:8080/"
        },
        "id": "G-fooAckNafC",
        "outputId": "83c640ff-fa1a-4afc-d26e-4ea3ea4d0d6a"
      },
      "source": [
        "# Let's confirm the Datatype\n",
        "type(my_list)"
      ],
      "execution_count": 5,
      "outputs": [
        {
          "output_type": "execute_result",
          "data": {
            "text/plain": [
              "list"
            ]
          },
          "metadata": {},
          "execution_count": 5
        }
      ]
    },
    {
      "cell_type": "code",
      "metadata": {
        "colab": {
          "base_uri": "https://localhost:8080/"
        },
        "id": "hle4zw51K6-P",
        "outputId": "ca3e1e9a-14ca-4034-f130-e26a707f278a"
      },
      "source": [
        "# Let's create a one dimensional Pandas \"series\" \n",
        "# Let's use Pandas Constructor Method to create a series from a Python list\n",
        "# Note that series is formed of data and associated index (numeric index has been automatically generated) \n",
        "# Check Pandas Documentation for More information: https://pandas.pydata.org/pandas-docs/stable/reference/api/pandas.Series.html#pandas.Series\n",
        "# Object datatype is used for text data (String)\n",
        "\n",
        "series_1 = pd.Series(data = my_list)\n",
        "series_1"
      ],
      "execution_count": 4,
      "outputs": [
        {
          "output_type": "execute_result",
          "data": {
            "text/plain": [
              "0    NVDA\n",
              "1    MSFT\n",
              "2      FB\n",
              "3    AMZN\n",
              "4      BA\n",
              "dtype: object"
            ]
          },
          "metadata": {},
          "execution_count": 4
        }
      ]
    },
    {
      "cell_type": "code",
      "metadata": {
        "colab": {
          "base_uri": "https://localhost:8080/"
        },
        "id": "-HNCtPcoNUyf",
        "outputId": "eef1374d-9fe3-4df1-f922-0155a4a72a8c"
      },
      "source": [
        "# Let's confirm the Pandas Series Datatype\n",
        "type(series_1)"
      ],
      "execution_count": 6,
      "outputs": [
        {
          "output_type": "execute_result",
          "data": {
            "text/plain": [
              "pandas.core.series.Series"
            ]
          },
          "metadata": {},
          "execution_count": 6
        }
      ]
    },
    {
      "cell_type": "code",
      "metadata": {
        "colab": {
          "base_uri": "https://localhost:8080/"
        },
        "id": "LB2J-qw5LdQI",
        "outputId": "89c29a7e-af86-4d61-ffab-672ea92375b5"
      },
      "source": [
        "# Let's define another Pandas Series that contains numeric values (stock prices) instead of text data\n",
        "# Note that we have int64 datatype which means it's integer stored in 64 bits in memory\n",
        "series_2 = pd.Series(data = [100, 200, 500, 1000, 2000])\n",
        "series_2"
      ],
      "execution_count": 7,
      "outputs": [
        {
          "output_type": "execute_result",
          "data": {
            "text/plain": [
              "0     100\n",
              "1     200\n",
              "2     500\n",
              "3    1000\n",
              "4    2000\n",
              "dtype: int64"
            ]
          },
          "metadata": {},
          "execution_count": 7
        }
      ]
    },
    {
      "cell_type": "markdown",
      "metadata": {
        "id": "8C0UN46KIntM"
      },
      "source": [
        "**MINI CHALLENGE #1:**\n",
        "- **Define a Pandas Series named \"my_series\" that contains your top 3 favourite movies. Confirm the datatype of \"my_series\"**"
      ]
    },
    {
      "cell_type": "code",
      "metadata": {
        "id": "l2aMAKvpJyWH",
        "colab": {
          "base_uri": "https://localhost:8080/"
        },
        "outputId": "bde8729c-8cf0-427c-bbaf-5e84d9785329"
      },
      "source": [
        "movies_1 = ['Jab We Met', 'Titanic', 'Stranger Things']\n",
        "movies_series = pd.Series(data = movies_1)\n",
        "movies_series"
      ],
      "execution_count": 8,
      "outputs": [
        {
          "output_type": "execute_result",
          "data": {
            "text/plain": [
              "0         Jab We Met\n",
              "1            Titanic\n",
              "2    Stranger Things\n",
              "dtype: object"
            ]
          },
          "metadata": {},
          "execution_count": 8
        }
      ]
    },
    {
      "cell_type": "code",
      "source": [
        "type(movies_series)"
      ],
      "metadata": {
        "colab": {
          "base_uri": "https://localhost:8080/"
        },
        "id": "55lAVSnE2FRe",
        "outputId": "0a3c642f-c1e1-4de2-a395-4a5bf494fa68"
      },
      "execution_count": 9,
      "outputs": [
        {
          "output_type": "execute_result",
          "data": {
            "text/plain": [
              "pandas.core.series.Series"
            ]
          },
          "metadata": {},
          "execution_count": 9
        }
      ]
    },
    {
      "cell_type": "markdown",
      "metadata": {
        "id": "XN92TgiQOD7I"
      },
      "source": [
        "# 2. DEFINE A PANDAS SERIES WITH CUSTOM INDEX"
      ]
    },
    {
      "cell_type": "code",
      "metadata": {
        "id": "K4Y9jVx1OaN4"
      },
      "source": [
        "# Let's define a Python list that contains 5 stocks: Nvidia, Microsoft, FaceBook, Amazon, and Boeing\n",
        "list_1 = ['NVDA', 'MSFT', 'FB', 'AMZN', 'BA']"
      ],
      "execution_count": 10,
      "outputs": []
    },
    {
      "cell_type": "code",
      "metadata": {
        "id": "ZSxdgs_xJvxx"
      },
      "source": [
        "# Let's define a python list as shown below. This python list will be used for the Series index:\n",
        "lable_1 = ['stock#1', 'stock#2', 'stock#3', 'stock#4', 'stock#5']"
      ],
      "execution_count": 11,
      "outputs": []
    },
    {
      "cell_type": "code",
      "metadata": {
        "id": "U4Fq06XwqX9v"
      },
      "source": [
        "# Let's create a one dimensional Pandas \"series\" \n",
        "# Let's use Pandas Constructor Method to create a series from a Python list\n",
        "# Note that this series is formed of data and associated labels \n",
        "series_3 = pd.Series(data = list_1, index = lable_1)"
      ],
      "execution_count": 12,
      "outputs": []
    },
    {
      "cell_type": "code",
      "metadata": {
        "id": "YhPzprisqX_8",
        "colab": {
          "base_uri": "https://localhost:8080/"
        },
        "outputId": "e671f796-4403-4a3c-ab9d-c0a86ff21243"
      },
      "source": [
        "# Let's view the series\n",
        "series_3"
      ],
      "execution_count": 13,
      "outputs": [
        {
          "output_type": "execute_result",
          "data": {
            "text/plain": [
              "stock#1    NVDA\n",
              "stock#2    MSFT\n",
              "stock#3      FB\n",
              "stock#4    AMZN\n",
              "stock#5      BA\n",
              "dtype: object"
            ]
          },
          "metadata": {},
          "execution_count": 13
        }
      ]
    },
    {
      "cell_type": "code",
      "metadata": {
        "id": "4LPwMO8fsvi1",
        "colab": {
          "base_uri": "https://localhost:8080/"
        },
        "outputId": "9b93504f-71ca-4506-e504-f9065a379b30"
      },
      "source": [
        "# Let's obtain the datatype\n",
        "type(series_3)"
      ],
      "execution_count": 14,
      "outputs": [
        {
          "output_type": "execute_result",
          "data": {
            "text/plain": [
              "pandas.core.series.Series"
            ]
          },
          "metadata": {},
          "execution_count": 14
        }
      ]
    },
    {
      "cell_type": "markdown",
      "metadata": {
        "id": "13icipAKL4W5"
      },
      "source": [
        "**MINI CHALLENGE #2:**\n",
        "- **Define a Pandas Series named \"my_series\" that contains your top 3 favourite movies. Instead of using default numeric indexes (similar to mini challenge #1), use the following indexes \"movie #1\", \"Movie #2\", and \"movie #3\"**"
      ]
    },
    {
      "cell_type": "code",
      "source": [
        "list_2 = ['Jab We Met', 'Titanic', 'Stranger Things']"
      ],
      "metadata": {
        "id": "McCDCvRc0dWk"
      },
      "execution_count": 15,
      "outputs": []
    },
    {
      "cell_type": "code",
      "source": [
        "lable_2 = ['movie #1', 'movie #2', 'movie #3']"
      ],
      "metadata": {
        "id": "p2o2AgDD0oB5"
      },
      "execution_count": 16,
      "outputs": []
    },
    {
      "cell_type": "code",
      "source": [
        "series_4 = pd.Series(data = list_2, index = lable_2)\n",
        "series_4"
      ],
      "metadata": {
        "colab": {
          "base_uri": "https://localhost:8080/"
        },
        "id": "NSzrr_Ie0_EA",
        "outputId": "4fcd554b-61f8-46d7-9dee-0321f75a985e"
      },
      "execution_count": 17,
      "outputs": [
        {
          "output_type": "execute_result",
          "data": {
            "text/plain": [
              "movie #1         Jab We Met\n",
              "movie #2            Titanic\n",
              "movie #3    Stranger Things\n",
              "dtype: object"
            ]
          },
          "metadata": {},
          "execution_count": 17
        }
      ]
    },
    {
      "cell_type": "markdown",
      "metadata": {
        "id": "96EH6h9SQYW1"
      },
      "source": [
        "# 3. DEFINE A PANDAS SERIES FROM A DICTIONARY"
      ]
    },
    {
      "cell_type": "code",
      "metadata": {
        "id": "fk9R_fZlML_y"
      },
      "source": [
        "# A Dictionary consists of a collection of key-value pairs. Each key-value pair maps the key to its corresponding value.\n",
        "# Keys are unique within a dictionary while values may not be. \n",
        "# List elements are accessed by their position in the list, via indexing while Dictionary elements are accessed via keys\n",
        "# Define a dictionary named \"my_dict\" using key-value pairs\n",
        "\n",
        "dict_1 = {'Bank client id': 201,\n",
        "          'Bank client name': 'Shrishti',\n",
        "          'Net worth (INR)': 45000,\n",
        "          'Years with bank': 6,}"
      ],
      "execution_count": 18,
      "outputs": []
    },
    {
      "cell_type": "code",
      "metadata": {
        "id": "BlHhf-YPQdrB",
        "colab": {
          "base_uri": "https://localhost:8080/"
        },
        "outputId": "afae7ed5-a2bb-4785-e011-2ea60c825660"
      },
      "source": [
        "# Show the dictionary\n",
        "dict_1"
      ],
      "execution_count": 19,
      "outputs": [
        {
          "output_type": "execute_result",
          "data": {
            "text/plain": [
              "{'Bank client id': 201,\n",
              " 'Bank client name': 'Shrishti',\n",
              " 'Net worth (INR)': 45000,\n",
              " 'Years with bank': 6}"
            ]
          },
          "metadata": {},
          "execution_count": 19
        }
      ]
    },
    {
      "cell_type": "code",
      "metadata": {
        "colab": {
          "base_uri": "https://localhost:8080/"
        },
        "id": "0b4KQo3JMcI0",
        "outputId": "12ad4d6c-c527-4493-85ab-630b412c32c1"
      },
      "source": [
        "# Confirm the dictionary datatype \n",
        "type(dict_1)"
      ],
      "execution_count": 20,
      "outputs": [
        {
          "output_type": "execute_result",
          "data": {
            "text/plain": [
              "dict"
            ]
          },
          "metadata": {},
          "execution_count": 20
        }
      ]
    },
    {
      "cell_type": "code",
      "metadata": {
        "colab": {
          "base_uri": "https://localhost:8080/"
        },
        "id": "LeH27Q4aQeXe",
        "outputId": "8a724398-05b2-4020-8113-6350bfb0c50c"
      },
      "source": [
        "# Let's define a Pandas Series Using the dictionary\n",
        "series_5 = pd.Series(dict_1)\n",
        "series_5"
      ],
      "execution_count": 21,
      "outputs": [
        {
          "output_type": "execute_result",
          "data": {
            "text/plain": [
              "Bank client id           201\n",
              "Bank client name    Shrishti\n",
              "Net worth (INR)        45000\n",
              "Years with bank            6\n",
              "dtype: object"
            ]
          },
          "metadata": {},
          "execution_count": 21
        }
      ]
    },
    {
      "cell_type": "markdown",
      "metadata": {
        "id": "_Tk4kxlLNI85"
      },
      "source": [
        "**MINI CHALLENGE #3:**\n",
        "- **Create a Pandas Series from a dictionary with 3 of your favourite stocks and their corresponding prices** "
      ]
    },
    {
      "cell_type": "code",
      "metadata": {
        "id": "nlG7J4oKNLuY",
        "colab": {
          "base_uri": "https://localhost:8080/"
        },
        "outputId": "1d4e54d5-7af3-48ee-8df8-174abc13d00a"
      },
      "source": [
        "my_dict = {'Netflix': 990,\n",
        "           'AMZN': 1500,\n",
        "           'MSFT': 1200}\n",
        "\n",
        "print(my_dict)"
      ],
      "execution_count": 22,
      "outputs": [
        {
          "output_type": "stream",
          "name": "stdout",
          "text": [
            "{'Netflix': 990, 'AMZN': 1500, 'MSFT': 1200}\n"
          ]
        }
      ]
    },
    {
      "cell_type": "code",
      "source": [
        "series_6 = pd.Series(my_dict)\n",
        "series_6"
      ],
      "metadata": {
        "colab": {
          "base_uri": "https://localhost:8080/"
        },
        "id": "VGmJmTNjQR8Z",
        "outputId": "3acbe760-3c1c-468d-af31-4408e6217eb7"
      },
      "execution_count": 23,
      "outputs": [
        {
          "output_type": "execute_result",
          "data": {
            "text/plain": [
              "Netflix     990\n",
              "AMZN       1500\n",
              "MSFT       1200\n",
              "dtype: int64"
            ]
          },
          "metadata": {},
          "execution_count": 23
        }
      ]
    },
    {
      "cell_type": "markdown",
      "metadata": {
        "id": "VGlb7t7WRIR3"
      },
      "source": [
        "# 4. PANDAS ATTRIBUTES"
      ]
    },
    {
      "cell_type": "code",
      "metadata": {
        "id": "p4FauWQlRRD8",
        "colab": {
          "base_uri": "https://localhost:8080/"
        },
        "outputId": "f36a50e3-27f7-4b3f-a887-25aab4141931"
      },
      "source": [
        "# Attributes/Properties: do not use parantheses \"()\" and are used to get Pandas Series Properties. Ex: my_series.values, my_series.shape\n",
        "# Methods: use parantheses \"()\" and might include arguments and they actually alter/change the Pandas Series. Ex: my_series.tail(), my_series.head(), my_series.drop_duplicates()\n",
        "# Indexers: use square brackets \"[]\" and are used to access specific elements in a Pandas Series or DataFrame. Ex: my_series.loc[], my_series.iloc[]\n",
        "\n",
        "# Let's redefine a Pandas Series containing our favourite 5 stocks \n",
        "# Nvidia, Microsoft, FaceBook, Amazon, and Boeing\n",
        "\n",
        "list_3 = ['NVDA', 'MSFT', 'FB', 'AMZN', 'BA']\n",
        "series_7 = pd.Series(data = list_3)\n",
        "series_7"
      ],
      "execution_count": 24,
      "outputs": [
        {
          "output_type": "execute_result",
          "data": {
            "text/plain": [
              "0    NVDA\n",
              "1    MSFT\n",
              "2      FB\n",
              "3    AMZN\n",
              "4      BA\n",
              "dtype: object"
            ]
          },
          "metadata": {},
          "execution_count": 24
        }
      ]
    },
    {
      "cell_type": "code",
      "metadata": {
        "colab": {
          "base_uri": "https://localhost:8080/"
        },
        "id": "KBgZI_vHQeeA",
        "outputId": "5ed32702-33fc-480e-9061-acfb71a6ab15"
      },
      "source": [
        "# \".Values\" attribute is used to return Series as ndarray depending on its dtype\n",
        "# Check this for more information: https://pandas.pydata.org/docs/reference/api/pandas.Series.values.html#pandas.Series.values\n",
        "series_7.values"
      ],
      "execution_count": 25,
      "outputs": [
        {
          "output_type": "execute_result",
          "data": {
            "text/plain": [
              "array(['NVDA', 'MSFT', 'FB', 'AMZN', 'BA'], dtype=object)"
            ]
          },
          "metadata": {},
          "execution_count": 25
        }
      ]
    },
    {
      "cell_type": "code",
      "metadata": {
        "colab": {
          "base_uri": "https://localhost:8080/"
        },
        "id": "YDunyBEQRtoJ",
        "outputId": "50e203af-5b56-4779-831a-b2853c4c0713"
      },
      "source": [
        "# index is used to return the index (axis labels) of the Series\n",
        "series_7.index"
      ],
      "execution_count": 26,
      "outputs": [
        {
          "output_type": "execute_result",
          "data": {
            "text/plain": [
              "RangeIndex(start=0, stop=5, step=1)"
            ]
          },
          "metadata": {},
          "execution_count": 26
        }
      ]
    },
    {
      "cell_type": "code",
      "metadata": {
        "colab": {
          "base_uri": "https://localhost:8080/"
        },
        "id": "7bgfGfQaSrqw",
        "outputId": "f492c61f-f5e0-47c8-ca79-08e97d7e70fd"
      },
      "source": [
        "# dtype is used to return the datatype of the Series ('O' stands for 'object' datatype)\n",
        "series_7.dtype"
      ],
      "execution_count": 27,
      "outputs": [
        {
          "output_type": "execute_result",
          "data": {
            "text/plain": [
              "dtype('O')"
            ]
          },
          "metadata": {},
          "execution_count": 27
        }
      ]
    },
    {
      "cell_type": "code",
      "metadata": {
        "colab": {
          "base_uri": "https://localhost:8080/"
        },
        "id": "XeQtP9v2dxzu",
        "outputId": "ae3d57c0-0a84-4317-d974-ea0ec2cd8399"
      },
      "source": [
        "# Check if all elements are unique or not\n",
        "series_7.is_unique"
      ],
      "execution_count": 28,
      "outputs": [
        {
          "output_type": "execute_result",
          "data": {
            "text/plain": [
              "True"
            ]
          },
          "metadata": {},
          "execution_count": 28
        }
      ]
    },
    {
      "cell_type": "code",
      "metadata": {
        "colab": {
          "base_uri": "https://localhost:8080/"
        },
        "id": "8VWnKVh0d7Kw",
        "outputId": "cecd3b19-246d-4ae4-88c2-535d63bec5b5"
      },
      "source": [
        "# Check the shape of the Series\n",
        "# note that a Series is one dimensional\n",
        "series_7.shape"
      ],
      "execution_count": 29,
      "outputs": [
        {
          "output_type": "execute_result",
          "data": {
            "text/plain": [
              "(5,)"
            ]
          },
          "metadata": {},
          "execution_count": 29
        }
      ]
    },
    {
      "cell_type": "markdown",
      "metadata": {
        "id": "gPL7KbA3XGr1"
      },
      "source": [
        "**MINI CHALLENGE #4:** \n",
        "- **What is the size of the Pandas Series? (External Research for the proper attribute is Required)**"
      ]
    },
    {
      "cell_type": "code",
      "metadata": {
        "id": "SyfddtryXbmX",
        "colab": {
          "base_uri": "https://localhost:8080/"
        },
        "outputId": "4d0d84c3-0095-4f81-d6d2-37cf39b8cefe"
      },
      "source": [
        "series_7.size"
      ],
      "execution_count": 30,
      "outputs": [
        {
          "output_type": "execute_result",
          "data": {
            "text/plain": [
              "5"
            ]
          },
          "metadata": {},
          "execution_count": 30
        }
      ]
    },
    {
      "cell_type": "markdown",
      "metadata": {
        "id": "Qc7sVau-UtYt"
      },
      "source": [
        "# 5. PANDAS METHODS"
      ]
    },
    {
      "cell_type": "code",
      "metadata": {
        "colab": {
          "base_uri": "https://localhost:8080/"
        },
        "id": "5gwWM4VvUxI2",
        "outputId": "15b851cc-49ce-455d-c60c-b373a20bf982"
      },
      "source": [
        "# Methods have parentheses and they actually alter/change the Pandas Series\n",
        "# Methods: use parantheses \"()\" and might include arguments. Ex: my_series.tail(), my_series.head(), my_series.drop_duplicates()\n",
        "\n",
        "# Let's define another Pandas Series that contains numeric values (stock prices) instead of text data\n",
        "# Note that we have int64 datatype which means it contains integer values stored in 64 bits in memory\n",
        "\n",
        "series_8 = pd.Series(data = [100, 200, 500, 1000, 5000])\n",
        "series_8 "
      ],
      "execution_count": 31,
      "outputs": [
        {
          "output_type": "execute_result",
          "data": {
            "text/plain": [
              "0     100\n",
              "1     200\n",
              "2     500\n",
              "3    1000\n",
              "4    5000\n",
              "dtype: int64"
            ]
          },
          "metadata": {},
          "execution_count": 31
        }
      ]
    },
    {
      "cell_type": "code",
      "metadata": {
        "colab": {
          "base_uri": "https://localhost:8080/"
        },
        "id": "ImwFgVASUxLa",
        "outputId": "fa16c9d4-c427-4cd2-8ca0-c9bf7c7bf450"
      },
      "source": [
        "# Let's obtain the sum of all elements in the Pandas Series\n",
        "series_8.sum()"
      ],
      "execution_count": 32,
      "outputs": [
        {
          "output_type": "execute_result",
          "data": {
            "text/plain": [
              "6800"
            ]
          },
          "metadata": {},
          "execution_count": 32
        }
      ]
    },
    {
      "cell_type": "code",
      "metadata": {
        "colab": {
          "base_uri": "https://localhost:8080/"
        },
        "id": "OLa69YwxUxOa",
        "outputId": "43aed449-f59b-4a21-d708-1100597eb051"
      },
      "source": [
        "# Let's obtain the multiplication of all elements in the Pandas Series\n",
        "series_8.product()"
      ],
      "execution_count": 33,
      "outputs": [
        {
          "output_type": "execute_result",
          "data": {
            "text/plain": [
              "50000000000000"
            ]
          },
          "metadata": {},
          "execution_count": 33
        }
      ]
    },
    {
      "cell_type": "code",
      "metadata": {
        "colab": {
          "base_uri": "https://localhost:8080/"
        },
        "id": "xVMJtbtkUxQ-",
        "outputId": "4975ea82-88a9-42e1-dda9-dd0788f21fd4"
      },
      "source": [
        "# Let's obtain the average\n",
        "series_8.mean()"
      ],
      "execution_count": 34,
      "outputs": [
        {
          "output_type": "execute_result",
          "data": {
            "text/plain": [
              "1360.0"
            ]
          },
          "metadata": {},
          "execution_count": 34
        }
      ]
    },
    {
      "cell_type": "code",
      "metadata": {
        "colab": {
          "base_uri": "https://localhost:8080/"
        },
        "id": "FgqSFr98YTUw",
        "outputId": "ee9391ea-1cbc-4fca-9b64-2d8a6adc70cf"
      },
      "source": [
        "# Let's show the first couple of elements in the Pandas Series\n",
        "series_8.head(2)"
      ],
      "execution_count": 35,
      "outputs": [
        {
          "output_type": "execute_result",
          "data": {
            "text/plain": [
              "0    100\n",
              "1    200\n",
              "dtype: int64"
            ]
          },
          "metadata": {},
          "execution_count": 35
        }
      ]
    },
    {
      "cell_type": "code",
      "metadata": {
        "colab": {
          "base_uri": "https://localhost:8080/"
        },
        "id": "GFoxw41LZrBs",
        "outputId": "ae5dc3ec-0924-4d28-dfa4-b7c7e84d3faf"
      },
      "source": [
        "# Note that head creates a new dataframe \n",
        "new_series = series_8.head(3)\n",
        "new_series"
      ],
      "execution_count": 36,
      "outputs": [
        {
          "output_type": "execute_result",
          "data": {
            "text/plain": [
              "0    100\n",
              "1    200\n",
              "2    500\n",
              "dtype: int64"
            ]
          },
          "metadata": {},
          "execution_count": 36
        }
      ]
    },
    {
      "cell_type": "markdown",
      "metadata": {
        "id": "DHknLT4PTrjn"
      },
      "source": [
        "**MINI CHALLENGE #5:** \n",
        "- **Show the last 2 rows in the Pandas Series (External Research is Required)** \n",
        "- **How many bytes does this Pandas Series consume in memory? (External Research is Required)**"
      ]
    },
    {
      "cell_type": "code",
      "metadata": {
        "colab": {
          "base_uri": "https://localhost:8080/"
        },
        "id": "UUiOynSPSshX",
        "outputId": "ffe14cd8-4078-4231-ee97-84018075a82f"
      },
      "source": [
        "series_8.tail(2)"
      ],
      "execution_count": 37,
      "outputs": [
        {
          "output_type": "execute_result",
          "data": {
            "text/plain": [
              "3    1000\n",
              "4    5000\n",
              "dtype: int64"
            ]
          },
          "metadata": {},
          "execution_count": 37
        }
      ]
    },
    {
      "cell_type": "markdown",
      "metadata": {
        "id": "vzu3jPDbasz5"
      },
      "source": [
        "# 6. IMPORT CSV DATA (1-D) USING PANDAS"
      ]
    },
    {
      "cell_type": "code",
      "metadata": {
        "id": "zLiVpmH2asz6",
        "colab": {
          "base_uri": "https://localhost:8080/"
        },
        "outputId": "b2945b23-db2c-4e6b-8ab3-b558bd5d1b7c"
      },
      "source": [
        "# Pandas read_csv is used to read a csv file and store data in a DataFrame by default (DataFrames will be covered shortly!)\n",
        "# Use Squeeze to convert it into a Pandas Series (One-dimensional)\n",
        "# Notice that no foramtting exists when a Series is plotted\n",
        "\n",
        "sp500 = pd.read_csv('/content/S_P500_Prices.csv', squeeze=True)\n",
        "sp500"
      ],
      "execution_count": 39,
      "outputs": [
        {
          "output_type": "execute_result",
          "data": {
            "text/plain": [
              "0       1295.500000\n",
              "1       1289.089966\n",
              "2       1293.670044\n",
              "3       1308.040039\n",
              "4       1314.500000\n",
              "           ...     \n",
              "2154    3327.770020\n",
              "2155    3349.159912\n",
              "2156    3351.280029\n",
              "2157    3360.469971\n",
              "2158    3333.689941\n",
              "Name: sp500, Length: 2159, dtype: float64"
            ]
          },
          "metadata": {},
          "execution_count": 39
        }
      ]
    },
    {
      "cell_type": "markdown",
      "metadata": {
        "id": "CykEEAr9S--X"
      },
      "source": [
        "**MINI CHALLENGE #6:**\n",
        "- **Set Squeeze = False and rerun the cell, what do you notice? Use Type to compare both outputs**"
      ]
    },
    {
      "cell_type": "code",
      "metadata": {
        "id": "DVEio_JnTArn",
        "colab": {
          "base_uri": "https://localhost:8080/",
          "height": 424
        },
        "outputId": "e5626c62-3721-44e6-dc99-b7948c2756ab"
      },
      "source": [
        "sp500_2 = pd.read_csv('/content/S_P500_Prices.csv', squeeze=False)\n",
        "sp500_2"
      ],
      "execution_count": 40,
      "outputs": [
        {
          "output_type": "execute_result",
          "data": {
            "text/plain": [
              "            sp500\n",
              "0     1295.500000\n",
              "1     1289.089966\n",
              "2     1293.670044\n",
              "3     1308.040039\n",
              "4     1314.500000\n",
              "...           ...\n",
              "2154  3327.770020\n",
              "2155  3349.159912\n",
              "2156  3351.280029\n",
              "2157  3360.469971\n",
              "2158  3333.689941\n",
              "\n",
              "[2159 rows x 1 columns]"
            ],
            "text/html": [
              "\n",
              "  <div id=\"df-d3b1bf6b-8780-4128-945b-e10338d0194c\">\n",
              "    <div class=\"colab-df-container\">\n",
              "      <div>\n",
              "<style scoped>\n",
              "    .dataframe tbody tr th:only-of-type {\n",
              "        vertical-align: middle;\n",
              "    }\n",
              "\n",
              "    .dataframe tbody tr th {\n",
              "        vertical-align: top;\n",
              "    }\n",
              "\n",
              "    .dataframe thead th {\n",
              "        text-align: right;\n",
              "    }\n",
              "</style>\n",
              "<table border=\"1\" class=\"dataframe\">\n",
              "  <thead>\n",
              "    <tr style=\"text-align: right;\">\n",
              "      <th></th>\n",
              "      <th>sp500</th>\n",
              "    </tr>\n",
              "  </thead>\n",
              "  <tbody>\n",
              "    <tr>\n",
              "      <th>0</th>\n",
              "      <td>1295.500000</td>\n",
              "    </tr>\n",
              "    <tr>\n",
              "      <th>1</th>\n",
              "      <td>1289.089966</td>\n",
              "    </tr>\n",
              "    <tr>\n",
              "      <th>2</th>\n",
              "      <td>1293.670044</td>\n",
              "    </tr>\n",
              "    <tr>\n",
              "      <th>3</th>\n",
              "      <td>1308.040039</td>\n",
              "    </tr>\n",
              "    <tr>\n",
              "      <th>4</th>\n",
              "      <td>1314.500000</td>\n",
              "    </tr>\n",
              "    <tr>\n",
              "      <th>...</th>\n",
              "      <td>...</td>\n",
              "    </tr>\n",
              "    <tr>\n",
              "      <th>2154</th>\n",
              "      <td>3327.770020</td>\n",
              "    </tr>\n",
              "    <tr>\n",
              "      <th>2155</th>\n",
              "      <td>3349.159912</td>\n",
              "    </tr>\n",
              "    <tr>\n",
              "      <th>2156</th>\n",
              "      <td>3351.280029</td>\n",
              "    </tr>\n",
              "    <tr>\n",
              "      <th>2157</th>\n",
              "      <td>3360.469971</td>\n",
              "    </tr>\n",
              "    <tr>\n",
              "      <th>2158</th>\n",
              "      <td>3333.689941</td>\n",
              "    </tr>\n",
              "  </tbody>\n",
              "</table>\n",
              "<p>2159 rows × 1 columns</p>\n",
              "</div>\n",
              "      <button class=\"colab-df-convert\" onclick=\"convertToInteractive('df-d3b1bf6b-8780-4128-945b-e10338d0194c')\"\n",
              "              title=\"Convert this dataframe to an interactive table.\"\n",
              "              style=\"display:none;\">\n",
              "        \n",
              "  <svg xmlns=\"http://www.w3.org/2000/svg\" height=\"24px\"viewBox=\"0 0 24 24\"\n",
              "       width=\"24px\">\n",
              "    <path d=\"M0 0h24v24H0V0z\" fill=\"none\"/>\n",
              "    <path d=\"M18.56 5.44l.94 2.06.94-2.06 2.06-.94-2.06-.94-.94-2.06-.94 2.06-2.06.94zm-11 1L8.5 8.5l.94-2.06 2.06-.94-2.06-.94L8.5 2.5l-.94 2.06-2.06.94zm10 10l.94 2.06.94-2.06 2.06-.94-2.06-.94-.94-2.06-.94 2.06-2.06.94z\"/><path d=\"M17.41 7.96l-1.37-1.37c-.4-.4-.92-.59-1.43-.59-.52 0-1.04.2-1.43.59L10.3 9.45l-7.72 7.72c-.78.78-.78 2.05 0 2.83L4 21.41c.39.39.9.59 1.41.59.51 0 1.02-.2 1.41-.59l7.78-7.78 2.81-2.81c.8-.78.8-2.07 0-2.86zM5.41 20L4 18.59l7.72-7.72 1.47 1.35L5.41 20z\"/>\n",
              "  </svg>\n",
              "      </button>\n",
              "      \n",
              "  <style>\n",
              "    .colab-df-container {\n",
              "      display:flex;\n",
              "      flex-wrap:wrap;\n",
              "      gap: 12px;\n",
              "    }\n",
              "\n",
              "    .colab-df-convert {\n",
              "      background-color: #E8F0FE;\n",
              "      border: none;\n",
              "      border-radius: 50%;\n",
              "      cursor: pointer;\n",
              "      display: none;\n",
              "      fill: #1967D2;\n",
              "      height: 32px;\n",
              "      padding: 0 0 0 0;\n",
              "      width: 32px;\n",
              "    }\n",
              "\n",
              "    .colab-df-convert:hover {\n",
              "      background-color: #E2EBFA;\n",
              "      box-shadow: 0px 1px 2px rgba(60, 64, 67, 0.3), 0px 1px 3px 1px rgba(60, 64, 67, 0.15);\n",
              "      fill: #174EA6;\n",
              "    }\n",
              "\n",
              "    [theme=dark] .colab-df-convert {\n",
              "      background-color: #3B4455;\n",
              "      fill: #D2E3FC;\n",
              "    }\n",
              "\n",
              "    [theme=dark] .colab-df-convert:hover {\n",
              "      background-color: #434B5C;\n",
              "      box-shadow: 0px 1px 3px 1px rgba(0, 0, 0, 0.15);\n",
              "      filter: drop-shadow(0px 1px 2px rgba(0, 0, 0, 0.3));\n",
              "      fill: #FFFFFF;\n",
              "    }\n",
              "  </style>\n",
              "\n",
              "      <script>\n",
              "        const buttonEl =\n",
              "          document.querySelector('#df-d3b1bf6b-8780-4128-945b-e10338d0194c button.colab-df-convert');\n",
              "        buttonEl.style.display =\n",
              "          google.colab.kernel.accessAllowed ? 'block' : 'none';\n",
              "\n",
              "        async function convertToInteractive(key) {\n",
              "          const element = document.querySelector('#df-d3b1bf6b-8780-4128-945b-e10338d0194c');\n",
              "          const dataTable =\n",
              "            await google.colab.kernel.invokeFunction('convertToInteractive',\n",
              "                                                     [key], {});\n",
              "          if (!dataTable) return;\n",
              "\n",
              "          const docLinkHtml = 'Like what you see? Visit the ' +\n",
              "            '<a target=\"_blank\" href=https://colab.research.google.com/notebooks/data_table.ipynb>data table notebook</a>'\n",
              "            + ' to learn more about interactive tables.';\n",
              "          element.innerHTML = '';\n",
              "          dataTable['output_type'] = 'display_data';\n",
              "          await google.colab.output.renderOutput(dataTable, element);\n",
              "          const docLink = document.createElement('div');\n",
              "          docLink.innerHTML = docLinkHtml;\n",
              "          element.appendChild(docLink);\n",
              "        }\n",
              "      </script>\n",
              "    </div>\n",
              "  </div>\n",
              "  "
            ]
          },
          "metadata": {},
          "execution_count": 40
        }
      ]
    },
    {
      "cell_type": "code",
      "source": [
        "type(sp500)"
      ],
      "metadata": {
        "colab": {
          "base_uri": "https://localhost:8080/"
        },
        "id": "mu5JXrcQv1aR",
        "outputId": "54e8a231-fc02-4080-d591-2e9579846d7e"
      },
      "execution_count": 41,
      "outputs": [
        {
          "output_type": "execute_result",
          "data": {
            "text/plain": [
              "pandas.core.series.Series"
            ]
          },
          "metadata": {},
          "execution_count": 41
        }
      ]
    },
    {
      "cell_type": "code",
      "source": [
        "type(sp500_2)"
      ],
      "metadata": {
        "colab": {
          "base_uri": "https://localhost:8080/"
        },
        "id": "ZgiLL5mZwBIA",
        "outputId": "6e242e32-1107-45ed-a47c-3aeee7ee3044"
      },
      "execution_count": 42,
      "outputs": [
        {
          "output_type": "execute_result",
          "data": {
            "text/plain": [
              "pandas.core.frame.DataFrame"
            ]
          },
          "metadata": {},
          "execution_count": 42
        }
      ]
    },
    {
      "cell_type": "markdown",
      "metadata": {
        "id": "8HBGOWjKaK_i"
      },
      "source": [
        "# 7. PANDAS BUILT-IN FUNCTIONS"
      ]
    },
    {
      "cell_type": "code",
      "metadata": {
        "id": "-Q-1iWEqaP6y",
        "colab": {
          "base_uri": "https://localhost:8080/"
        },
        "outputId": "f99fbdad-2a3a-42a9-9f1a-e31f6a8f9780"
      },
      "source": [
        "# Pandas works great with pre-existing python functions \n",
        "# You don't have to play with pandas methods and directly leverage Python functions\n",
        "# Check Python built-in functions here: https://docs.python.org/3/library/functions.html\n",
        "\n",
        "sp500 = pd.read_csv('/content/S_P500_Prices.csv', squeeze=True)\n",
        "sp500"
      ],
      "execution_count": 43,
      "outputs": [
        {
          "output_type": "execute_result",
          "data": {
            "text/plain": [
              "0       1295.500000\n",
              "1       1289.089966\n",
              "2       1293.670044\n",
              "3       1308.040039\n",
              "4       1314.500000\n",
              "           ...     \n",
              "2154    3327.770020\n",
              "2155    3349.159912\n",
              "2156    3351.280029\n",
              "2157    3360.469971\n",
              "2158    3333.689941\n",
              "Name: sp500, Length: 2159, dtype: float64"
            ]
          },
          "metadata": {},
          "execution_count": 43
        }
      ]
    },
    {
      "cell_type": "code",
      "metadata": {
        "id": "g759k2IPdVH-",
        "colab": {
          "base_uri": "https://localhost:8080/"
        },
        "outputId": "ad9ff2b2-c289-428c-a3c9-4861a7b0a565"
      },
      "source": [
        "# Obtain the Data Type of the Pandas Series\n",
        "type(sp500)"
      ],
      "execution_count": 44,
      "outputs": [
        {
          "output_type": "execute_result",
          "data": {
            "text/plain": [
              "pandas.core.series.Series"
            ]
          },
          "metadata": {},
          "execution_count": 44
        }
      ]
    },
    {
      "cell_type": "code",
      "metadata": {
        "id": "NbKysqrSaQ32",
        "colab": {
          "base_uri": "https://localhost:8080/"
        },
        "outputId": "24dc8b16-76dc-4209-a1b3-b997c5b03879"
      },
      "source": [
        "# Obtain the length of the Pandas Series\n",
        "len(sp500)"
      ],
      "execution_count": 45,
      "outputs": [
        {
          "output_type": "execute_result",
          "data": {
            "text/plain": [
              "2159"
            ]
          },
          "metadata": {},
          "execution_count": 45
        }
      ]
    },
    {
      "cell_type": "code",
      "metadata": {
        "id": "FeeA8actaQ6P",
        "colab": {
          "base_uri": "https://localhost:8080/"
        },
        "outputId": "b1839e35-4400-499c-c878-a36013346d9b"
      },
      "source": [
        "# Obtain the maximum value of the Pandas Series\n",
        "max(sp500)"
      ],
      "execution_count": 46,
      "outputs": [
        {
          "output_type": "execute_result",
          "data": {
            "text/plain": [
              "3386.149902"
            ]
          },
          "metadata": {},
          "execution_count": 46
        }
      ]
    },
    {
      "cell_type": "code",
      "metadata": {
        "id": "fyhw96-JaQ8a",
        "colab": {
          "base_uri": "https://localhost:8080/"
        },
        "outputId": "0c4935a6-d1ce-445a-d32a-e13c8ddb5336"
      },
      "source": [
        "# Obtain the minimum value of the Pandas Series\n",
        "min(sp500)"
      ],
      "execution_count": 47,
      "outputs": [
        {
          "output_type": "execute_result",
          "data": {
            "text/plain": [
              "1278.040039"
            ]
          },
          "metadata": {},
          "execution_count": 47
        }
      ]
    },
    {
      "cell_type": "markdown",
      "metadata": {
        "id": "NCnRK6oMVCtg"
      },
      "source": [
        "**MINI CHALLENGE #7:**\n",
        "- **Given the following Pandas Series, convert all positive values to negative using python built-in functions**\n",
        "- **Obtain only unique values (ie: Remove duplicates) using python built-in functions**\n",
        "- **my_series = pd.Series(data = [-10, 100, -30, 50, 100])**\n"
      ]
    },
    {
      "cell_type": "code",
      "metadata": {
        "id": "DG-Tjp6PVEpW",
        "colab": {
          "base_uri": "https://localhost:8080/"
        },
        "outputId": "08a9c790-fccc-4736-e510-8688669505e0"
      },
      "source": [
        "-abs(sp500)"
      ],
      "execution_count": 48,
      "outputs": [
        {
          "output_type": "execute_result",
          "data": {
            "text/plain": [
              "0      -1295.500000\n",
              "1      -1289.089966\n",
              "2      -1293.670044\n",
              "3      -1308.040039\n",
              "4      -1314.500000\n",
              "           ...     \n",
              "2154   -3327.770020\n",
              "2155   -3349.159912\n",
              "2156   -3351.280029\n",
              "2157   -3360.469971\n",
              "2158   -3333.689941\n",
              "Name: sp500, Length: 2159, dtype: float64"
            ]
          },
          "metadata": {},
          "execution_count": 48
        }
      ]
    },
    {
      "cell_type": "code",
      "source": [
        "sp500.is_unique"
      ],
      "metadata": {
        "colab": {
          "base_uri": "https://localhost:8080/"
        },
        "id": "KQuabt2yCeLw",
        "outputId": "9e713785-aeb8-4a5d-893b-d376e812528e"
      },
      "execution_count": 49,
      "outputs": [
        {
          "output_type": "execute_result",
          "data": {
            "text/plain": [
              "False"
            ]
          },
          "metadata": {},
          "execution_count": 49
        }
      ]
    },
    {
      "cell_type": "code",
      "source": [
        "sp500 = sp500.drop_duplicates()\n",
        "sp500"
      ],
      "metadata": {
        "colab": {
          "base_uri": "https://localhost:8080/"
        },
        "id": "4P1KQ2ftCITK",
        "outputId": "0bacf6f9-ae70-4a11-cb04-06551682d553"
      },
      "execution_count": 50,
      "outputs": [
        {
          "output_type": "execute_result",
          "data": {
            "text/plain": [
              "0       1295.500000\n",
              "1       1289.089966\n",
              "2       1293.670044\n",
              "3       1308.040039\n",
              "4       1314.500000\n",
              "           ...     \n",
              "2154    3327.770020\n",
              "2155    3349.159912\n",
              "2156    3351.280029\n",
              "2157    3360.469971\n",
              "2158    3333.689941\n",
              "Name: sp500, Length: 2147, dtype: float64"
            ]
          },
          "metadata": {},
          "execution_count": 50
        }
      ]
    },
    {
      "cell_type": "code",
      "source": [
        "sp500.is_unique"
      ],
      "metadata": {
        "colab": {
          "base_uri": "https://localhost:8080/"
        },
        "id": "TxxsHUdaC1--",
        "outputId": "3331a53e-e85b-4780-ef9f-34b2893ef258"
      },
      "execution_count": 51,
      "outputs": [
        {
          "output_type": "execute_result",
          "data": {
            "text/plain": [
              "True"
            ]
          },
          "metadata": {},
          "execution_count": 51
        }
      ]
    },
    {
      "cell_type": "markdown",
      "source": [
        "The real soln"
      ],
      "metadata": {
        "id": "oA3Uh0DHFAA9"
      }
    },
    {
      "cell_type": "code",
      "source": [
        "my_series = pd.Series(data = [-10, 100, -30, 50, 100])\n",
        "my_series"
      ],
      "metadata": {
        "colab": {
          "base_uri": "https://localhost:8080/"
        },
        "id": "6Ad4fp1HFIBc",
        "outputId": "f7db1f96-6967-44ac-dbe4-72e1f0fb0a7f"
      },
      "execution_count": 52,
      "outputs": [
        {
          "output_type": "execute_result",
          "data": {
            "text/plain": [
              "0    -10\n",
              "1    100\n",
              "2    -30\n",
              "3     50\n",
              "4    100\n",
              "dtype: int64"
            ]
          },
          "metadata": {},
          "execution_count": 52
        }
      ]
    },
    {
      "cell_type": "code",
      "source": [
        "abs(my_series)"
      ],
      "metadata": {
        "colab": {
          "base_uri": "https://localhost:8080/"
        },
        "id": "rQi0W3EbFxsO",
        "outputId": "633e9184-3184-42cb-8d62-24278a7fbf1b"
      },
      "execution_count": 53,
      "outputs": [
        {
          "output_type": "execute_result",
          "data": {
            "text/plain": [
              "0     10\n",
              "1    100\n",
              "2     30\n",
              "3     50\n",
              "4    100\n",
              "dtype: int64"
            ]
          },
          "metadata": {},
          "execution_count": 53
        }
      ]
    },
    {
      "cell_type": "code",
      "source": [
        "set(my_series)"
      ],
      "metadata": {
        "colab": {
          "base_uri": "https://localhost:8080/"
        },
        "id": "CWivxVUJGiB1",
        "outputId": "5c248ced-bffe-4441-94e0-d7c8e15d5cfc"
      },
      "execution_count": 54,
      "outputs": [
        {
          "output_type": "execute_result",
          "data": {
            "text/plain": [
              "{-30, -10, 50, 100}"
            ]
          },
          "metadata": {},
          "execution_count": 54
        }
      ]
    },
    {
      "cell_type": "markdown",
      "metadata": {
        "id": "LKDuJ94RvB85"
      },
      "source": [
        "# 8. SORTING PANDAS SERIES"
      ]
    },
    {
      "cell_type": "code",
      "metadata": {
        "id": "f-aRTmn9u7DA",
        "colab": {
          "base_uri": "https://localhost:8080/"
        },
        "outputId": "2f05279f-57cc-4789-eb95-2040865e1407"
      },
      "source": [
        "# Let's import CSV data as follows:\n",
        "sp500_3 = pd.read_csv('/content/S_P500_Prices.csv', squeeze=True)\n",
        "sp500_3"
      ],
      "execution_count": 55,
      "outputs": [
        {
          "output_type": "execute_result",
          "data": {
            "text/plain": [
              "0       1295.500000\n",
              "1       1289.089966\n",
              "2       1293.670044\n",
              "3       1308.040039\n",
              "4       1314.500000\n",
              "           ...     \n",
              "2154    3327.770020\n",
              "2155    3349.159912\n",
              "2156    3351.280029\n",
              "2157    3360.469971\n",
              "2158    3333.689941\n",
              "Name: sp500, Length: 2159, dtype: float64"
            ]
          },
          "metadata": {},
          "execution_count": 55
        }
      ]
    },
    {
      "cell_type": "code",
      "metadata": {
        "id": "DaglhPNevFYC",
        "colab": {
          "base_uri": "https://localhost:8080/"
        },
        "outputId": "758aad86-5dae-4588-a34d-b74d8921370f"
      },
      "source": [
        "# You can sort the values in the dataframe as follows\n",
        "sp500_3.sort_values()"
      ],
      "execution_count": 56,
      "outputs": [
        {
          "output_type": "execute_result",
          "data": {
            "text/plain": [
              "97      1278.040039\n",
              "98      1278.180054\n",
              "99      1285.500000\n",
              "1       1289.089966\n",
              "2       1293.670044\n",
              "           ...     \n",
              "2038    3373.229980\n",
              "2034    3373.939941\n",
              "2033    3379.449951\n",
              "2035    3380.159912\n",
              "2037    3386.149902\n",
              "Name: sp500, Length: 2159, dtype: float64"
            ]
          },
          "metadata": {},
          "execution_count": 56
        }
      ]
    },
    {
      "cell_type": "code",
      "metadata": {
        "id": "AjzLtDlevFaW",
        "colab": {
          "base_uri": "https://localhost:8080/"
        },
        "outputId": "9ebef3dd-9bf4-4781-dc5d-f7fa0a7b4368"
      },
      "source": [
        "# Let's view Pandas Series again after sorting, Note that nothing changed in memory! you have to make sure that inplace is set to True\n",
        "sp500_3"
      ],
      "execution_count": 57,
      "outputs": [
        {
          "output_type": "execute_result",
          "data": {
            "text/plain": [
              "0       1295.500000\n",
              "1       1289.089966\n",
              "2       1293.670044\n",
              "3       1308.040039\n",
              "4       1314.500000\n",
              "           ...     \n",
              "2154    3327.770020\n",
              "2155    3349.159912\n",
              "2156    3351.280029\n",
              "2157    3360.469971\n",
              "2158    3333.689941\n",
              "Name: sp500, Length: 2159, dtype: float64"
            ]
          },
          "metadata": {},
          "execution_count": 57
        }
      ]
    },
    {
      "cell_type": "code",
      "metadata": {
        "id": "Pgt25eXmvFce",
        "colab": {
          "base_uri": "https://localhost:8080/"
        },
        "outputId": "0ab2b0cb-217d-4b92-d291-7d49682cdf9d"
      },
      "source": [
        "# Set inplace = True to ensure that change has taken place in memory \n",
        "sp500_3.sort_values(inplace=True)\n",
        "sp500_3"
      ],
      "execution_count": 58,
      "outputs": [
        {
          "output_type": "execute_result",
          "data": {
            "text/plain": [
              "97      1278.040039\n",
              "98      1278.180054\n",
              "99      1285.500000\n",
              "1       1289.089966\n",
              "2       1293.670044\n",
              "           ...     \n",
              "2038    3373.229980\n",
              "2034    3373.939941\n",
              "2033    3379.449951\n",
              "2035    3380.159912\n",
              "2037    3386.149902\n",
              "Name: sp500, Length: 2159, dtype: float64"
            ]
          },
          "metadata": {},
          "execution_count": 58
        }
      ]
    },
    {
      "cell_type": "code",
      "metadata": {
        "id": "jEw2Gw_hu7Fo",
        "colab": {
          "base_uri": "https://localhost:8080/"
        },
        "outputId": "99998b92-4f82-49ae-c660-c18e36ad9526"
      },
      "source": [
        "# Note that now the change (ordering) took place \n",
        "sp500_3"
      ],
      "execution_count": 59,
      "outputs": [
        {
          "output_type": "execute_result",
          "data": {
            "text/plain": [
              "97      1278.040039\n",
              "98      1278.180054\n",
              "99      1285.500000\n",
              "1       1289.089966\n",
              "2       1293.670044\n",
              "           ...     \n",
              "2038    3373.229980\n",
              "2034    3373.939941\n",
              "2033    3379.449951\n",
              "2035    3380.159912\n",
              "2037    3386.149902\n",
              "Name: sp500, Length: 2159, dtype: float64"
            ]
          },
          "metadata": {},
          "execution_count": 59
        }
      ]
    },
    {
      "cell_type": "code",
      "metadata": {
        "id": "6wi0QnU5iGk8",
        "colab": {
          "base_uri": "https://localhost:8080/"
        },
        "outputId": "50eff0b4-c971-47e8-9cde-389732b11275"
      },
      "source": [
        "# Notice that the indexes are now changed \n",
        "# You can also sort by index (revert back to the original Pandas Series) as follows: \n",
        "sp500_3.sort_index(inplace=True)\n",
        "sp500_3"
      ],
      "execution_count": 60,
      "outputs": [
        {
          "output_type": "execute_result",
          "data": {
            "text/plain": [
              "0       1295.500000\n",
              "1       1289.089966\n",
              "2       1293.670044\n",
              "3       1308.040039\n",
              "4       1314.500000\n",
              "           ...     \n",
              "2154    3327.770020\n",
              "2155    3349.159912\n",
              "2156    3351.280029\n",
              "2157    3360.469971\n",
              "2158    3333.689941\n",
              "Name: sp500, Length: 2159, dtype: float64"
            ]
          },
          "metadata": {},
          "execution_count": 60
        }
      ]
    },
    {
      "cell_type": "markdown",
      "metadata": {
        "id": "7bV_Yaq46ZTg"
      },
      "source": [
        "**MINI CHALLENGE #8:**\n",
        "- **Sort the S&P500 values in a decending order instead. Make sure to update values in-memory.**"
      ]
    },
    {
      "cell_type": "code",
      "metadata": {
        "id": "zw0acoYEkDJB",
        "colab": {
          "base_uri": "https://localhost:8080/"
        },
        "outputId": "328b2386-fb40-4437-d8d4-6dba2aaa8f36"
      },
      "source": [
        "sp500_3.sort_values(ascending=False, inplace=True)\n",
        "sp500_3"
      ],
      "execution_count": 61,
      "outputs": [
        {
          "output_type": "execute_result",
          "data": {
            "text/plain": [
              "2037    3386.149902\n",
              "2035    3380.159912\n",
              "2033    3379.449951\n",
              "2034    3373.939941\n",
              "2038    3373.229980\n",
              "           ...     \n",
              "2       1293.670044\n",
              "1       1289.089966\n",
              "99      1285.500000\n",
              "98      1278.180054\n",
              "97      1278.040039\n",
              "Name: sp500, Length: 2159, dtype: float64"
            ]
          },
          "metadata": {},
          "execution_count": 61
        }
      ]
    },
    {
      "cell_type": "markdown",
      "metadata": {
        "id": "1QT7bBFCkDhh"
      },
      "source": [
        "# 9. PERFORM MATH OPERATIONS ON PANDAS SERIES"
      ]
    },
    {
      "cell_type": "code",
      "metadata": {
        "id": "UXFGCV4SkI4O",
        "colab": {
          "base_uri": "https://localhost:8080/"
        },
        "outputId": "9c6a513b-1a19-47d2-838e-9a31926d12bb"
      },
      "source": [
        "# Let's import CSV data as follows:\n",
        "sp500_4 = pd.read_csv('/content/S_P500_Prices.csv', squeeze=True)\n",
        "sp500_4"
      ],
      "execution_count": 62,
      "outputs": [
        {
          "output_type": "execute_result",
          "data": {
            "text/plain": [
              "0       1295.500000\n",
              "1       1289.089966\n",
              "2       1293.670044\n",
              "3       1308.040039\n",
              "4       1314.500000\n",
              "           ...     \n",
              "2154    3327.770020\n",
              "2155    3349.159912\n",
              "2156    3351.280029\n",
              "2157    3360.469971\n",
              "2158    3333.689941\n",
              "Name: sp500, Length: 2159, dtype: float64"
            ]
          },
          "metadata": {},
          "execution_count": 62
        }
      ]
    },
    {
      "cell_type": "code",
      "metadata": {
        "id": "Qpo7M9yYkJPQ",
        "colab": {
          "base_uri": "https://localhost:8080/"
        },
        "outputId": "27d6a52f-401a-48bd-ee8e-92ff7b11af23"
      },
      "source": [
        "# Apply Sum Method on Pandas Series\n",
        "sp500_4.sum()"
      ],
      "execution_count": 63,
      "outputs": [
        {
          "output_type": "execute_result",
          "data": {
            "text/plain": [
              "4790280.287214"
            ]
          },
          "metadata": {},
          "execution_count": 63
        }
      ]
    },
    {
      "cell_type": "code",
      "metadata": {
        "id": "FTSaQpjokJSM",
        "colab": {
          "base_uri": "https://localhost:8080/"
        },
        "outputId": "93a8b61f-b629-4862-abf4-472fa2f62404"
      },
      "source": [
        "# Apply count Method on Pandas Series\n",
        "sp500_4.count()"
      ],
      "execution_count": 64,
      "outputs": [
        {
          "output_type": "execute_result",
          "data": {
            "text/plain": [
              "2159"
            ]
          },
          "metadata": {},
          "execution_count": 64
        }
      ]
    },
    {
      "cell_type": "code",
      "metadata": {
        "id": "I8vVnB_5kj7C",
        "colab": {
          "base_uri": "https://localhost:8080/"
        },
        "outputId": "af65f47a-dcdb-4e9d-96af-af52ecb68be5"
      },
      "source": [
        "# Obtain the maximum value\n",
        "sp500_4.max()"
      ],
      "execution_count": 65,
      "outputs": [
        {
          "output_type": "execute_result",
          "data": {
            "text/plain": [
              "3386.149902"
            ]
          },
          "metadata": {},
          "execution_count": 65
        }
      ]
    },
    {
      "cell_type": "code",
      "metadata": {
        "id": "u3-XBu-vko2y",
        "colab": {
          "base_uri": "https://localhost:8080/"
        },
        "outputId": "e431844c-911c-4e74-fbc0-b8b059b3d7cd"
      },
      "source": [
        "# Obtain the minimum value\n",
        "sp500_4.min()"
      ],
      "execution_count": 66,
      "outputs": [
        {
          "output_type": "execute_result",
          "data": {
            "text/plain": [
              "1278.040039"
            ]
          },
          "metadata": {},
          "execution_count": 66
        }
      ]
    },
    {
      "cell_type": "code",
      "metadata": {
        "id": "jfaK3BsckvAK",
        "colab": {
          "base_uri": "https://localhost:8080/"
        },
        "outputId": "499c19c3-060c-4b76-98e9-936fe70286d0"
      },
      "source": [
        "# My favourite: Describe! \n",
        "# Describe is used to obtain all statistical information in one place \n",
        "\n",
        "sp500_4.describe()"
      ],
      "execution_count": 67,
      "outputs": [
        {
          "output_type": "execute_result",
          "data": {
            "text/plain": [
              "count    2159.000000\n",
              "mean     2218.749554\n",
              "std       537.321727\n",
              "min      1278.040039\n",
              "25%      1847.984985\n",
              "50%      2106.629883\n",
              "75%      2705.810059\n",
              "max      3386.149902\n",
              "Name: sp500, dtype: float64"
            ]
          },
          "metadata": {},
          "execution_count": 67
        }
      ]
    },
    {
      "cell_type": "markdown",
      "metadata": {
        "id": "wfpnZiwxk1cb"
      },
      "source": [
        "**MINI CHALLENGE #9:**\n",
        "- **Obtain the average price of the S&P500 using two different methods**"
      ]
    },
    {
      "cell_type": "code",
      "metadata": {
        "id": "MFL9i8NWlIH5",
        "colab": {
          "base_uri": "https://localhost:8080/"
        },
        "outputId": "d49b3725-3d5b-4393-b6d2-4b654dacc7fb"
      },
      "source": [
        "sp500_4.mean()"
      ],
      "execution_count": 68,
      "outputs": [
        {
          "output_type": "execute_result",
          "data": {
            "text/plain": [
              "2218.7495540592868"
            ]
          },
          "metadata": {},
          "execution_count": 68
        }
      ]
    },
    {
      "cell_type": "markdown",
      "metadata": {
        "id": "Yi8uUb_eiqxo"
      },
      "source": [
        "# 10. CHECK IF A GIVEN ELEMENT EXISTS IN A PANDAS SERIES"
      ]
    },
    {
      "cell_type": "code",
      "metadata": {
        "id": "nEQ94a2RiuiR",
        "colab": {
          "base_uri": "https://localhost:8080/"
        },
        "outputId": "65edf78b-8cd0-4f97-968c-e455872c39b8"
      },
      "source": [
        "# Let's import CSV data as follows:\n",
        "sp500_5 = pd.read_csv('/content/S_P500_Prices.csv', squeeze=True)\n",
        "sp500_5"
      ],
      "execution_count": 69,
      "outputs": [
        {
          "output_type": "execute_result",
          "data": {
            "text/plain": [
              "0       1295.500000\n",
              "1       1289.089966\n",
              "2       1293.670044\n",
              "3       1308.040039\n",
              "4       1314.500000\n",
              "           ...     \n",
              "2154    3327.770020\n",
              "2155    3349.159912\n",
              "2156    3351.280029\n",
              "2157    3360.469971\n",
              "2158    3333.689941\n",
              "Name: sp500, Length: 2159, dtype: float64"
            ]
          },
          "metadata": {},
          "execution_count": 69
        }
      ]
    },
    {
      "cell_type": "code",
      "metadata": {
        "id": "x0T4h0CWi-p7",
        "colab": {
          "base_uri": "https://localhost:8080/"
        },
        "outputId": "04dba05f-05ce-41f9-dd25-a3bda7f2152a"
      },
      "source": [
        "# Check if a given number exists in a Pandas Series values\n",
        "# Returns a boolean \"True\" or \"False\"\n",
        "\n",
        "1295.500000 in sp500_5.values"
      ],
      "execution_count": 70,
      "outputs": [
        {
          "output_type": "execute_result",
          "data": {
            "text/plain": [
              "True"
            ]
          },
          "metadata": {},
          "execution_count": 70
        }
      ]
    },
    {
      "cell_type": "code",
      "metadata": {
        "id": "xa7GXwbhi-sh",
        "colab": {
          "base_uri": "https://localhost:8080/"
        },
        "outputId": "6f11f050-3ed2-4391-9d64-07625fb70016"
      },
      "source": [
        "# Check if a given number exists in a Pandas Series index\n",
        "32.5 in sp500_5.index"
      ],
      "execution_count": 71,
      "outputs": [
        {
          "output_type": "execute_result",
          "data": {
            "text/plain": [
              "False"
            ]
          },
          "metadata": {},
          "execution_count": 71
        }
      ]
    },
    {
      "cell_type": "code",
      "metadata": {
        "id": "GyN5iG1ki-vC",
        "colab": {
          "base_uri": "https://localhost:8080/"
        },
        "outputId": "ef017197-91d6-461b-b253-52cb89fcc09d"
      },
      "source": [
        "# Note that by default 'in' will search in Pandas index and not values\n",
        "45 in sp500_5"
      ],
      "execution_count": 72,
      "outputs": [
        {
          "output_type": "execute_result",
          "data": {
            "text/plain": [
              "True"
            ]
          },
          "metadata": {},
          "execution_count": 72
        }
      ]
    },
    {
      "cell_type": "markdown",
      "metadata": {
        "id": "DjNoVv5vb9ij"
      },
      "source": [
        "**MINI CHALLENGE #10:**\n",
        "- **Check if the stock price 3349 exists in the sp500 Pandas Series or not**\n",
        "- **Round stock prices to the nearest integer and check again**"
      ]
    },
    {
      "cell_type": "code",
      "metadata": {
        "id": "3BYcu1gpb_Vo",
        "colab": {
          "base_uri": "https://localhost:8080/"
        },
        "outputId": "c296ceff-ca2d-4b0c-9252-1f91ea0abab0"
      },
      "source": [
        "3349 in sp500_5.values"
      ],
      "execution_count": 73,
      "outputs": [
        {
          "output_type": "execute_result",
          "data": {
            "text/plain": [
              "False"
            ]
          },
          "metadata": {},
          "execution_count": 73
        }
      ]
    },
    {
      "cell_type": "code",
      "source": [
        "sp500_5 = round(sp500_5)\n",
        "sp500_5"
      ],
      "metadata": {
        "colab": {
          "base_uri": "https://localhost:8080/"
        },
        "id": "dIGuVYCyQltB",
        "outputId": "5a480062-7136-45c0-e0c7-308535a75b79"
      },
      "execution_count": 74,
      "outputs": [
        {
          "output_type": "execute_result",
          "data": {
            "text/plain": [
              "0       1296.0\n",
              "1       1289.0\n",
              "2       1294.0\n",
              "3       1308.0\n",
              "4       1314.0\n",
              "         ...  \n",
              "2154    3328.0\n",
              "2155    3349.0\n",
              "2156    3351.0\n",
              "2157    3360.0\n",
              "2158    3334.0\n",
              "Name: sp500, Length: 2159, dtype: float64"
            ]
          },
          "metadata": {},
          "execution_count": 74
        }
      ]
    },
    {
      "cell_type": "code",
      "source": [
        "3349 in sp500_5.values"
      ],
      "metadata": {
        "colab": {
          "base_uri": "https://localhost:8080/"
        },
        "id": "__BtPR7eRqrs",
        "outputId": "508f43b0-9689-45fa-dd10-a0b7392c6907"
      },
      "execution_count": 75,
      "outputs": [
        {
          "output_type": "execute_result",
          "data": {
            "text/plain": [
              "True"
            ]
          },
          "metadata": {},
          "execution_count": 75
        }
      ]
    },
    {
      "cell_type": "markdown",
      "metadata": {
        "id": "Vrv6ZboqmGmx"
      },
      "source": [
        "# 11. INDEXING: OBTAIN SPECIFIC ELEMENTS FROM PANDAS SERIES"
      ]
    },
    {
      "cell_type": "code",
      "metadata": {
        "id": "XlMcpqkbjMI1",
        "colab": {
          "base_uri": "https://localhost:8080/"
        },
        "outputId": "93eb1eac-38f6-4584-9c17-ace86bf6634a"
      },
      "source": [
        "# Let's import CSV data as follows:\n",
        "\n",
        "sp500_6 = pd.read_csv('/content/S_P500_Prices.csv', squeeze=True)\n",
        "sp500_6"
      ],
      "execution_count": 76,
      "outputs": [
        {
          "output_type": "execute_result",
          "data": {
            "text/plain": [
              "0       1295.500000\n",
              "1       1289.089966\n",
              "2       1293.670044\n",
              "3       1308.040039\n",
              "4       1314.500000\n",
              "           ...     \n",
              "2154    3327.770020\n",
              "2155    3349.159912\n",
              "2156    3351.280029\n",
              "2157    3360.469971\n",
              "2158    3333.689941\n",
              "Name: sp500, Length: 2159, dtype: float64"
            ]
          },
          "metadata": {},
          "execution_count": 76
        }
      ]
    },
    {
      "cell_type": "code",
      "metadata": {
        "id": "5O_wKHmmmY2E",
        "colab": {
          "base_uri": "https://localhost:8080/"
        },
        "outputId": "de79a074-bcdd-4eb3-8e1c-32f3113c1edb"
      },
      "source": [
        "# Obtain the first element in a Pandas Series\n",
        "# Note that first element has an index 0\n",
        "\n",
        "sp500_6[0]"
      ],
      "execution_count": 77,
      "outputs": [
        {
          "output_type": "execute_result",
          "data": {
            "text/plain": [
              "1295.5"
            ]
          },
          "metadata": {},
          "execution_count": 77
        }
      ]
    },
    {
      "cell_type": "code",
      "metadata": {
        "id": "QV7zW7ecmY4l",
        "colab": {
          "base_uri": "https://localhost:8080/"
        },
        "outputId": "b5052fc5-b6e1-480a-e14e-55b6e6015e72"
      },
      "source": [
        "sp500_6[200]"
      ],
      "execution_count": 78,
      "outputs": [
        {
          "output_type": "execute_result",
          "data": {
            "text/plain": [
              "1411.939941"
            ]
          },
          "metadata": {},
          "execution_count": 78
        }
      ]
    },
    {
      "cell_type": "code",
      "metadata": {
        "id": "7wsOMwrvnHdJ",
        "colab": {
          "base_uri": "https://localhost:8080/"
        },
        "outputId": "cfb1453f-763d-44d7-8f5b-7f15078e1c4c"
      },
      "source": [
        "# Obtain the last element in the Pandas Series\n",
        "sp500_6[2158]"
      ],
      "execution_count": 79,
      "outputs": [
        {
          "output_type": "execute_result",
          "data": {
            "text/plain": [
              "3333.689941"
            ]
          },
          "metadata": {},
          "execution_count": 79
        }
      ]
    },
    {
      "cell_type": "markdown",
      "metadata": {
        "id": "mIsxBKz0cUZz"
      },
      "source": [
        "**MINI CHALLENGE #11:**\n",
        "- **Obtain the fifth element in the Pandas Series**"
      ]
    },
    {
      "cell_type": "code",
      "metadata": {
        "id": "hPzW6L__crcc",
        "colab": {
          "base_uri": "https://localhost:8080/"
        },
        "outputId": "ed8300ba-2f37-4dc3-c9aa-20e5c0b15db2"
      },
      "source": [
        "sp500_6[4]"
      ],
      "execution_count": 80,
      "outputs": [
        {
          "output_type": "execute_result",
          "data": {
            "text/plain": [
              "1314.5"
            ]
          },
          "metadata": {},
          "execution_count": 80
        }
      ]
    },
    {
      "cell_type": "markdown",
      "metadata": {
        "id": "FqV5utBLnQuk"
      },
      "source": [
        "# 12. SLICING: OBTAIN MULTIPLE ELEMENTS FROM PANDAS SERIES"
      ]
    },
    {
      "cell_type": "code",
      "metadata": {
        "id": "FnZ_HXFcnY5-",
        "colab": {
          "base_uri": "https://localhost:8080/"
        },
        "outputId": "59abe94c-d4f1-4fb5-c7c7-797bbb6b413c"
      },
      "source": [
        "# Let's import CSV data as follows:\n",
        "sp500 = pd.read_csv('/content/S_P500_Prices.csv', squeeze=True)\n",
        "sp500"
      ],
      "execution_count": 81,
      "outputs": [
        {
          "output_type": "execute_result",
          "data": {
            "text/plain": [
              "0       1295.500000\n",
              "1       1289.089966\n",
              "2       1293.670044\n",
              "3       1308.040039\n",
              "4       1314.500000\n",
              "           ...     \n",
              "2154    3327.770020\n",
              "2155    3349.159912\n",
              "2156    3351.280029\n",
              "2157    3360.469971\n",
              "2158    3333.689941\n",
              "Name: sp500, Length: 2159, dtype: float64"
            ]
          },
          "metadata": {},
          "execution_count": 81
        }
      ]
    },
    {
      "cell_type": "code",
      "metadata": {
        "id": "QVdRqhsbmY6X",
        "colab": {
          "base_uri": "https://localhost:8080/"
        },
        "outputId": "95069ed1-33c3-4aa3-f833-96f80c1f5443"
      },
      "source": [
        "# Slice elements from a Pandas Series\n",
        "# Let's obtain elements starting from index 0 up until and not including index 5 (ie: indexes 0-4)\n",
        "\n",
        "sp500[0:5]"
      ],
      "execution_count": 82,
      "outputs": [
        {
          "output_type": "execute_result",
          "data": {
            "text/plain": [
              "0    1295.500000\n",
              "1    1289.089966\n",
              "2    1293.670044\n",
              "3    1308.040039\n",
              "4    1314.500000\n",
              "Name: sp500, dtype: float64"
            ]
          },
          "metadata": {},
          "execution_count": 82
        }
      ]
    },
    {
      "cell_type": "code",
      "metadata": {
        "id": "YtZ4bhPKmY8S",
        "colab": {
          "base_uri": "https://localhost:8080/"
        },
        "outputId": "4fac50c5-3f5b-406e-e6f0-06cfd7e18639"
      },
      "source": [
        "# obtain all elements starting from index 0 up until and not including index 10\n",
        "sp500[:10]"
      ],
      "execution_count": 83,
      "outputs": [
        {
          "output_type": "execute_result",
          "data": {
            "text/plain": [
              "0    1295.500000\n",
              "1    1289.089966\n",
              "2    1293.670044\n",
              "3    1308.040039\n",
              "4    1314.500000\n",
              "5    1315.380005\n",
              "6    1316.000000\n",
              "7    1314.650024\n",
              "8    1326.060059\n",
              "9    1318.430054\n",
              "Name: sp500, dtype: float64"
            ]
          },
          "metadata": {},
          "execution_count": 83
        }
      ]
    },
    {
      "cell_type": "code",
      "metadata": {
        "id": "tShJSc6Bmv6d",
        "colab": {
          "base_uri": "https://localhost:8080/"
        },
        "outputId": "a74ba22d-4a65-4ef2-c350-0f0bc858b2bc"
      },
      "source": [
        "# obtain all elements starting from index 5 up until the end of the Pandas Series\n",
        "sp500[5:]"
      ],
      "execution_count": 84,
      "outputs": [
        {
          "output_type": "execute_result",
          "data": {
            "text/plain": [
              "5       1315.380005\n",
              "6       1316.000000\n",
              "7       1314.650024\n",
              "8       1326.060059\n",
              "9       1318.430054\n",
              "           ...     \n",
              "2154    3327.770020\n",
              "2155    3349.159912\n",
              "2156    3351.280029\n",
              "2157    3360.469971\n",
              "2158    3333.689941\n",
              "Name: sp500, Length: 2154, dtype: float64"
            ]
          },
          "metadata": {},
          "execution_count": 84
        }
      ]
    },
    {
      "cell_type": "markdown",
      "metadata": {
        "id": "BOIQH-R7dSDy"
      },
      "source": [
        "**MINI CHALLENGE #12:**\n",
        "- **Obtain all elements in Pandas Series except for the last 3 elements**"
      ]
    },
    {
      "cell_type": "code",
      "source": [
        "sp500[:-3]"
      ],
      "metadata": {
        "colab": {
          "base_uri": "https://localhost:8080/"
        },
        "id": "RQ0IrN4CWuPU",
        "outputId": "9bd66ee1-28b8-4cb8-8349-8ac6780e1363"
      },
      "execution_count": 85,
      "outputs": [
        {
          "output_type": "execute_result",
          "data": {
            "text/plain": [
              "0       1295.500000\n",
              "1       1289.089966\n",
              "2       1293.670044\n",
              "3       1308.040039\n",
              "4       1314.500000\n",
              "           ...     \n",
              "2151    3271.120117\n",
              "2152    3294.610107\n",
              "2153    3306.510010\n",
              "2154    3327.770020\n",
              "2155    3349.159912\n",
              "Name: sp500, Length: 2156, dtype: float64"
            ]
          },
          "metadata": {},
          "execution_count": 85
        }
      ]
    }
  ]
}