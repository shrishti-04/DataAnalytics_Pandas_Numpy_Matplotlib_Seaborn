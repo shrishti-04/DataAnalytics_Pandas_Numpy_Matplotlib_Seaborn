{
  "nbformat": 4,
  "nbformat_minor": 0,
  "metadata": {
    "colab": {
      "name": "Copy of Pandas Series Fundamentals - Skeleton.ipynb",
      "provenance": [],
      "collapsed_sections": [],
      "include_colab_link": true
    },
    "kernelspec": {
      "name": "python3",
      "display_name": "Python 3"
    }
  },
  "cells": [
    {
      "cell_type": "markdown",
      "metadata": {
        "id": "view-in-github",
        "colab_type": "text"
      },
      "source": [
        "<a href=\"https://colab.research.google.com/github/shrishti-04/DataAnalytics_Pandas_Numpy_Matplotlib_Seaborn/blob/master/Pandas_Series_Fundamentals.ipynb\" target=\"_parent\"><img src=\"https://colab.research.google.com/assets/colab-badge.svg\" alt=\"Open In Colab\"/></a>"
      ]
    },
    {
      "cell_type": "markdown",
      "metadata": {
        "id": "1ivPDcc7p8lD"
      },
      "source": [
        "# 1. DEFINE A PANDAS SERIES (WITH NUMERIC DEFAULT INDEX)"
      ]
    },
    {
      "cell_type": "code",
      "metadata": {
        "id": "4YdCraz8p_XF"
      },
      "source": [
        "# Pandas is a data manipulation and analysis tool that is built on Numpy.\n",
        "# Pandas uses a data structure known as DataFrame (think of it as Microsoft excel in Python). \n",
        "# DataFrames empower programmers to store and manipulate data in a tabular fashion (rows and columns).\n",
        "# Series Vs. DataFrame? Series is considered a single column of a DataFrame."
      ],
      "execution_count": null,
      "outputs": []
    },
    {
      "cell_type": "code",
      "metadata": {
        "id": "6H2808pkqKIR"
      },
      "source": [
        "import pandas as pd"
      ],
      "execution_count": null,
      "outputs": []
    },
    {
      "cell_type": "code",
      "metadata": {
        "colab": {
          "base_uri": "https://localhost:8080/"
        },
        "id": "SA9m0RD3K2TF",
        "outputId": "fc2ca5a7-b34b-4b1e-c7e3-3902e9c7ca7f"
      },
      "source": [
        "# Let's define a Python list that contains 5 stocks: Nvidia, Microsoft, FaceBook, Amazon, and Boeing\n",
        "my_list = ['NVDA', 'MSFT', 'FB', 'AMZN', 'BA']\n",
        "my_list"
      ],
      "execution_count": null,
      "outputs": [
        {
          "output_type": "execute_result",
          "data": {
            "text/plain": [
              "['NVDA', 'MSFT', 'FB', 'AMZN', 'BA']"
            ]
          },
          "metadata": {},
          "execution_count": 3
        }
      ]
    },
    {
      "cell_type": "code",
      "metadata": {
        "colab": {
          "base_uri": "https://localhost:8080/"
        },
        "id": "G-fooAckNafC",
        "outputId": "211a382b-beb7-41a5-9d40-6e39495ed811"
      },
      "source": [
        "# Let's confirm the Datatype\n",
        "type(my_list)"
      ],
      "execution_count": null,
      "outputs": [
        {
          "output_type": "execute_result",
          "data": {
            "text/plain": [
              "list"
            ]
          },
          "metadata": {},
          "execution_count": 4
        }
      ]
    },
    {
      "cell_type": "code",
      "metadata": {
        "colab": {
          "base_uri": "https://localhost:8080/"
        },
        "id": "hle4zw51K6-P",
        "outputId": "8b5c9b56-6054-48f2-ba57-4e5605520466"
      },
      "source": [
        "# Let's create a one dimensional Pandas \"series\" \n",
        "# Let's use Pandas Constructor Method to create a series from a Python list\n",
        "# Note that series is formed of data and associated index (numeric index has been automatically generated) \n",
        "# Check Pandas Documentation for More information: https://pandas.pydata.org/pandas-docs/stable/reference/api/pandas.Series.html#pandas.Series\n",
        "# Object datatype is used for text data (String)\n",
        "\n",
        "series_1 = pd.Series(data = my_list)\n",
        "series_1"
      ],
      "execution_count": null,
      "outputs": [
        {
          "output_type": "execute_result",
          "data": {
            "text/plain": [
              "0    NVDA\n",
              "1    MSFT\n",
              "2      FB\n",
              "3    AMZN\n",
              "4      BA\n",
              "dtype: object"
            ]
          },
          "metadata": {},
          "execution_count": 5
        }
      ]
    },
    {
      "cell_type": "code",
      "metadata": {
        "colab": {
          "base_uri": "https://localhost:8080/"
        },
        "id": "-HNCtPcoNUyf",
        "outputId": "7ded4a60-5230-427c-c0db-1abf065105cb"
      },
      "source": [
        "# Let's confirm the Pandas Series Datatype\n",
        "type(series_1)"
      ],
      "execution_count": null,
      "outputs": [
        {
          "output_type": "execute_result",
          "data": {
            "text/plain": [
              "pandas.core.series.Series"
            ]
          },
          "metadata": {},
          "execution_count": 6
        }
      ]
    },
    {
      "cell_type": "code",
      "metadata": {
        "colab": {
          "base_uri": "https://localhost:8080/"
        },
        "id": "LB2J-qw5LdQI",
        "outputId": "51b71ba7-f360-44c7-c70f-1583768796e6"
      },
      "source": [
        "# Let's define another Pandas Series that contains numeric values (stock prices) instead of text data\n",
        "# Note that we have int64 datatype which means it's integer stored in 64 bits in memory\n",
        "series_2 = pd.Series(data = [100, 200, 500, 1000, 2000])\n",
        "series_2"
      ],
      "execution_count": null,
      "outputs": [
        {
          "output_type": "execute_result",
          "data": {
            "text/plain": [
              "0     100\n",
              "1     200\n",
              "2     500\n",
              "3    1000\n",
              "4    2000\n",
              "dtype: int64"
            ]
          },
          "metadata": {},
          "execution_count": 7
        }
      ]
    },
    {
      "cell_type": "markdown",
      "metadata": {
        "id": "8C0UN46KIntM"
      },
      "source": [
        "**MINI CHALLENGE #1:**\n",
        "- **Define a Pandas Series named \"my_series\" that contains your top 3 favourite movies. Confirm the datatype of \"my_series\"**"
      ]
    },
    {
      "cell_type": "code",
      "metadata": {
        "id": "l2aMAKvpJyWH",
        "colab": {
          "base_uri": "https://localhost:8080/"
        },
        "outputId": "28dc16d7-da49-4c62-dda4-00208fffa44d"
      },
      "source": [
        "movies_1 = ['Jab We Met', 'Titanic', 'Stranger Things']\n",
        "movies_series = pd.Series(data = movies_1)\n",
        "movies_series"
      ],
      "execution_count": null,
      "outputs": [
        {
          "output_type": "execute_result",
          "data": {
            "text/plain": [
              "0         Jab We Met\n",
              "1            Titanic\n",
              "2    Stranger Things\n",
              "dtype: object"
            ]
          },
          "metadata": {},
          "execution_count": 8
        }
      ]
    },
    {
      "cell_type": "code",
      "source": [
        "type(movies_series)"
      ],
      "metadata": {
        "colab": {
          "base_uri": "https://localhost:8080/"
        },
        "id": "55lAVSnE2FRe",
        "outputId": "01934106-55f1-4c64-d31b-a4a46e79ee7d"
      },
      "execution_count": null,
      "outputs": [
        {
          "output_type": "execute_result",
          "data": {
            "text/plain": [
              "pandas.core.series.Series"
            ]
          },
          "metadata": {},
          "execution_count": 9
        }
      ]
    },
    {
      "cell_type": "markdown",
      "metadata": {
        "id": "XN92TgiQOD7I"
      },
      "source": [
        "# 2. DEFINE A PANDAS SERIES WITH CUSTOM INDEX"
      ]
    },
    {
      "cell_type": "code",
      "metadata": {
        "id": "K4Y9jVx1OaN4"
      },
      "source": [
        "# Let's define a Python list that contains 5 stocks: Nvidia, Microsoft, FaceBook, Amazon, and Boeing\n",
        "list_1 = ['NVDA', 'MSFT', 'FB', 'AMZN', 'BA']"
      ],
      "execution_count": null,
      "outputs": []
    },
    {
      "cell_type": "code",
      "metadata": {
        "id": "ZSxdgs_xJvxx"
      },
      "source": [
        "# Let's define a python list as shown below. This python list will be used for the Series index:\n",
        "lable_1 = ['stock#1', 'stock#2', 'stock#3', 'stock#4', 'stock#5']"
      ],
      "execution_count": null,
      "outputs": []
    },
    {
      "cell_type": "code",
      "metadata": {
        "id": "U4Fq06XwqX9v"
      },
      "source": [
        "# Let's create a one dimensional Pandas \"series\" \n",
        "# Let's use Pandas Constructor Method to create a series from a Python list\n",
        "# Note that this series is formed of data and associated labels \n",
        "series_3 = pd.Series(data = list_1, index = lable_1)"
      ],
      "execution_count": null,
      "outputs": []
    },
    {
      "cell_type": "code",
      "metadata": {
        "id": "YhPzprisqX_8",
        "colab": {
          "base_uri": "https://localhost:8080/"
        },
        "outputId": "833dcfaf-634f-4215-e0b7-691bfec0e5ae"
      },
      "source": [
        "# Let's view the series\n",
        "series_3"
      ],
      "execution_count": null,
      "outputs": [
        {
          "output_type": "execute_result",
          "data": {
            "text/plain": [
              "stock#1    NVDA\n",
              "stock#2    MSFT\n",
              "stock#3      FB\n",
              "stock#4    AMZN\n",
              "stock#5      BA\n",
              "dtype: object"
            ]
          },
          "metadata": {},
          "execution_count": 13
        }
      ]
    },
    {
      "cell_type": "code",
      "metadata": {
        "id": "4LPwMO8fsvi1",
        "colab": {
          "base_uri": "https://localhost:8080/"
        },
        "outputId": "1f5eec96-49df-4f10-a080-322ba828c050"
      },
      "source": [
        "# Let's obtain the datatype\n",
        "type(series_3)"
      ],
      "execution_count": null,
      "outputs": [
        {
          "output_type": "execute_result",
          "data": {
            "text/plain": [
              "pandas.core.series.Series"
            ]
          },
          "metadata": {},
          "execution_count": 14
        }
      ]
    },
    {
      "cell_type": "markdown",
      "metadata": {
        "id": "13icipAKL4W5"
      },
      "source": [
        "**MINI CHALLENGE #2:**\n",
        "- **Define a Pandas Series named \"my_series\" that contains your top 3 favourite movies. Instead of using default numeric indexes (similar to mini challenge #1), use the following indexes \"movie #1\", \"Movie #2\", and \"movie #3\"**"
      ]
    },
    {
      "cell_type": "code",
      "source": [
        "list_2 = ['Jab We Met', 'Titanic', 'Stranger Things']"
      ],
      "metadata": {
        "id": "McCDCvRc0dWk"
      },
      "execution_count": null,
      "outputs": []
    },
    {
      "cell_type": "code",
      "source": [
        "lable_2 = ['movie #1', 'movie #2', 'movie #3']"
      ],
      "metadata": {
        "id": "p2o2AgDD0oB5"
      },
      "execution_count": null,
      "outputs": []
    },
    {
      "cell_type": "code",
      "source": [
        "series_4 = pd.Series(data = list_2, index = lable_2)\n",
        "series_4"
      ],
      "metadata": {
        "colab": {
          "base_uri": "https://localhost:8080/"
        },
        "id": "NSzrr_Ie0_EA",
        "outputId": "684df737-0531-4047-ac4e-970c8adfa35b"
      },
      "execution_count": null,
      "outputs": [
        {
          "output_type": "execute_result",
          "data": {
            "text/plain": [
              "movie #1         Jab We Met\n",
              "movie #2            Titanic\n",
              "movie #3    Stranger Things\n",
              "dtype: object"
            ]
          },
          "metadata": {},
          "execution_count": 17
        }
      ]
    },
    {
      "cell_type": "markdown",
      "metadata": {
        "id": "96EH6h9SQYW1"
      },
      "source": [
        "# 3. DEFINE A PANDAS SERIES FROM A DICTIONARY"
      ]
    },
    {
      "cell_type": "code",
      "metadata": {
        "id": "fk9R_fZlML_y"
      },
      "source": [
        "# A Dictionary consists of a collection of key-value pairs. Each key-value pair maps the key to its corresponding value.\n",
        "# Keys are unique within a dictionary while values may not be. \n",
        "# List elements are accessed by their position in the list, via indexing while Dictionary elements are accessed via keys\n",
        "# Define a dictionary named \"my_dict\" using key-value pairs\n",
        "\n",
        "dict_1 = {'Bank client id': 201,\n",
        "          'Bank client name': 'Shrishti',\n",
        "          'Net worth (INR)': 45000,\n",
        "          'Years with bank': 6,}"
      ],
      "execution_count": null,
      "outputs": []
    },
    {
      "cell_type": "code",
      "metadata": {
        "id": "BlHhf-YPQdrB",
        "colab": {
          "base_uri": "https://localhost:8080/"
        },
        "outputId": "a62d23bc-67cd-4cd7-9b3f-fb923808e5d6"
      },
      "source": [
        "# Show the dictionary\n",
        "dict_1"
      ],
      "execution_count": null,
      "outputs": [
        {
          "output_type": "execute_result",
          "data": {
            "text/plain": [
              "{'Bank client id': 201,\n",
              " 'Bank client name': 'Shrishti',\n",
              " 'Net worth (INR)': 45000,\n",
              " 'Years with bank': 6}"
            ]
          },
          "metadata": {},
          "execution_count": 21
        }
      ]
    },
    {
      "cell_type": "code",
      "metadata": {
        "colab": {
          "base_uri": "https://localhost:8080/"
        },
        "id": "0b4KQo3JMcI0",
        "outputId": "53b6cf35-b13f-467c-9c17-461db7db7c9a"
      },
      "source": [
        "# Confirm the dictionary datatype \n",
        "type(dict_1)"
      ],
      "execution_count": null,
      "outputs": [
        {
          "output_type": "execute_result",
          "data": {
            "text/plain": [
              "dict"
            ]
          },
          "metadata": {},
          "execution_count": 22
        }
      ]
    },
    {
      "cell_type": "code",
      "metadata": {
        "colab": {
          "base_uri": "https://localhost:8080/"
        },
        "id": "LeH27Q4aQeXe",
        "outputId": "3065d43a-96cf-4dc4-8876-5e5f6fcac150"
      },
      "source": [
        "# Let's define a Pandas Series Using the dictionary\n",
        "series_5 = pd.Series(dict_1)\n",
        "series_5"
      ],
      "execution_count": null,
      "outputs": [
        {
          "output_type": "execute_result",
          "data": {
            "text/plain": [
              "Bank client id           201\n",
              "Bank client name    Shrishti\n",
              "Net worth (INR)        45000\n",
              "Years with bank            6\n",
              "dtype: object"
            ]
          },
          "metadata": {},
          "execution_count": 23
        }
      ]
    },
    {
      "cell_type": "markdown",
      "metadata": {
        "id": "_Tk4kxlLNI85"
      },
      "source": [
        "**MINI CHALLENGE #3:**\n",
        "- **Create a Pandas Series from a dictionary with 3 of your favourite stocks and their corresponding prices** "
      ]
    },
    {
      "cell_type": "code",
      "metadata": {
        "id": "nlG7J4oKNLuY",
        "colab": {
          "base_uri": "https://localhost:8080/"
        },
        "outputId": "90aa6568-e3e6-4c8c-f1f5-3efef8b3cb2f"
      },
      "source": [
        "my_dict = {'Netflix': 990,\n",
        "           'AMZN': 1500,\n",
        "           'MSFT': 1200}\n",
        "\n",
        "print(my_dict)"
      ],
      "execution_count": null,
      "outputs": [
        {
          "output_type": "stream",
          "name": "stdout",
          "text": [
            "{'Netflix': 990, 'AMZN': 1500, 'MSFT': 1200}\n"
          ]
        }
      ]
    },
    {
      "cell_type": "code",
      "source": [
        "series_6 = pd.Series(my_dict)\n",
        "series_6"
      ],
      "metadata": {
        "colab": {
          "base_uri": "https://localhost:8080/"
        },
        "id": "VGmJmTNjQR8Z",
        "outputId": "caaa1f42-07fb-44a0-b0a5-d18846235400"
      },
      "execution_count": null,
      "outputs": [
        {
          "output_type": "execute_result",
          "data": {
            "text/plain": [
              "Netflix     990\n",
              "AMZN       1500\n",
              "MSFT       1200\n",
              "dtype: int64"
            ]
          },
          "metadata": {},
          "execution_count": 25
        }
      ]
    },
    {
      "cell_type": "markdown",
      "metadata": {
        "id": "VGlb7t7WRIR3"
      },
      "source": [
        "# 4. PANDAS ATTRIBUTES"
      ]
    },
    {
      "cell_type": "code",
      "metadata": {
        "id": "p4FauWQlRRD8",
        "colab": {
          "base_uri": "https://localhost:8080/"
        },
        "outputId": "1705e6fa-9658-4970-dbdb-5dbe5d900fe2"
      },
      "source": [
        "# Attributes/Properties: do not use parantheses \"()\" and are used to get Pandas Series Properties. Ex: my_series.values, my_series.shape\n",
        "# Methods: use parantheses \"()\" and might include arguments and they actually alter/change the Pandas Series. Ex: my_series.tail(), my_series.head(), my_series.drop_duplicates()\n",
        "# Indexers: use square brackets \"[]\" and are used to access specific elements in a Pandas Series or DataFrame. Ex: my_series.loc[], my_series.iloc[]\n",
        "\n",
        "# Let's redefine a Pandas Series containing our favourite 5 stocks \n",
        "# Nvidia, Microsoft, FaceBook, Amazon, and Boeing\n",
        "\n",
        "list_3 = ['NVDA', 'MSFT', 'FB', 'AMZN', 'BA']\n",
        "series_7 = pd.Series(data = list_3)\n",
        "series_7"
      ],
      "execution_count": null,
      "outputs": [
        {
          "output_type": "execute_result",
          "data": {
            "text/plain": [
              "0    NVDA\n",
              "1    MSFT\n",
              "2      FB\n",
              "3    AMZN\n",
              "4      BA\n",
              "dtype: object"
            ]
          },
          "metadata": {},
          "execution_count": 26
        }
      ]
    },
    {
      "cell_type": "code",
      "metadata": {
        "colab": {
          "base_uri": "https://localhost:8080/"
        },
        "id": "KBgZI_vHQeeA",
        "outputId": "feed0bc6-77a7-4401-ea18-e2f47036d2a8"
      },
      "source": [
        "# \".Values\" attribute is used to return Series as ndarray depending on its dtype\n",
        "# Check this for more information: https://pandas.pydata.org/docs/reference/api/pandas.Series.values.html#pandas.Series.values\n",
        "series_7.values"
      ],
      "execution_count": null,
      "outputs": [
        {
          "output_type": "execute_result",
          "data": {
            "text/plain": [
              "array(['NVDA', 'MSFT', 'FB', 'AMZN', 'BA'], dtype=object)"
            ]
          },
          "metadata": {},
          "execution_count": 27
        }
      ]
    },
    {
      "cell_type": "code",
      "metadata": {
        "colab": {
          "base_uri": "https://localhost:8080/"
        },
        "id": "YDunyBEQRtoJ",
        "outputId": "c2dede8f-6aa0-47cc-9719-d6e7aa569d61"
      },
      "source": [
        "# index is used to return the index (axis labels) of the Series\n",
        "series_7.index"
      ],
      "execution_count": null,
      "outputs": [
        {
          "output_type": "execute_result",
          "data": {
            "text/plain": [
              "RangeIndex(start=0, stop=5, step=1)"
            ]
          },
          "metadata": {},
          "execution_count": 28
        }
      ]
    },
    {
      "cell_type": "code",
      "metadata": {
        "colab": {
          "base_uri": "https://localhost:8080/"
        },
        "id": "7bgfGfQaSrqw",
        "outputId": "e7ddb84e-70c1-4bf0-842e-8582f737aae6"
      },
      "source": [
        "# dtype is used to return the datatype of the Series ('O' stands for 'object' datatype)\n",
        "series_7.dtype"
      ],
      "execution_count": null,
      "outputs": [
        {
          "output_type": "execute_result",
          "data": {
            "text/plain": [
              "dtype('O')"
            ]
          },
          "metadata": {},
          "execution_count": 29
        }
      ]
    },
    {
      "cell_type": "code",
      "metadata": {
        "colab": {
          "base_uri": "https://localhost:8080/"
        },
        "id": "XeQtP9v2dxzu",
        "outputId": "67cc01b2-7f59-41fd-9bca-863512223105"
      },
      "source": [
        "# Check if all elements are unique or not\n",
        "series_7.is_unique"
      ],
      "execution_count": null,
      "outputs": [
        {
          "output_type": "execute_result",
          "data": {
            "text/plain": [
              "True"
            ]
          },
          "metadata": {},
          "execution_count": 30
        }
      ]
    },
    {
      "cell_type": "code",
      "metadata": {
        "colab": {
          "base_uri": "https://localhost:8080/"
        },
        "id": "8VWnKVh0d7Kw",
        "outputId": "3c42d515-a37d-486d-f2f4-07e0de8aade9"
      },
      "source": [
        "# Check the shape of the Series\n",
        "# note that a Series is one dimensional\n",
        "series_7.shape"
      ],
      "execution_count": null,
      "outputs": [
        {
          "output_type": "execute_result",
          "data": {
            "text/plain": [
              "(5,)"
            ]
          },
          "metadata": {},
          "execution_count": 31
        }
      ]
    },
    {
      "cell_type": "markdown",
      "metadata": {
        "id": "gPL7KbA3XGr1"
      },
      "source": [
        "**MINI CHALLENGE #4:** \n",
        "- **What is the size of the Pandas Series? (External Research for the proper attribute is Required)**"
      ]
    },
    {
      "cell_type": "code",
      "metadata": {
        "id": "SyfddtryXbmX",
        "colab": {
          "base_uri": "https://localhost:8080/"
        },
        "outputId": "1c104c73-f2bc-4d68-b8f9-74083c265460"
      },
      "source": [
        "series_7.size"
      ],
      "execution_count": null,
      "outputs": [
        {
          "output_type": "execute_result",
          "data": {
            "text/plain": [
              "5"
            ]
          },
          "metadata": {},
          "execution_count": 32
        }
      ]
    },
    {
      "cell_type": "markdown",
      "metadata": {
        "id": "Qc7sVau-UtYt"
      },
      "source": [
        "# 5. PANDAS METHODS"
      ]
    },
    {
      "cell_type": "code",
      "metadata": {
        "colab": {
          "base_uri": "https://localhost:8080/"
        },
        "id": "5gwWM4VvUxI2",
        "outputId": "81a6d61d-23f1-496c-f860-3bea0110056b"
      },
      "source": [
        "# Methods have parentheses and they actually alter/change the Pandas Series\n",
        "# Methods: use parantheses \"()\" and might include arguments. Ex: my_series.tail(), my_series.head(), my_series.drop_duplicates()\n",
        "\n",
        "# Let's define another Pandas Series that contains numeric values (stock prices) instead of text data\n",
        "# Note that we have int64 datatype which means it contains integer values stored in 64 bits in memory\n",
        "\n",
        "series_8 = pd.Series(data = [100, 200, 500, 1000, 5000])\n",
        "series_8 "
      ],
      "execution_count": null,
      "outputs": [
        {
          "output_type": "execute_result",
          "data": {
            "text/plain": [
              "0     100\n",
              "1     200\n",
              "2     500\n",
              "3    1000\n",
              "4    5000\n",
              "dtype: int64"
            ]
          },
          "metadata": {},
          "execution_count": 33
        }
      ]
    },
    {
      "cell_type": "code",
      "metadata": {
        "colab": {
          "base_uri": "https://localhost:8080/"
        },
        "id": "ImwFgVASUxLa",
        "outputId": "fa5a5a92-27e4-4a44-cd3e-39d78c096a32"
      },
      "source": [
        "# Let's obtain the sum of all elements in the Pandas Series\n",
        "series_8.sum()"
      ],
      "execution_count": null,
      "outputs": [
        {
          "output_type": "execute_result",
          "data": {
            "text/plain": [
              "6800"
            ]
          },
          "metadata": {},
          "execution_count": 34
        }
      ]
    },
    {
      "cell_type": "code",
      "metadata": {
        "colab": {
          "base_uri": "https://localhost:8080/"
        },
        "id": "OLa69YwxUxOa",
        "outputId": "21b66cce-780a-4bdb-8c74-1ae87e56fafd"
      },
      "source": [
        "# Let's obtain the multiplication of all elements in the Pandas Series\n",
        "series_8.product()"
      ],
      "execution_count": null,
      "outputs": [
        {
          "output_type": "execute_result",
          "data": {
            "text/plain": [
              "50000000000000"
            ]
          },
          "metadata": {},
          "execution_count": 35
        }
      ]
    },
    {
      "cell_type": "code",
      "metadata": {
        "colab": {
          "base_uri": "https://localhost:8080/"
        },
        "id": "xVMJtbtkUxQ-",
        "outputId": "fd4d9895-a6cd-4ab5-9d5b-2530f77384a1"
      },
      "source": [
        "# Let's obtain the average\n",
        "series_8.mean()"
      ],
      "execution_count": null,
      "outputs": [
        {
          "output_type": "execute_result",
          "data": {
            "text/plain": [
              "1360.0"
            ]
          },
          "metadata": {},
          "execution_count": 36
        }
      ]
    },
    {
      "cell_type": "code",
      "metadata": {
        "colab": {
          "base_uri": "https://localhost:8080/"
        },
        "id": "FgqSFr98YTUw",
        "outputId": "697fd7c3-182d-4cea-8d6f-7037aee62ea0"
      },
      "source": [
        "# Let's show the first couple of elements in the Pandas Series\n",
        "series_8.head(2)"
      ],
      "execution_count": null,
      "outputs": [
        {
          "output_type": "execute_result",
          "data": {
            "text/plain": [
              "0    100\n",
              "1    200\n",
              "dtype: int64"
            ]
          },
          "metadata": {},
          "execution_count": 37
        }
      ]
    },
    {
      "cell_type": "code",
      "metadata": {
        "colab": {
          "base_uri": "https://localhost:8080/"
        },
        "id": "GFoxw41LZrBs",
        "outputId": "000e0795-50da-4a9f-e759-81f29f2f0ec2"
      },
      "source": [
        "# Note that head creates a new dataframe \n",
        "new_series = series_8.head(3)\n",
        "new_series"
      ],
      "execution_count": null,
      "outputs": [
        {
          "output_type": "execute_result",
          "data": {
            "text/plain": [
              "0    100\n",
              "1    200\n",
              "2    500\n",
              "dtype: int64"
            ]
          },
          "metadata": {},
          "execution_count": 38
        }
      ]
    },
    {
      "cell_type": "markdown",
      "metadata": {
        "id": "DHknLT4PTrjn"
      },
      "source": [
        "**MINI CHALLENGE #5:** \n",
        "- **Show the last 2 rows in the Pandas Series (External Research is Required)** \n",
        "- **How many bytes does this Pandas Series consume in memory? (External Research is Required)**"
      ]
    },
    {
      "cell_type": "code",
      "metadata": {
        "colab": {
          "base_uri": "https://localhost:8080/"
        },
        "id": "UUiOynSPSshX",
        "outputId": "b13fa5d0-96b9-4c52-be94-9593ef3695d1"
      },
      "source": [
        "series_8.tail(2)"
      ],
      "execution_count": null,
      "outputs": [
        {
          "output_type": "execute_result",
          "data": {
            "text/plain": [
              "3    1000\n",
              "4    5000\n",
              "dtype: int64"
            ]
          },
          "metadata": {},
          "execution_count": 39
        }
      ]
    },
    {
      "cell_type": "markdown",
      "metadata": {
        "id": "vzu3jPDbasz5"
      },
      "source": [
        "# 6. IMPORT CSV DATA (1-D) USING PANDAS"
      ]
    },
    {
      "cell_type": "code",
      "metadata": {
        "id": "zLiVpmH2asz6",
        "colab": {
          "base_uri": "https://localhost:8080/"
        },
        "outputId": "ce5931a9-d32d-406e-ca1d-f4cd33715641"
      },
      "source": [
        "# Pandas read_csv is used to read a csv file and store data in a DataFrame by default (DataFrames will be covered shortly!)\n",
        "# Use Squeeze to convert it into a Pandas Series (One-dimensional)\n",
        "# Notice that no foramtting exists when a Series is plotted\n",
        "\n",
        "sp500 = pd.read_csv('/content/S_P500_Prices.csv', squeeze=True)\n",
        "sp500"
      ],
      "execution_count": null,
      "outputs": [
        {
          "output_type": "execute_result",
          "data": {
            "text/plain": [
              "0       1295.500000\n",
              "1       1289.089966\n",
              "2       1293.670044\n",
              "3       1308.040039\n",
              "4       1314.500000\n",
              "           ...     \n",
              "2154    3327.770020\n",
              "2155    3349.159912\n",
              "2156    3351.280029\n",
              "2157    3360.469971\n",
              "2158    3333.689941\n",
              "Name: sp500, Length: 2159, dtype: float64"
            ]
          },
          "metadata": {},
          "execution_count": 41
        }
      ]
    },
    {
      "cell_type": "markdown",
      "metadata": {
        "id": "CykEEAr9S--X"
      },
      "source": [
        "**MINI CHALLENGE #6:**\n",
        "- **Set Squeeze = False and rerun the cell, what do you notice? Use Type to compare both outputs**"
      ]
    },
    {
      "cell_type": "code",
      "metadata": {
        "id": "DVEio_JnTArn",
        "colab": {
          "base_uri": "https://localhost:8080/",
          "height": 424
        },
        "outputId": "aee82624-55f5-4bf5-b5bd-72826363e63a"
      },
      "source": [
        "sp500_2 = pd.read_csv('/content/S_P500_Prices.csv', squeeze=False)\n",
        "sp500_2"
      ],
      "execution_count": null,
      "outputs": [
        {
          "output_type": "execute_result",
          "data": {
            "text/plain": [
              "            sp500\n",
              "0     1295.500000\n",
              "1     1289.089966\n",
              "2     1293.670044\n",
              "3     1308.040039\n",
              "4     1314.500000\n",
              "...           ...\n",
              "2154  3327.770020\n",
              "2155  3349.159912\n",
              "2156  3351.280029\n",
              "2157  3360.469971\n",
              "2158  3333.689941\n",
              "\n",
              "[2159 rows x 1 columns]"
            ],
            "text/html": [
              "\n",
              "  <div id=\"df-374e70bf-6722-4fe4-a491-bf90b9c1b065\">\n",
              "    <div class=\"colab-df-container\">\n",
              "      <div>\n",
              "<style scoped>\n",
              "    .dataframe tbody tr th:only-of-type {\n",
              "        vertical-align: middle;\n",
              "    }\n",
              "\n",
              "    .dataframe tbody tr th {\n",
              "        vertical-align: top;\n",
              "    }\n",
              "\n",
              "    .dataframe thead th {\n",
              "        text-align: right;\n",
              "    }\n",
              "</style>\n",
              "<table border=\"1\" class=\"dataframe\">\n",
              "  <thead>\n",
              "    <tr style=\"text-align: right;\">\n",
              "      <th></th>\n",
              "      <th>sp500</th>\n",
              "    </tr>\n",
              "  </thead>\n",
              "  <tbody>\n",
              "    <tr>\n",
              "      <th>0</th>\n",
              "      <td>1295.500000</td>\n",
              "    </tr>\n",
              "    <tr>\n",
              "      <th>1</th>\n",
              "      <td>1289.089966</td>\n",
              "    </tr>\n",
              "    <tr>\n",
              "      <th>2</th>\n",
              "      <td>1293.670044</td>\n",
              "    </tr>\n",
              "    <tr>\n",
              "      <th>3</th>\n",
              "      <td>1308.040039</td>\n",
              "    </tr>\n",
              "    <tr>\n",
              "      <th>4</th>\n",
              "      <td>1314.500000</td>\n",
              "    </tr>\n",
              "    <tr>\n",
              "      <th>...</th>\n",
              "      <td>...</td>\n",
              "    </tr>\n",
              "    <tr>\n",
              "      <th>2154</th>\n",
              "      <td>3327.770020</td>\n",
              "    </tr>\n",
              "    <tr>\n",
              "      <th>2155</th>\n",
              "      <td>3349.159912</td>\n",
              "    </tr>\n",
              "    <tr>\n",
              "      <th>2156</th>\n",
              "      <td>3351.280029</td>\n",
              "    </tr>\n",
              "    <tr>\n",
              "      <th>2157</th>\n",
              "      <td>3360.469971</td>\n",
              "    </tr>\n",
              "    <tr>\n",
              "      <th>2158</th>\n",
              "      <td>3333.689941</td>\n",
              "    </tr>\n",
              "  </tbody>\n",
              "</table>\n",
              "<p>2159 rows × 1 columns</p>\n",
              "</div>\n",
              "      <button class=\"colab-df-convert\" onclick=\"convertToInteractive('df-374e70bf-6722-4fe4-a491-bf90b9c1b065')\"\n",
              "              title=\"Convert this dataframe to an interactive table.\"\n",
              "              style=\"display:none;\">\n",
              "        \n",
              "  <svg xmlns=\"http://www.w3.org/2000/svg\" height=\"24px\"viewBox=\"0 0 24 24\"\n",
              "       width=\"24px\">\n",
              "    <path d=\"M0 0h24v24H0V0z\" fill=\"none\"/>\n",
              "    <path d=\"M18.56 5.44l.94 2.06.94-2.06 2.06-.94-2.06-.94-.94-2.06-.94 2.06-2.06.94zm-11 1L8.5 8.5l.94-2.06 2.06-.94-2.06-.94L8.5 2.5l-.94 2.06-2.06.94zm10 10l.94 2.06.94-2.06 2.06-.94-2.06-.94-.94-2.06-.94 2.06-2.06.94z\"/><path d=\"M17.41 7.96l-1.37-1.37c-.4-.4-.92-.59-1.43-.59-.52 0-1.04.2-1.43.59L10.3 9.45l-7.72 7.72c-.78.78-.78 2.05 0 2.83L4 21.41c.39.39.9.59 1.41.59.51 0 1.02-.2 1.41-.59l7.78-7.78 2.81-2.81c.8-.78.8-2.07 0-2.86zM5.41 20L4 18.59l7.72-7.72 1.47 1.35L5.41 20z\"/>\n",
              "  </svg>\n",
              "      </button>\n",
              "      \n",
              "  <style>\n",
              "    .colab-df-container {\n",
              "      display:flex;\n",
              "      flex-wrap:wrap;\n",
              "      gap: 12px;\n",
              "    }\n",
              "\n",
              "    .colab-df-convert {\n",
              "      background-color: #E8F0FE;\n",
              "      border: none;\n",
              "      border-radius: 50%;\n",
              "      cursor: pointer;\n",
              "      display: none;\n",
              "      fill: #1967D2;\n",
              "      height: 32px;\n",
              "      padding: 0 0 0 0;\n",
              "      width: 32px;\n",
              "    }\n",
              "\n",
              "    .colab-df-convert:hover {\n",
              "      background-color: #E2EBFA;\n",
              "      box-shadow: 0px 1px 2px rgba(60, 64, 67, 0.3), 0px 1px 3px 1px rgba(60, 64, 67, 0.15);\n",
              "      fill: #174EA6;\n",
              "    }\n",
              "\n",
              "    [theme=dark] .colab-df-convert {\n",
              "      background-color: #3B4455;\n",
              "      fill: #D2E3FC;\n",
              "    }\n",
              "\n",
              "    [theme=dark] .colab-df-convert:hover {\n",
              "      background-color: #434B5C;\n",
              "      box-shadow: 0px 1px 3px 1px rgba(0, 0, 0, 0.15);\n",
              "      filter: drop-shadow(0px 1px 2px rgba(0, 0, 0, 0.3));\n",
              "      fill: #FFFFFF;\n",
              "    }\n",
              "  </style>\n",
              "\n",
              "      <script>\n",
              "        const buttonEl =\n",
              "          document.querySelector('#df-374e70bf-6722-4fe4-a491-bf90b9c1b065 button.colab-df-convert');\n",
              "        buttonEl.style.display =\n",
              "          google.colab.kernel.accessAllowed ? 'block' : 'none';\n",
              "\n",
              "        async function convertToInteractive(key) {\n",
              "          const element = document.querySelector('#df-374e70bf-6722-4fe4-a491-bf90b9c1b065');\n",
              "          const dataTable =\n",
              "            await google.colab.kernel.invokeFunction('convertToInteractive',\n",
              "                                                     [key], {});\n",
              "          if (!dataTable) return;\n",
              "\n",
              "          const docLinkHtml = 'Like what you see? Visit the ' +\n",
              "            '<a target=\"_blank\" href=https://colab.research.google.com/notebooks/data_table.ipynb>data table notebook</a>'\n",
              "            + ' to learn more about interactive tables.';\n",
              "          element.innerHTML = '';\n",
              "          dataTable['output_type'] = 'display_data';\n",
              "          await google.colab.output.renderOutput(dataTable, element);\n",
              "          const docLink = document.createElement('div');\n",
              "          docLink.innerHTML = docLinkHtml;\n",
              "          element.appendChild(docLink);\n",
              "        }\n",
              "      </script>\n",
              "    </div>\n",
              "  </div>\n",
              "  "
            ]
          },
          "metadata": {},
          "execution_count": 42
        }
      ]
    },
    {
      "cell_type": "code",
      "source": [
        "type(sp500)"
      ],
      "metadata": {
        "colab": {
          "base_uri": "https://localhost:8080/"
        },
        "id": "mu5JXrcQv1aR",
        "outputId": "4762312f-f553-47e1-9cc9-1e15bb2218c1"
      },
      "execution_count": null,
      "outputs": [
        {
          "output_type": "execute_result",
          "data": {
            "text/plain": [
              "pandas.core.series.Series"
            ]
          },
          "metadata": {},
          "execution_count": 43
        }
      ]
    },
    {
      "cell_type": "code",
      "source": [
        "type(sp500_2)"
      ],
      "metadata": {
        "colab": {
          "base_uri": "https://localhost:8080/"
        },
        "id": "ZgiLL5mZwBIA",
        "outputId": "71951c9f-d4d7-4b11-e5aa-1d8d648ad173"
      },
      "execution_count": null,
      "outputs": [
        {
          "output_type": "execute_result",
          "data": {
            "text/plain": [
              "pandas.core.frame.DataFrame"
            ]
          },
          "metadata": {},
          "execution_count": 44
        }
      ]
    },
    {
      "cell_type": "markdown",
      "metadata": {
        "id": "8HBGOWjKaK_i"
      },
      "source": [
        "# 7. PANDAS BUILT-IN FUNCTIONS"
      ]
    },
    {
      "cell_type": "code",
      "metadata": {
        "id": "-Q-1iWEqaP6y",
        "colab": {
          "base_uri": "https://localhost:8080/"
        },
        "outputId": "5ef39a5e-b349-4c74-a43a-712e642c9c1c"
      },
      "source": [
        "# Pandas works great with pre-existing python functions \n",
        "# You don't have to play with pandas methods and directly leverage Python functions\n",
        "# Check Python built-in functions here: https://docs.python.org/3/library/functions.html\n",
        "\n",
        "sp500 = pd.read_csv('/content/S_P500_Prices.csv', squeeze=True)\n",
        "sp500"
      ],
      "execution_count": null,
      "outputs": [
        {
          "output_type": "execute_result",
          "data": {
            "text/plain": [
              "0       1295.500000\n",
              "1       1289.089966\n",
              "2       1293.670044\n",
              "3       1308.040039\n",
              "4       1314.500000\n",
              "           ...     \n",
              "2154    3327.770020\n",
              "2155    3349.159912\n",
              "2156    3351.280029\n",
              "2157    3360.469971\n",
              "2158    3333.689941\n",
              "Name: sp500, Length: 2159, dtype: float64"
            ]
          },
          "metadata": {},
          "execution_count": 45
        }
      ]
    },
    {
      "cell_type": "code",
      "metadata": {
        "id": "g759k2IPdVH-",
        "colab": {
          "base_uri": "https://localhost:8080/"
        },
        "outputId": "19175984-b2ed-41d6-9321-45b5b1f0a59c"
      },
      "source": [
        "# Obtain the Data Type of the Pandas Series\n",
        "type(sp500)"
      ],
      "execution_count": null,
      "outputs": [
        {
          "output_type": "execute_result",
          "data": {
            "text/plain": [
              "pandas.core.series.Series"
            ]
          },
          "metadata": {},
          "execution_count": 46
        }
      ]
    },
    {
      "cell_type": "code",
      "metadata": {
        "id": "NbKysqrSaQ32",
        "colab": {
          "base_uri": "https://localhost:8080/"
        },
        "outputId": "39af4a63-d441-4c1e-da15-46a51accba55"
      },
      "source": [
        "# Obtain the length of the Pandas Series\n",
        "len(sp500)"
      ],
      "execution_count": null,
      "outputs": [
        {
          "output_type": "execute_result",
          "data": {
            "text/plain": [
              "2159"
            ]
          },
          "metadata": {},
          "execution_count": 47
        }
      ]
    },
    {
      "cell_type": "code",
      "metadata": {
        "id": "FeeA8actaQ6P",
        "colab": {
          "base_uri": "https://localhost:8080/"
        },
        "outputId": "d3968635-807f-4609-e40f-9c042909c257"
      },
      "source": [
        "# Obtain the maximum value of the Pandas Series\n",
        "max(sp500)"
      ],
      "execution_count": null,
      "outputs": [
        {
          "output_type": "execute_result",
          "data": {
            "text/plain": [
              "3386.149902"
            ]
          },
          "metadata": {},
          "execution_count": 48
        }
      ]
    },
    {
      "cell_type": "code",
      "metadata": {
        "id": "fyhw96-JaQ8a",
        "colab": {
          "base_uri": "https://localhost:8080/"
        },
        "outputId": "690b6c73-4379-4851-c1e1-625a7585002d"
      },
      "source": [
        "# Obtain the minimum value of the Pandas Series\n",
        "min(sp500)"
      ],
      "execution_count": null,
      "outputs": [
        {
          "output_type": "execute_result",
          "data": {
            "text/plain": [
              "1278.040039"
            ]
          },
          "metadata": {},
          "execution_count": 49
        }
      ]
    },
    {
      "cell_type": "markdown",
      "metadata": {
        "id": "NCnRK6oMVCtg"
      },
      "source": [
        "**MINI CHALLENGE #7:**\n",
        "- **Given the following Pandas Series, convert all positive values to negative using python built-in functions**\n",
        "- **Obtain only unique values (ie: Remove duplicates) using python built-in functions**\n",
        "- **my_series = pd.Series(data = [-10, 100, -30, 50, 100])**\n"
      ]
    },
    {
      "cell_type": "code",
      "metadata": {
        "id": "DG-Tjp6PVEpW",
        "colab": {
          "base_uri": "https://localhost:8080/"
        },
        "outputId": "cc85c43d-3e3e-434d-9876-3a1d1617f72c"
      },
      "source": [
        "-abs(sp500)"
      ],
      "execution_count": null,
      "outputs": [
        {
          "output_type": "execute_result",
          "data": {
            "text/plain": [
              "0      -1295.500000\n",
              "1      -1289.089966\n",
              "2      -1293.670044\n",
              "3      -1308.040039\n",
              "4      -1314.500000\n",
              "           ...     \n",
              "2154   -3327.770020\n",
              "2155   -3349.159912\n",
              "2156   -3351.280029\n",
              "2157   -3360.469971\n",
              "2158   -3333.689941\n",
              "Name: sp500, Length: 2159, dtype: float64"
            ]
          },
          "metadata": {},
          "execution_count": 50
        }
      ]
    },
    {
      "cell_type": "code",
      "source": [
        "sp500.is_unique"
      ],
      "metadata": {
        "colab": {
          "base_uri": "https://localhost:8080/"
        },
        "id": "KQuabt2yCeLw",
        "outputId": "7a00e9e0-9bdd-4aff-8c0d-f6c8c81c4b1e"
      },
      "execution_count": null,
      "outputs": [
        {
          "output_type": "execute_result",
          "data": {
            "text/plain": [
              "False"
            ]
          },
          "metadata": {},
          "execution_count": 51
        }
      ]
    },
    {
      "cell_type": "code",
      "source": [
        "sp500 = sp500.drop_duplicates()\n",
        "sp500"
      ],
      "metadata": {
        "colab": {
          "base_uri": "https://localhost:8080/"
        },
        "id": "4P1KQ2ftCITK",
        "outputId": "630adbd5-b8f4-4396-8d7b-702edf05d3ab"
      },
      "execution_count": null,
      "outputs": [
        {
          "output_type": "execute_result",
          "data": {
            "text/plain": [
              "0       1295.500000\n",
              "1       1289.089966\n",
              "2       1293.670044\n",
              "3       1308.040039\n",
              "4       1314.500000\n",
              "           ...     \n",
              "2154    3327.770020\n",
              "2155    3349.159912\n",
              "2156    3351.280029\n",
              "2157    3360.469971\n",
              "2158    3333.689941\n",
              "Name: sp500, Length: 2147, dtype: float64"
            ]
          },
          "metadata": {},
          "execution_count": 52
        }
      ]
    },
    {
      "cell_type": "code",
      "source": [
        "sp500.is_unique"
      ],
      "metadata": {
        "colab": {
          "base_uri": "https://localhost:8080/"
        },
        "id": "TxxsHUdaC1--",
        "outputId": "661f8c3b-a128-42a9-ca3f-b882546be923"
      },
      "execution_count": null,
      "outputs": [
        {
          "output_type": "execute_result",
          "data": {
            "text/plain": [
              "True"
            ]
          },
          "metadata": {},
          "execution_count": 53
        }
      ]
    },
    {
      "cell_type": "markdown",
      "source": [
        "The real soln"
      ],
      "metadata": {
        "id": "oA3Uh0DHFAA9"
      }
    },
    {
      "cell_type": "code",
      "source": [
        "my_series = pd.Series(data = [-10, 100, -30, 50, 100])\n",
        "my_series"
      ],
      "metadata": {
        "colab": {
          "base_uri": "https://localhost:8080/"
        },
        "id": "6Ad4fp1HFIBc",
        "outputId": "c4063a40-f6ee-4333-8755-215da655e8f5"
      },
      "execution_count": null,
      "outputs": [
        {
          "output_type": "execute_result",
          "data": {
            "text/plain": [
              "0    -10\n",
              "1    100\n",
              "2    -30\n",
              "3     50\n",
              "4    100\n",
              "dtype: int64"
            ]
          },
          "metadata": {},
          "execution_count": 54
        }
      ]
    },
    {
      "cell_type": "code",
      "source": [
        "abs(my_series)"
      ],
      "metadata": {
        "colab": {
          "base_uri": "https://localhost:8080/"
        },
        "id": "rQi0W3EbFxsO",
        "outputId": "9e40addb-bf0c-41cb-e98d-3f935a843054"
      },
      "execution_count": null,
      "outputs": [
        {
          "output_type": "execute_result",
          "data": {
            "text/plain": [
              "0     10\n",
              "1    100\n",
              "2     30\n",
              "3     50\n",
              "4    100\n",
              "dtype: int64"
            ]
          },
          "metadata": {},
          "execution_count": 55
        }
      ]
    },
    {
      "cell_type": "code",
      "source": [
        "set(my_series)"
      ],
      "metadata": {
        "colab": {
          "base_uri": "https://localhost:8080/"
        },
        "id": "CWivxVUJGiB1",
        "outputId": "1b49b47f-3bb6-4eea-c6b5-086014336e67"
      },
      "execution_count": null,
      "outputs": [
        {
          "output_type": "execute_result",
          "data": {
            "text/plain": [
              "{-30, -10, 50, 100}"
            ]
          },
          "metadata": {},
          "execution_count": 56
        }
      ]
    },
    {
      "cell_type": "markdown",
      "metadata": {
        "id": "LKDuJ94RvB85"
      },
      "source": [
        "# 8. SORTING PANDAS SERIES"
      ]
    },
    {
      "cell_type": "code",
      "metadata": {
        "id": "f-aRTmn9u7DA",
        "colab": {
          "base_uri": "https://localhost:8080/"
        },
        "outputId": "e55685e8-0590-4484-f986-3e4976a0c163"
      },
      "source": [
        "# Let's import CSV data as follows:\n",
        "sp500_3 = pd.read_csv('/content/S_P500_Prices.csv', squeeze=True)\n",
        "sp500_3"
      ],
      "execution_count": null,
      "outputs": [
        {
          "output_type": "execute_result",
          "data": {
            "text/plain": [
              "0       1295.500000\n",
              "1       1289.089966\n",
              "2       1293.670044\n",
              "3       1308.040039\n",
              "4       1314.500000\n",
              "           ...     \n",
              "2154    3327.770020\n",
              "2155    3349.159912\n",
              "2156    3351.280029\n",
              "2157    3360.469971\n",
              "2158    3333.689941\n",
              "Name: sp500, Length: 2159, dtype: float64"
            ]
          },
          "metadata": {},
          "execution_count": 57
        }
      ]
    },
    {
      "cell_type": "code",
      "metadata": {
        "id": "DaglhPNevFYC",
        "colab": {
          "base_uri": "https://localhost:8080/"
        },
        "outputId": "8a62b6a8-16dd-40cc-97e6-f32ce6b31a7f"
      },
      "source": [
        "# You can sort the values in the dataframe as follows\n",
        "sp500_3.sort_values()"
      ],
      "execution_count": null,
      "outputs": [
        {
          "output_type": "execute_result",
          "data": {
            "text/plain": [
              "97      1278.040039\n",
              "98      1278.180054\n",
              "99      1285.500000\n",
              "1       1289.089966\n",
              "2       1293.670044\n",
              "           ...     \n",
              "2038    3373.229980\n",
              "2034    3373.939941\n",
              "2033    3379.449951\n",
              "2035    3380.159912\n",
              "2037    3386.149902\n",
              "Name: sp500, Length: 2159, dtype: float64"
            ]
          },
          "metadata": {},
          "execution_count": 58
        }
      ]
    },
    {
      "cell_type": "code",
      "metadata": {
        "id": "AjzLtDlevFaW",
        "colab": {
          "base_uri": "https://localhost:8080/"
        },
        "outputId": "d2ac1145-1761-49e2-8b04-d3ccdee6e6ef"
      },
      "source": [
        "# Let's view Pandas Series again after sorting, Note that nothing changed in memory! you have to make sure that inplace is set to True\n",
        "sp500_3"
      ],
      "execution_count": null,
      "outputs": [
        {
          "output_type": "execute_result",
          "data": {
            "text/plain": [
              "0       1295.500000\n",
              "1       1289.089966\n",
              "2       1293.670044\n",
              "3       1308.040039\n",
              "4       1314.500000\n",
              "           ...     \n",
              "2154    3327.770020\n",
              "2155    3349.159912\n",
              "2156    3351.280029\n",
              "2157    3360.469971\n",
              "2158    3333.689941\n",
              "Name: sp500, Length: 2159, dtype: float64"
            ]
          },
          "metadata": {},
          "execution_count": 59
        }
      ]
    },
    {
      "cell_type": "code",
      "metadata": {
        "id": "Pgt25eXmvFce",
        "colab": {
          "base_uri": "https://localhost:8080/"
        },
        "outputId": "37681023-29f1-460e-bf38-a61c3eeba001"
      },
      "source": [
        "# Set inplace = True to ensure that change has taken place in memory \n",
        "sp500_3.sort_values(inplace=True)\n",
        "sp500_3"
      ],
      "execution_count": null,
      "outputs": [
        {
          "output_type": "execute_result",
          "data": {
            "text/plain": [
              "97      1278.040039\n",
              "98      1278.180054\n",
              "99      1285.500000\n",
              "1       1289.089966\n",
              "2       1293.670044\n",
              "           ...     \n",
              "2038    3373.229980\n",
              "2034    3373.939941\n",
              "2033    3379.449951\n",
              "2035    3380.159912\n",
              "2037    3386.149902\n",
              "Name: sp500, Length: 2159, dtype: float64"
            ]
          },
          "metadata": {},
          "execution_count": 60
        }
      ]
    },
    {
      "cell_type": "code",
      "metadata": {
        "id": "jEw2Gw_hu7Fo",
        "colab": {
          "base_uri": "https://localhost:8080/"
        },
        "outputId": "fdd77acb-6e20-4836-d9dc-fee8ab3040fd"
      },
      "source": [
        "# Note that now the change (ordering) took place \n",
        "sp500_3"
      ],
      "execution_count": null,
      "outputs": [
        {
          "output_type": "execute_result",
          "data": {
            "text/plain": [
              "97      1278.040039\n",
              "98      1278.180054\n",
              "99      1285.500000\n",
              "1       1289.089966\n",
              "2       1293.670044\n",
              "           ...     \n",
              "2038    3373.229980\n",
              "2034    3373.939941\n",
              "2033    3379.449951\n",
              "2035    3380.159912\n",
              "2037    3386.149902\n",
              "Name: sp500, Length: 2159, dtype: float64"
            ]
          },
          "metadata": {},
          "execution_count": 61
        }
      ]
    },
    {
      "cell_type": "code",
      "metadata": {
        "id": "6wi0QnU5iGk8",
        "colab": {
          "base_uri": "https://localhost:8080/"
        },
        "outputId": "1ee4d69f-d725-4817-f208-23667bf35a6a"
      },
      "source": [
        "# Notice that the indexes are now changed \n",
        "# You can also sort by index (revert back to the original Pandas Series) as follows: \n",
        "sp500_3.sort_index(inplace=True)\n",
        "sp500_3"
      ],
      "execution_count": null,
      "outputs": [
        {
          "output_type": "execute_result",
          "data": {
            "text/plain": [
              "0       1295.500000\n",
              "1       1289.089966\n",
              "2       1293.670044\n",
              "3       1308.040039\n",
              "4       1314.500000\n",
              "           ...     \n",
              "2154    3327.770020\n",
              "2155    3349.159912\n",
              "2156    3351.280029\n",
              "2157    3360.469971\n",
              "2158    3333.689941\n",
              "Name: sp500, Length: 2159, dtype: float64"
            ]
          },
          "metadata": {},
          "execution_count": 62
        }
      ]
    },
    {
      "cell_type": "markdown",
      "metadata": {
        "id": "7bV_Yaq46ZTg"
      },
      "source": [
        "**MINI CHALLENGE #8:**\n",
        "- **Sort the S&P500 values in a decending order instead. Make sure to update values in-memory.**"
      ]
    },
    {
      "cell_type": "code",
      "metadata": {
        "id": "zw0acoYEkDJB",
        "colab": {
          "base_uri": "https://localhost:8080/"
        },
        "outputId": "aee87861-1466-4b4e-a132-2ca8807cd93b"
      },
      "source": [
        "sp500_3.sort_values(ascending=False, inplace=True)\n",
        "sp500_3"
      ],
      "execution_count": null,
      "outputs": [
        {
          "output_type": "execute_result",
          "data": {
            "text/plain": [
              "2037    3386.149902\n",
              "2035    3380.159912\n",
              "2033    3379.449951\n",
              "2034    3373.939941\n",
              "2038    3373.229980\n",
              "           ...     \n",
              "2       1293.670044\n",
              "1       1289.089966\n",
              "99      1285.500000\n",
              "98      1278.180054\n",
              "97      1278.040039\n",
              "Name: sp500, Length: 2159, dtype: float64"
            ]
          },
          "metadata": {},
          "execution_count": 63
        }
      ]
    },
    {
      "cell_type": "markdown",
      "metadata": {
        "id": "1QT7bBFCkDhh"
      },
      "source": [
        "# 9. PERFORM MATH OPERATIONS ON PANDAS SERIES"
      ]
    },
    {
      "cell_type": "code",
      "metadata": {
        "id": "UXFGCV4SkI4O",
        "colab": {
          "base_uri": "https://localhost:8080/"
        },
        "outputId": "5cfb565a-89f2-416f-9c15-3ae9318dd5d9"
      },
      "source": [
        "# Let's import CSV data as follows:\n",
        "sp500_4 = pd.read_csv('/content/S_P500_Prices.csv', squeeze=True)\n",
        "sp500_4"
      ],
      "execution_count": null,
      "outputs": [
        {
          "output_type": "execute_result",
          "data": {
            "text/plain": [
              "0       1295.500000\n",
              "1       1289.089966\n",
              "2       1293.670044\n",
              "3       1308.040039\n",
              "4       1314.500000\n",
              "           ...     \n",
              "2154    3327.770020\n",
              "2155    3349.159912\n",
              "2156    3351.280029\n",
              "2157    3360.469971\n",
              "2158    3333.689941\n",
              "Name: sp500, Length: 2159, dtype: float64"
            ]
          },
          "metadata": {},
          "execution_count": 64
        }
      ]
    },
    {
      "cell_type": "code",
      "metadata": {
        "id": "Qpo7M9yYkJPQ",
        "colab": {
          "base_uri": "https://localhost:8080/"
        },
        "outputId": "406fb288-0750-45a0-a6c4-ce90792d2b92"
      },
      "source": [
        "# Apply Sum Method on Pandas Series\n",
        "sp500_4.sum()"
      ],
      "execution_count": null,
      "outputs": [
        {
          "output_type": "execute_result",
          "data": {
            "text/plain": [
              "4790280.287214"
            ]
          },
          "metadata": {},
          "execution_count": 65
        }
      ]
    },
    {
      "cell_type": "code",
      "metadata": {
        "id": "FTSaQpjokJSM",
        "colab": {
          "base_uri": "https://localhost:8080/"
        },
        "outputId": "b8be2766-f77c-4ab0-95d1-016e9ec17a72"
      },
      "source": [
        "# Apply count Method on Pandas Series\n",
        "sp500_4.count()"
      ],
      "execution_count": null,
      "outputs": [
        {
          "output_type": "execute_result",
          "data": {
            "text/plain": [
              "2159"
            ]
          },
          "metadata": {},
          "execution_count": 66
        }
      ]
    },
    {
      "cell_type": "code",
      "metadata": {
        "id": "I8vVnB_5kj7C",
        "colab": {
          "base_uri": "https://localhost:8080/"
        },
        "outputId": "96a986d2-ab37-44e5-c47d-8ba777ea9a70"
      },
      "source": [
        "# Obtain the maximum value\n",
        "sp500_4.max()"
      ],
      "execution_count": null,
      "outputs": [
        {
          "output_type": "execute_result",
          "data": {
            "text/plain": [
              "3386.149902"
            ]
          },
          "metadata": {},
          "execution_count": 67
        }
      ]
    },
    {
      "cell_type": "code",
      "metadata": {
        "id": "u3-XBu-vko2y",
        "colab": {
          "base_uri": "https://localhost:8080/"
        },
        "outputId": "bcdbf41a-e9e5-41b4-9bd9-bda590c59ce9"
      },
      "source": [
        "# Obtain the minimum value\n",
        "sp500_4.min()"
      ],
      "execution_count": null,
      "outputs": [
        {
          "output_type": "execute_result",
          "data": {
            "text/plain": [
              "1278.040039"
            ]
          },
          "metadata": {},
          "execution_count": 68
        }
      ]
    },
    {
      "cell_type": "code",
      "metadata": {
        "id": "jfaK3BsckvAK",
        "colab": {
          "base_uri": "https://localhost:8080/"
        },
        "outputId": "2df42973-3414-4f8e-e1ff-11a7e574f9a8"
      },
      "source": [
        "# My favourite: Describe! \n",
        "# Describe is used to obtain all statistical information in one place \n",
        "\n",
        "sp500_4.describe()"
      ],
      "execution_count": null,
      "outputs": [
        {
          "output_type": "execute_result",
          "data": {
            "text/plain": [
              "count    2159.000000\n",
              "mean     2218.749554\n",
              "std       537.321727\n",
              "min      1278.040039\n",
              "25%      1847.984985\n",
              "50%      2106.629883\n",
              "75%      2705.810059\n",
              "max      3386.149902\n",
              "Name: sp500, dtype: float64"
            ]
          },
          "metadata": {},
          "execution_count": 69
        }
      ]
    },
    {
      "cell_type": "markdown",
      "metadata": {
        "id": "wfpnZiwxk1cb"
      },
      "source": [
        "**MINI CHALLENGE #9:**\n",
        "- **Obtain the average price of the S&P500 using two different methods**"
      ]
    },
    {
      "cell_type": "code",
      "metadata": {
        "id": "MFL9i8NWlIH5",
        "colab": {
          "base_uri": "https://localhost:8080/"
        },
        "outputId": "719999a7-a0e5-443d-c34f-8631c063f232"
      },
      "source": [
        "sp500_4.mean()"
      ],
      "execution_count": null,
      "outputs": [
        {
          "output_type": "execute_result",
          "data": {
            "text/plain": [
              "2218.7495540592877"
            ]
          },
          "metadata": {},
          "execution_count": 70
        }
      ]
    },
    {
      "cell_type": "markdown",
      "metadata": {
        "id": "Yi8uUb_eiqxo"
      },
      "source": [
        "# 10. CHECK IF A GIVEN ELEMENT EXISTS IN A PANDAS SERIES"
      ]
    },
    {
      "cell_type": "code",
      "metadata": {
        "id": "nEQ94a2RiuiR",
        "colab": {
          "base_uri": "https://localhost:8080/"
        },
        "outputId": "e639568f-a641-4797-dde4-eb3cb551697b"
      },
      "source": [
        "# Let's import CSV data as follows:\n",
        "sp500_5 = pd.read_csv('/content/S_P500_Prices.csv', squeeze=True)\n",
        "sp500_5"
      ],
      "execution_count": null,
      "outputs": [
        {
          "output_type": "execute_result",
          "data": {
            "text/plain": [
              "0       1295.500000\n",
              "1       1289.089966\n",
              "2       1293.670044\n",
              "3       1308.040039\n",
              "4       1314.500000\n",
              "           ...     \n",
              "2154    3327.770020\n",
              "2155    3349.159912\n",
              "2156    3351.280029\n",
              "2157    3360.469971\n",
              "2158    3333.689941\n",
              "Name: sp500, Length: 2159, dtype: float64"
            ]
          },
          "metadata": {},
          "execution_count": 72
        }
      ]
    },
    {
      "cell_type": "code",
      "metadata": {
        "id": "x0T4h0CWi-p7",
        "colab": {
          "base_uri": "https://localhost:8080/"
        },
        "outputId": "e1e22368-6aa4-4cfb-b4f8-aa92d7387e9f"
      },
      "source": [
        "# Check if a given number exists in a Pandas Series values\n",
        "# Returns a boolean \"True\" or \"False\"\n",
        "\n",
        "1295.500000 in sp500_5.values"
      ],
      "execution_count": null,
      "outputs": [
        {
          "output_type": "execute_result",
          "data": {
            "text/plain": [
              "True"
            ]
          },
          "metadata": {},
          "execution_count": 78
        }
      ]
    },
    {
      "cell_type": "code",
      "metadata": {
        "id": "xa7GXwbhi-sh",
        "colab": {
          "base_uri": "https://localhost:8080/"
        },
        "outputId": "4e6915ba-0da4-43d5-e551-874f80b7526a"
      },
      "source": [
        "# Check if a given number exists in a Pandas Series index\n",
        "32.5 in sp500_5.index"
      ],
      "execution_count": null,
      "outputs": [
        {
          "output_type": "execute_result",
          "data": {
            "text/plain": [
              "False"
            ]
          },
          "metadata": {},
          "execution_count": 80
        }
      ]
    },
    {
      "cell_type": "code",
      "metadata": {
        "id": "GyN5iG1ki-vC",
        "colab": {
          "base_uri": "https://localhost:8080/"
        },
        "outputId": "28194d63-bdf0-427f-b6de-72cd7aa35411"
      },
      "source": [
        "# Note that by default 'in' will search in Pandas index and not values\n",
        "45 in sp500_5"
      ],
      "execution_count": null,
      "outputs": [
        {
          "output_type": "execute_result",
          "data": {
            "text/plain": [
              "True"
            ]
          },
          "metadata": {},
          "execution_count": 81
        }
      ]
    },
    {
      "cell_type": "markdown",
      "metadata": {
        "id": "DjNoVv5vb9ij"
      },
      "source": [
        "**MINI CHALLENGE #10:**\n",
        "- **Check if the stock price 3349 exists in the sp500 Pandas Series or not**\n",
        "- **Round stock prices to the nearest integer and check again**"
      ]
    },
    {
      "cell_type": "code",
      "metadata": {
        "id": "3BYcu1gpb_Vo",
        "colab": {
          "base_uri": "https://localhost:8080/"
        },
        "outputId": "2263f0b7-a413-44a7-854a-3d4e47428346"
      },
      "source": [
        "3349 in sp500_5.values"
      ],
      "execution_count": null,
      "outputs": [
        {
          "output_type": "execute_result",
          "data": {
            "text/plain": [
              "False"
            ]
          },
          "metadata": {},
          "execution_count": 82
        }
      ]
    },
    {
      "cell_type": "code",
      "source": [
        "sp500_5 = round(sp500_5)\n",
        "sp500_5"
      ],
      "metadata": {
        "colab": {
          "base_uri": "https://localhost:8080/"
        },
        "id": "dIGuVYCyQltB",
        "outputId": "33ed0f55-e6f0-4939-c437-4dfe3d4864d6"
      },
      "execution_count": null,
      "outputs": [
        {
          "output_type": "execute_result",
          "data": {
            "text/plain": [
              "0       1296.0\n",
              "1       1289.0\n",
              "2       1294.0\n",
              "3       1308.0\n",
              "4       1314.0\n",
              "         ...  \n",
              "2154    3328.0\n",
              "2155    3349.0\n",
              "2156    3351.0\n",
              "2157    3360.0\n",
              "2158    3334.0\n",
              "Name: sp500, Length: 2159, dtype: float64"
            ]
          },
          "metadata": {},
          "execution_count": 85
        }
      ]
    },
    {
      "cell_type": "code",
      "source": [
        "3349 in sp500_5.values"
      ],
      "metadata": {
        "colab": {
          "base_uri": "https://localhost:8080/"
        },
        "id": "__BtPR7eRqrs",
        "outputId": "5d8962ed-c1b9-4f90-b379-0e6cf4755ee3"
      },
      "execution_count": null,
      "outputs": [
        {
          "output_type": "execute_result",
          "data": {
            "text/plain": [
              "True"
            ]
          },
          "metadata": {},
          "execution_count": 87
        }
      ]
    },
    {
      "cell_type": "markdown",
      "metadata": {
        "id": "Vrv6ZboqmGmx"
      },
      "source": [
        "# 11. INDEXING: OBTAIN SPECIFIC ELEMENTS FROM PANDAS SERIES"
      ]
    },
    {
      "cell_type": "code",
      "metadata": {
        "id": "XlMcpqkbjMI1",
        "colab": {
          "base_uri": "https://localhost:8080/"
        },
        "outputId": "a29153c9-7445-4c77-84b6-095e697adca8"
      },
      "source": [
        "# Let's import CSV data as follows:\n",
        "\n",
        "sp500_6 = pd.read_csv('/content/S_P500_Prices.csv', squeeze=True)\n",
        "sp500_6"
      ],
      "execution_count": null,
      "outputs": [
        {
          "output_type": "execute_result",
          "data": {
            "text/plain": [
              "0       1295.500000\n",
              "1       1289.089966\n",
              "2       1293.670044\n",
              "3       1308.040039\n",
              "4       1314.500000\n",
              "           ...     \n",
              "2154    3327.770020\n",
              "2155    3349.159912\n",
              "2156    3351.280029\n",
              "2157    3360.469971\n",
              "2158    3333.689941\n",
              "Name: sp500, Length: 2159, dtype: float64"
            ]
          },
          "metadata": {},
          "execution_count": 90
        }
      ]
    },
    {
      "cell_type": "code",
      "metadata": {
        "id": "5O_wKHmmmY2E",
        "colab": {
          "base_uri": "https://localhost:8080/"
        },
        "outputId": "be379951-d4ad-423b-dadd-7b51b8bb96b6"
      },
      "source": [
        "# Obtain the first element in a Pandas Series\n",
        "# Note that first element has an index 0\n",
        "\n",
        "sp500_6[0]"
      ],
      "execution_count": null,
      "outputs": [
        {
          "output_type": "execute_result",
          "data": {
            "text/plain": [
              "1295.5"
            ]
          },
          "metadata": {},
          "execution_count": 91
        }
      ]
    },
    {
      "cell_type": "code",
      "metadata": {
        "id": "QV7zW7ecmY4l",
        "colab": {
          "base_uri": "https://localhost:8080/"
        },
        "outputId": "5a37e6c2-d29d-4bba-c1a3-8712831a43f0"
      },
      "source": [
        "sp500_6[200]"
      ],
      "execution_count": null,
      "outputs": [
        {
          "output_type": "execute_result",
          "data": {
            "text/plain": [
              "1411.939941"
            ]
          },
          "metadata": {},
          "execution_count": 92
        }
      ]
    },
    {
      "cell_type": "code",
      "metadata": {
        "id": "7wsOMwrvnHdJ",
        "colab": {
          "base_uri": "https://localhost:8080/"
        },
        "outputId": "6a2e951d-1510-4bb3-a850-a191b830f71e"
      },
      "source": [
        "# Obtain the last element in the Pandas Series\n",
        "sp500_6[2158]"
      ],
      "execution_count": null,
      "outputs": [
        {
          "output_type": "execute_result",
          "data": {
            "text/plain": [
              "3333.689941"
            ]
          },
          "metadata": {},
          "execution_count": 93
        }
      ]
    },
    {
      "cell_type": "markdown",
      "metadata": {
        "id": "mIsxBKz0cUZz"
      },
      "source": [
        "**MINI CHALLENGE #11:**\n",
        "- **Obtain the fifth element in the Pandas Series**"
      ]
    },
    {
      "cell_type": "code",
      "metadata": {
        "id": "hPzW6L__crcc",
        "colab": {
          "base_uri": "https://localhost:8080/"
        },
        "outputId": "1c53ef53-5f8b-413b-9791-daf9322f5d2d"
      },
      "source": [
        "sp500_6[4]"
      ],
      "execution_count": null,
      "outputs": [
        {
          "output_type": "execute_result",
          "data": {
            "text/plain": [
              "1314.5"
            ]
          },
          "metadata": {},
          "execution_count": 94
        }
      ]
    },
    {
      "cell_type": "markdown",
      "metadata": {
        "id": "FqV5utBLnQuk"
      },
      "source": [
        "# 12. SLICING: OBTAIN MULTIPLE ELEMENTS FROM PANDAS SERIES"
      ]
    },
    {
      "cell_type": "code",
      "metadata": {
        "id": "FnZ_HXFcnY5-",
        "colab": {
          "base_uri": "https://localhost:8080/"
        },
        "outputId": "f1a1ad08-1467-4342-e48a-3d792b0ff4ac"
      },
      "source": [
        "# Let's import CSV data as follows:\n",
        "sp500 = pd.read_csv('/content/S_P500_Prices.csv', squeeze=True)\n",
        "sp500"
      ],
      "execution_count": null,
      "outputs": [
        {
          "output_type": "execute_result",
          "data": {
            "text/plain": [
              "0       1295.500000\n",
              "1       1289.089966\n",
              "2       1293.670044\n",
              "3       1308.040039\n",
              "4       1314.500000\n",
              "           ...     \n",
              "2154    3327.770020\n",
              "2155    3349.159912\n",
              "2156    3351.280029\n",
              "2157    3360.469971\n",
              "2158    3333.689941\n",
              "Name: sp500, Length: 2159, dtype: float64"
            ]
          },
          "metadata": {},
          "execution_count": 95
        }
      ]
    },
    {
      "cell_type": "code",
      "metadata": {
        "id": "QVdRqhsbmY6X",
        "colab": {
          "base_uri": "https://localhost:8080/"
        },
        "outputId": "c9b9b0c5-cfbd-4415-deee-4ec967882dd3"
      },
      "source": [
        "# Slice elements from a Pandas Series\n",
        "# Let's obtain elements starting from index 0 up until and not including index 5 (ie: indexes 0-4)\n",
        "\n",
        "sp500[0:5]"
      ],
      "execution_count": null,
      "outputs": [
        {
          "output_type": "execute_result",
          "data": {
            "text/plain": [
              "0    1295.500000\n",
              "1    1289.089966\n",
              "2    1293.670044\n",
              "3    1308.040039\n",
              "4    1314.500000\n",
              "Name: sp500, dtype: float64"
            ]
          },
          "metadata": {},
          "execution_count": 96
        }
      ]
    },
    {
      "cell_type": "code",
      "metadata": {
        "id": "YtZ4bhPKmY8S",
        "colab": {
          "base_uri": "https://localhost:8080/"
        },
        "outputId": "c96ed666-eb78-4449-8531-fd3f967eb638"
      },
      "source": [
        "# obtain all elements starting from index 0 up until and not including index 10\n",
        "sp500[:10]"
      ],
      "execution_count": null,
      "outputs": [
        {
          "output_type": "execute_result",
          "data": {
            "text/plain": [
              "0    1295.500000\n",
              "1    1289.089966\n",
              "2    1293.670044\n",
              "3    1308.040039\n",
              "4    1314.500000\n",
              "5    1315.380005\n",
              "6    1316.000000\n",
              "7    1314.650024\n",
              "8    1326.060059\n",
              "9    1318.430054\n",
              "Name: sp500, dtype: float64"
            ]
          },
          "metadata": {},
          "execution_count": 97
        }
      ]
    },
    {
      "cell_type": "code",
      "metadata": {
        "id": "tShJSc6Bmv6d",
        "colab": {
          "base_uri": "https://localhost:8080/"
        },
        "outputId": "15a1a315-153f-4bfc-be02-171853e13c62"
      },
      "source": [
        "# obtain all elements starting from index 5 up until the end of the Pandas Series\n",
        "sp500[5:]"
      ],
      "execution_count": null,
      "outputs": [
        {
          "output_type": "execute_result",
          "data": {
            "text/plain": [
              "5       1315.380005\n",
              "6       1316.000000\n",
              "7       1314.650024\n",
              "8       1326.060059\n",
              "9       1318.430054\n",
              "           ...     \n",
              "2154    3327.770020\n",
              "2155    3349.159912\n",
              "2156    3351.280029\n",
              "2157    3360.469971\n",
              "2158    3333.689941\n",
              "Name: sp500, Length: 2154, dtype: float64"
            ]
          },
          "metadata": {},
          "execution_count": 98
        }
      ]
    },
    {
      "cell_type": "markdown",
      "metadata": {
        "id": "BOIQH-R7dSDy"
      },
      "source": [
        "**MINI CHALLENGE #12:**\n",
        "- **Obtain all elements in Pandas Series except for the last 3 elements**"
      ]
    },
    {
      "cell_type": "code",
      "source": [
        "sp500[:-3]"
      ],
      "metadata": {
        "colab": {
          "base_uri": "https://localhost:8080/"
        },
        "id": "RQ0IrN4CWuPU",
        "outputId": "c07dd289-e6d6-4fc1-e892-82e3f7a86bda"
      },
      "execution_count": null,
      "outputs": [
        {
          "output_type": "execute_result",
          "data": {
            "text/plain": [
              "0       1295.500000\n",
              "1       1289.089966\n",
              "2       1293.670044\n",
              "3       1308.040039\n",
              "4       1314.500000\n",
              "           ...     \n",
              "2151    3271.120117\n",
              "2152    3294.610107\n",
              "2153    3306.510010\n",
              "2154    3327.770020\n",
              "2155    3349.159912\n",
              "Name: sp500, Length: 2156, dtype: float64"
            ]
          },
          "metadata": {},
          "execution_count": 102
        }
      ]
    },
    {
      "cell_type": "markdown",
      "metadata": {
        "id": "i1gJS3K7vlxd"
      },
      "source": [
        "# EXCELLENT JOB!"
      ]
    },
    {
      "cell_type": "markdown",
      "metadata": {
        "id": "MF2SdJZ_vn4z"
      },
      "source": [
        "# MINI CHALLENGE SOLUTIONS"
      ]
    },
    {
      "cell_type": "markdown",
      "metadata": {
        "id": "08v_y7IaJrvt"
      },
      "source": [
        "**MINI CHALLENGE #1 SOLUTION:**\n",
        "- **Define a Pandas Series named \"my_series\" that contains your top 3 favourite movies. Confirm the datatype of \"my_series\"**"
      ]
    },
    {
      "cell_type": "code",
      "metadata": {
        "id": "syn8_3JiJrvt"
      },
      "source": [
        "# Let's define a Python list that contains 3 top movies\n",
        "my_list = ['The Godfather','Star Wars','The Wolf of Wall Street'] \n",
        "my_series = pd.Series(data = my_list) \n",
        "my_series"
      ],
      "execution_count": null,
      "outputs": []
    },
    {
      "cell_type": "code",
      "metadata": {
        "id": "12MuwJ5eJrvu"
      },
      "source": [
        "type(my_series)"
      ],
      "execution_count": null,
      "outputs": []
    },
    {
      "cell_type": "markdown",
      "metadata": {
        "id": "1x6d0qzMKg-A"
      },
      "source": [
        "**MINI CHALLENGE #2 SOLUTION:**\n",
        "- **Define a Pandas Series named \"my_series\" that contains your top 3 favourite movies. Instead of using default numeric indexes (similar to mini challenge #1), use the following indexes \"movie #1\", \"Movie #2\", and \"movie #3\"**"
      ]
    },
    {
      "cell_type": "code",
      "metadata": {
        "id": "ddjSNsHBK-ll"
      },
      "source": [
        "# Let's define a Python list that contains 3 movies as follows\n",
        "my_list = ['The Godfather','Star Wars','The Wolf of Wall Street'] \n",
        "\n",
        "# Let's define a python list as shown below. This python list will be used for the Series index:\n",
        "my_labels = ['movie #1', 'movie #2', 'movie #3']\n"
      ],
      "execution_count": null,
      "outputs": []
    },
    {
      "cell_type": "code",
      "metadata": {
        "id": "4iNEgSEtK8kl"
      },
      "source": [
        "# Let's create a one dimensional Pandas \"series\" \n",
        "# Let's use Pandas Constructor Method to create a series from a Python list\n",
        "# Note that this series is formed of data and associated labels \n",
        "my_series = pd.Series(data = my_list, index = my_labels)\n",
        "my_series"
      ],
      "execution_count": null,
      "outputs": []
    },
    {
      "cell_type": "markdown",
      "metadata": {
        "id": "r6btEnxmMy_G"
      },
      "source": [
        "**MINI CHALLENGE #3 SOLUTION:**\n",
        "- **Create a Pandas Series from a dictionary with 3 of your favourite stocks and their corresponding prices** \n"
      ]
    },
    {
      "cell_type": "code",
      "metadata": {
        "id": "PzkBjyLHM7Do"
      },
      "source": [
        "stocks = {'SP500': 3000, \n",
        "          'AAPL': 400,\n",
        "          'TSLA': 2200}\n",
        "print(stocks)"
      ],
      "execution_count": null,
      "outputs": []
    },
    {
      "cell_type": "code",
      "metadata": {
        "id": "QeDCPO9hNAKj"
      },
      "source": [
        "# Let's define a Pandas Series Using the dictionary\n",
        "my_series = pd.Series(stocks)\n",
        "my_series"
      ],
      "execution_count": null,
      "outputs": []
    },
    {
      "cell_type": "markdown",
      "metadata": {
        "id": "lB8OYAVJXRYe"
      },
      "source": [
        "**MINI CHALLENGE #4 SOLUTION:** \n",
        "- **What is the size of the Pandas Series? (External Research is Required)**"
      ]
    },
    {
      "cell_type": "code",
      "metadata": {
        "id": "D5D0wFlmXRYf"
      },
      "source": [
        "# size is used to return the size of the series\n",
        "series_3.size"
      ],
      "execution_count": null,
      "outputs": []
    },
    {
      "cell_type": "markdown",
      "metadata": {
        "id": "5D7QSEf7Y8aa"
      },
      "source": [
        "**MINI CHALLENGE #5 SOLUTION:** \n",
        "- **Show the last 2 rows in the Pandas Series (External Research is Required)** \n",
        "- **How many bytes does this Pandas Series consume in memory? (External Research is Required)**"
      ]
    },
    {
      "cell_type": "code",
      "metadata": {
        "id": "FsSGV7I3Y_ja"
      },
      "source": [
        "my_series.tail(2)"
      ],
      "execution_count": null,
      "outputs": []
    },
    {
      "cell_type": "code",
      "metadata": {
        "id": "s8g0WhX6Y8aa"
      },
      "source": [
        "my_series.memory_usage()"
      ],
      "execution_count": null,
      "outputs": []
    },
    {
      "cell_type": "code",
      "metadata": {
        "id": "k27pa4L1fv7-"
      },
      "source": [
        ""
      ],
      "execution_count": null,
      "outputs": []
    },
    {
      "cell_type": "markdown",
      "metadata": {
        "id": "Thrv0augRv88"
      },
      "source": [
        "**MINI CHALLENGE #6 SOLUTION:**\n",
        "- **Set Squeeze = False and rerun the cell, what do you notice? Use Type to compare both outputs**"
      ]
    },
    {
      "cell_type": "code",
      "metadata": {
        "id": "Ebt-VMfccjR6"
      },
      "source": [
        "sp500 = pd.read_csv('S&P500_Prices.csv', squeeze = False)\n",
        "# Note that when you set Squeeze = False, the data is stored in a DataFrame by default. \n",
        "# DataFrame is simply used to store multi dimensional data as compares to Pandas Series that only holds 1-D dataset \n",
        "# Note that DataFrames has proper formatting when you attempt to view them as shown below \n",
        "# Note that Pandas Series has no formatting\n"
      ],
      "execution_count": null,
      "outputs": []
    },
    {
      "cell_type": "code",
      "metadata": {
        "id": "WsTIJJlRSFkJ"
      },
      "source": [
        "sp500"
      ],
      "execution_count": null,
      "outputs": []
    },
    {
      "cell_type": "code",
      "metadata": {
        "id": "NJXOLvacSjh9"
      },
      "source": [
        "type(sp500)"
      ],
      "execution_count": null,
      "outputs": []
    },
    {
      "cell_type": "code",
      "metadata": {
        "id": "VqShdXDGSjnD"
      },
      "source": [
        "sp500 = pd.read_csv('S&P500_Prices.csv', squeeze = True)\n",
        "type(sp500)"
      ],
      "execution_count": null,
      "outputs": []
    },
    {
      "cell_type": "markdown",
      "metadata": {
        "id": "c9aEM3KTT619"
      },
      "source": [
        "**MINI CHALLENGE #7 SOLUTION:**\n",
        "- **Given the following Pandas Series, convert all positive values to negative using python built-in functions**\n",
        "- **Obtain only unique values (ie: Remove duplicates) using python built-in functions**\n",
        "- **my_series = pd.Series(data = [-10, 100, -30, 50, 100])**\n"
      ]
    },
    {
      "cell_type": "code",
      "metadata": {
        "id": "VP5bBkaOUIpo"
      },
      "source": [
        "my_series = pd.Series(data = [-10, 100, -30, 50, 100])\n",
        "my_series"
      ],
      "execution_count": null,
      "outputs": []
    },
    {
      "cell_type": "code",
      "metadata": {
        "id": "NFKY2ZNRaQ-s"
      },
      "source": [
        "abs(my_series)"
      ],
      "execution_count": null,
      "outputs": []
    },
    {
      "cell_type": "code",
      "metadata": {
        "id": "xqWCYc0n6V-d"
      },
      "source": [
        "set(my_series)"
      ],
      "execution_count": null,
      "outputs": []
    },
    {
      "cell_type": "markdown",
      "metadata": {
        "id": "5hAgN4ITfwPZ"
      },
      "source": [
        "**MINI CHALLENGE #8 SOLUTION:**\n",
        "- **Sort the S&P500 values in a decending order instead. Make sure to update values in-memory.**"
      ]
    },
    {
      "cell_type": "code",
      "metadata": {
        "id": "XbMv5fujfwPa"
      },
      "source": [
        "sp500.sort_values(ascending = False, inplace = True) \n",
        "sp500"
      ],
      "execution_count": null,
      "outputs": []
    },
    {
      "cell_type": "code",
      "metadata": {
        "id": "dFlqKzfQlDS-"
      },
      "source": [
        ""
      ],
      "execution_count": null,
      "outputs": []
    },
    {
      "cell_type": "markdown",
      "metadata": {
        "id": "BJJRSL5jlDlV"
      },
      "source": [
        "**MINI CHALLENGE #9 SOLUTION:**\n",
        "- **Obtain the average price using two different methods**"
      ]
    },
    {
      "cell_type": "code",
      "metadata": {
        "id": "PPjFgt5FlDlW"
      },
      "source": [
        "# Obtain the average - Solution #1\n",
        "sp500.sum()/sp500.count()"
      ],
      "execution_count": null,
      "outputs": []
    },
    {
      "cell_type": "code",
      "metadata": {
        "id": "P10NuBnslDlW"
      },
      "source": [
        "# Obtain the average - Solution #s\n",
        "sp500.mean()"
      ],
      "execution_count": null,
      "outputs": []
    },
    {
      "cell_type": "code",
      "metadata": {
        "id": "TZkayhzAby14"
      },
      "source": [
        ""
      ],
      "execution_count": null,
      "outputs": []
    },
    {
      "cell_type": "markdown",
      "metadata": {
        "id": "VUaaCo_5a8h0"
      },
      "source": [
        "**MINI CHALLENGE #10 SOLUTION:**\n",
        "- **Check if the stock price 3349 exists in the sp500 Pandas Series or not**\n",
        "- **Round stock prices to the nearest integer and check again**"
      ]
    },
    {
      "cell_type": "code",
      "metadata": {
        "id": "650WOhWVjMGx"
      },
      "source": [
        "3349 in sp500.values"
      ],
      "execution_count": null,
      "outputs": []
    },
    {
      "cell_type": "code",
      "metadata": {
        "id": "8T7B5PhsbVB0"
      },
      "source": [
        "sp500 = round(sp500)\n",
        "sp500"
      ],
      "execution_count": null,
      "outputs": []
    },
    {
      "cell_type": "code",
      "metadata": {
        "id": "Ads3YyW_bhVh"
      },
      "source": [
        "3349 in sp500.values"
      ],
      "execution_count": null,
      "outputs": []
    },
    {
      "cell_type": "markdown",
      "metadata": {
        "id": "vAJPyYxMcmoo"
      },
      "source": [
        "**MINI CHALLENGE #11 SOLUTION:**\n",
        "- **Obtain the fifth element in the Pandas Series**"
      ]
    },
    {
      "cell_type": "code",
      "metadata": {
        "id": "4RDUq1phcmop"
      },
      "source": [
        "# Note that the fifth element has an index = 4\n",
        "sp500[4]"
      ],
      "execution_count": null,
      "outputs": []
    },
    {
      "cell_type": "markdown",
      "metadata": {
        "id": "d3mdLBq2dicZ"
      },
      "source": [
        "**MINI CHALLENGE #12 SOLUTION:**\n",
        "- **Obtain all elements in Pandas Series except for the last 3 elements**"
      ]
    },
    {
      "cell_type": "code",
      "metadata": {
        "id": "0CaYXe_udFyA"
      },
      "source": [
        "sp500[:-3]"
      ],
      "execution_count": null,
      "outputs": []
    }
  ]
}