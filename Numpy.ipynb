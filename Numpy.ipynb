{
  "nbformat": 4,
  "nbformat_minor": 0,
  "metadata": {
    "colab": {
      "name": "Copy of Appendix 7. Python 101 - Python Libraries for Data Analysis - Numpy Skeleton.ipynb",
      "provenance": [],
      "collapsed_sections": [],
      "include_colab_link": true
    },
    "kernelspec": {
      "name": "python3",
      "display_name": "Python 3"
    }
  },
  "cells": [
    {
      "cell_type": "markdown",
      "metadata": {
        "id": "view-in-github",
        "colab_type": "text"
      },
      "source": [
        "<a href=\"https://colab.research.google.com/github/shrishti-04/DataAnalytics_Pandas_Numpy_Matplotlib_Seaborn/blob/master/Numpy.ipynb\" target=\"_parent\"><img src=\"https://colab.research.google.com/assets/colab-badge.svg\" alt=\"Open In Colab\"/></a>"
      ]
    },
    {
      "cell_type": "markdown",
      "metadata": {
        "id": "f7yOpaRM5IbG"
      },
      "source": [
        "# 1. NUMPY BASICS"
      ]
    },
    {
      "cell_type": "code",
      "metadata": {
        "id": "Bqk10u47qEmJ",
        "colab": {
          "base_uri": "https://localhost:8080/"
        },
        "outputId": "ad5d5a24-e378-4946-d274-ff8e6e2715d2"
      },
      "source": [
        "# NumPy is a Linear Algebra Library used for multidimensional arrays\n",
        "# NumPy brings the best of two worlds: (1) C/Fortran computational efficiency, (2) Python language easy syntax \n",
        "import numpy as np\n",
        "\n",
        "# Let's define a one-dimensional array \n",
        "my_list = [5, 3, 8, 2]\n",
        "my_list"
      ],
      "execution_count": 1,
      "outputs": [
        {
          "output_type": "execute_result",
          "data": {
            "text/plain": [
              "[5, 3, 8, 2]"
            ]
          },
          "metadata": {},
          "execution_count": 1
        }
      ]
    },
    {
      "cell_type": "code",
      "metadata": {
        "id": "b98d-lkK5NbQ",
        "colab": {
          "base_uri": "https://localhost:8080/"
        },
        "outputId": "4943ed1c-cd20-44e4-893b-bd9674687978"
      },
      "source": [
        "# Let's create a numpy array from the list \"my_list\"\n",
        "x = np.array(my_list)\n",
        "x"
      ],
      "execution_count": 2,
      "outputs": [
        {
          "output_type": "execute_result",
          "data": {
            "text/plain": [
              "array([5, 3, 8, 2])"
            ]
          },
          "metadata": {},
          "execution_count": 2
        }
      ]
    },
    {
      "cell_type": "code",
      "metadata": {
        "id": "tljNDWBw5Nf9",
        "colab": {
          "base_uri": "https://localhost:8080/"
        },
        "outputId": "e186c1ea-6d60-47e3-d2da-15819fc2123d"
      },
      "source": [
        "type(x)"
      ],
      "execution_count": 3,
      "outputs": [
        {
          "output_type": "execute_result",
          "data": {
            "text/plain": [
              "numpy.ndarray"
            ]
          },
          "metadata": {},
          "execution_count": 3
        }
      ]
    },
    {
      "cell_type": "code",
      "metadata": {
        "id": "wpiZ25fZ5NiN",
        "colab": {
          "base_uri": "https://localhost:8080/"
        },
        "outputId": "dca29a90-1849-444c-f07b-25f3a7d52962"
      },
      "source": [
        "# Multi-dimensional (Matrix definition) \n",
        "matrix = np.array(  [  [4, 9], [3, 7]  ]  )\n",
        "matrix"
      ],
      "execution_count": 4,
      "outputs": [
        {
          "output_type": "execute_result",
          "data": {
            "text/plain": [
              "array([[4, 9],\n",
              "       [3, 7]])"
            ]
          },
          "metadata": {},
          "execution_count": 4
        }
      ]
    },
    {
      "cell_type": "markdown",
      "metadata": {
        "id": "tmB_S-JfHZRL"
      },
      "source": [
        "**MINI CHALLENGE #1:** \n",
        "- **Write a code that creates the following 2x4 numpy array**\n",
        "\n",
        "```\n",
        "[[4 6 8 7] \n",
        "[20 5 6 9]]\n",
        "```"
      ]
    },
    {
      "cell_type": "code",
      "metadata": {
        "id": "Nabjzl1oKtGX",
        "colab": {
          "base_uri": "https://localhost:8080/"
        },
        "outputId": "e5bc397f-0765-4b58-c759-6f570b313d82"
      },
      "source": [
        "my_matrix = np.array(  [  [4, 6, 8, 7], [20, 5, 6, 9]  ]  )\n",
        "my_matrix"
      ],
      "execution_count": 5,
      "outputs": [
        {
          "output_type": "execute_result",
          "data": {
            "text/plain": [
              "array([[ 4,  6,  8,  7],\n",
              "       [20,  5,  6,  9]])"
            ]
          },
          "metadata": {},
          "execution_count": 5
        }
      ]
    },
    {
      "cell_type": "markdown",
      "metadata": {
        "id": "uBuqdDQM6Qd9"
      },
      "source": [
        "# 2. BUILT-IN METHODS AND FUNCTIONS "
      ]
    },
    {
      "cell_type": "code",
      "metadata": {
        "id": "yXQV-Nrg5No3",
        "colab": {
          "base_uri": "https://localhost:8080/"
        },
        "outputId": "cacecae1-a65c-4e5e-cdcd-e1966ed39583"
      },
      "source": [
        "# \"rand()\" uniform distribution between 0 and 1\n",
        "x = np.random.rand(15)\n",
        "x"
      ],
      "execution_count": 6,
      "outputs": [
        {
          "output_type": "execute_result",
          "data": {
            "text/plain": [
              "array([0.61700094, 0.0972703 , 0.70699813, 0.41789424, 0.1922849 ,\n",
              "       0.66270506, 0.56553601, 0.66321217, 0.9871884 , 0.01195958,\n",
              "       0.23274582, 0.74573584, 0.58191252, 0.62726083, 0.0300677 ])"
            ]
          },
          "metadata": {},
          "execution_count": 6
        }
      ]
    },
    {
      "cell_type": "code",
      "metadata": {
        "id": "PpJUCdB15NkT",
        "colab": {
          "base_uri": "https://localhost:8080/"
        },
        "outputId": "d5b41144-32a6-4c92-f73a-6e589f0c3a9c"
      },
      "source": [
        "# you can create a matrix of random number as well\n",
        "x = np.random.rand(5, 5)\n",
        "x"
      ],
      "execution_count": 7,
      "outputs": [
        {
          "output_type": "execute_result",
          "data": {
            "text/plain": [
              "array([[0.92320195, 0.97926618, 0.32268668, 0.0093269 , 0.67010732],\n",
              "       [0.98379446, 0.68313819, 0.70934569, 0.93264897, 0.02333849],\n",
              "       [0.85456445, 0.93426965, 0.03929104, 0.74934714, 0.11129378],\n",
              "       [0.06101065, 0.9851599 , 0.62865632, 0.60928328, 0.71771717],\n",
              "       [0.84809115, 0.21168702, 0.58188591, 0.55545038, 0.04435083]])"
            ]
          },
          "metadata": {},
          "execution_count": 7
        }
      ]
    },
    {
      "cell_type": "code",
      "metadata": {
        "id": "7EzMNrrm6YHA",
        "colab": {
          "base_uri": "https://localhost:8080/"
        },
        "outputId": "c98d0bb2-d07b-473d-f448-b63b5c812880"
      },
      "source": [
        "# \"randn()\" normal distribution between 0 and 1\n",
        "x = np.random.randn(10)\n",
        "x"
      ],
      "execution_count": 8,
      "outputs": [
        {
          "output_type": "execute_result",
          "data": {
            "text/plain": [
              "array([ 1.01058528, -0.54560801, -0.87360817,  0.3018954 ,  0.46930477,\n",
              "        1.176179  , -0.08057882, -2.81016131, -0.73031179,  0.64097445])"
            ]
          },
          "metadata": {},
          "execution_count": 8
        }
      ]
    },
    {
      "cell_type": "code",
      "metadata": {
        "id": "RBcU5xgb6YL0",
        "colab": {
          "base_uri": "https://localhost:8080/"
        },
        "outputId": "2e6d56e7-484c-4bdb-a11a-b8bb72b4ec3f"
      },
      "source": [
        "# \"randint\" is used to generate random integers between upper and lower bounds\n",
        "x = np.random.randint(1, 10)\n",
        "x"
      ],
      "execution_count": 9,
      "outputs": [
        {
          "output_type": "execute_result",
          "data": {
            "text/plain": [
              "4"
            ]
          },
          "metadata": {},
          "execution_count": 9
        }
      ]
    },
    {
      "cell_type": "code",
      "metadata": {
        "id": "O3JdVtvo6YP7",
        "colab": {
          "base_uri": "https://localhost:8080/"
        },
        "outputId": "470cb6ad-c218-49ba-ea96-c05bdde7837a"
      },
      "source": [
        "# \"randint\" can be used to generate a certain number of random itegers as follows\n",
        "x = np.random.randint(1, 10, 6)\n",
        "x"
      ],
      "execution_count": 10,
      "outputs": [
        {
          "output_type": "execute_result",
          "data": {
            "text/plain": [
              "array([9, 8, 1, 3, 7, 4])"
            ]
          },
          "metadata": {},
          "execution_count": 10
        }
      ]
    },
    {
      "cell_type": "code",
      "metadata": {
        "id": "EOOLMB416YUh",
        "colab": {
          "base_uri": "https://localhost:8080/"
        },
        "outputId": "d431d5b0-9bd0-4323-b222-7117426d9d85"
      },
      "source": [
        "# np.arange creates an evenly spaced values within a given interval\n",
        "x = np.arange(1, 51)\n",
        "x"
      ],
      "execution_count": 11,
      "outputs": [
        {
          "output_type": "execute_result",
          "data": {
            "text/plain": [
              "array([ 1,  2,  3,  4,  5,  6,  7,  8,  9, 10, 11, 12, 13, 14, 15, 16, 17,\n",
              "       18, 19, 20, 21, 22, 23, 24, 25, 26, 27, 28, 29, 30, 31, 32, 33, 34,\n",
              "       35, 36, 37, 38, 39, 40, 41, 42, 43, 44, 45, 46, 47, 48, 49, 50])"
            ]
          },
          "metadata": {},
          "execution_count": 11
        }
      ]
    },
    {
      "cell_type": "code",
      "metadata": {
        "id": "Jz7eJuio6YY4",
        "colab": {
          "base_uri": "https://localhost:8080/"
        },
        "outputId": "3035acea-4b96-4d7d-b690-886dc93d314c"
      },
      "source": [
        "# Create an evenly spaced values with a step of 5\n",
        "x = np.arange(1, 51, 5)\n",
        "x"
      ],
      "execution_count": 12,
      "outputs": [
        {
          "output_type": "execute_result",
          "data": {
            "text/plain": [
              "array([ 1,  6, 11, 16, 21, 26, 31, 36, 41, 46])"
            ]
          },
          "metadata": {},
          "execution_count": 12
        }
      ]
    },
    {
      "cell_type": "code",
      "metadata": {
        "id": "sft1flaM6YXF",
        "colab": {
          "base_uri": "https://localhost:8080/"
        },
        "outputId": "e83a2f46-624d-4147-decd-21d0d766346e"
      },
      "source": [
        "# create a diagonal of ones and zeros everywhere else\n",
        "x = np.eye(15)\n",
        "x"
      ],
      "execution_count": 13,
      "outputs": [
        {
          "output_type": "execute_result",
          "data": {
            "text/plain": [
              "array([[1., 0., 0., 0., 0., 0., 0., 0., 0., 0., 0., 0., 0., 0., 0.],\n",
              "       [0., 1., 0., 0., 0., 0., 0., 0., 0., 0., 0., 0., 0., 0., 0.],\n",
              "       [0., 0., 1., 0., 0., 0., 0., 0., 0., 0., 0., 0., 0., 0., 0.],\n",
              "       [0., 0., 0., 1., 0., 0., 0., 0., 0., 0., 0., 0., 0., 0., 0.],\n",
              "       [0., 0., 0., 0., 1., 0., 0., 0., 0., 0., 0., 0., 0., 0., 0.],\n",
              "       [0., 0., 0., 0., 0., 1., 0., 0., 0., 0., 0., 0., 0., 0., 0.],\n",
              "       [0., 0., 0., 0., 0., 0., 1., 0., 0., 0., 0., 0., 0., 0., 0.],\n",
              "       [0., 0., 0., 0., 0., 0., 0., 1., 0., 0., 0., 0., 0., 0., 0.],\n",
              "       [0., 0., 0., 0., 0., 0., 0., 0., 1., 0., 0., 0., 0., 0., 0.],\n",
              "       [0., 0., 0., 0., 0., 0., 0., 0., 0., 1., 0., 0., 0., 0., 0.],\n",
              "       [0., 0., 0., 0., 0., 0., 0., 0., 0., 0., 1., 0., 0., 0., 0.],\n",
              "       [0., 0., 0., 0., 0., 0., 0., 0., 0., 0., 0., 1., 0., 0., 0.],\n",
              "       [0., 0., 0., 0., 0., 0., 0., 0., 0., 0., 0., 0., 1., 0., 0.],\n",
              "       [0., 0., 0., 0., 0., 0., 0., 0., 0., 0., 0., 0., 0., 1., 0.],\n",
              "       [0., 0., 0., 0., 0., 0., 0., 0., 0., 0., 0., 0., 0., 0., 1.]])"
            ]
          },
          "metadata": {},
          "execution_count": 13
        }
      ]
    },
    {
      "cell_type": "code",
      "metadata": {
        "id": "zZgMftc96fZm",
        "colab": {
          "base_uri": "https://localhost:8080/"
        },
        "outputId": "2bdc4579-14db-4f03-966a-4fa96eb92a15"
      },
      "source": [
        "# Array of ones\n",
        "x = np.ones(50)\n",
        "x"
      ],
      "execution_count": 14,
      "outputs": [
        {
          "output_type": "execute_result",
          "data": {
            "text/plain": [
              "array([1., 1., 1., 1., 1., 1., 1., 1., 1., 1., 1., 1., 1., 1., 1., 1., 1.,\n",
              "       1., 1., 1., 1., 1., 1., 1., 1., 1., 1., 1., 1., 1., 1., 1., 1., 1.,\n",
              "       1., 1., 1., 1., 1., 1., 1., 1., 1., 1., 1., 1., 1., 1., 1., 1.])"
            ]
          },
          "metadata": {},
          "execution_count": 14
        }
      ]
    },
    {
      "cell_type": "code",
      "metadata": {
        "id": "VQ8fp8Qb6feB",
        "colab": {
          "base_uri": "https://localhost:8080/"
        },
        "outputId": "e073e076-d6c1-4fbf-fdb3-bff08cd3a07b"
      },
      "source": [
        "# Matrices of ones\n",
        "x = np.ones((15, 15))\n",
        "x"
      ],
      "execution_count": 15,
      "outputs": [
        {
          "output_type": "execute_result",
          "data": {
            "text/plain": [
              "array([[1., 1., 1., 1., 1., 1., 1., 1., 1., 1., 1., 1., 1., 1., 1.],\n",
              "       [1., 1., 1., 1., 1., 1., 1., 1., 1., 1., 1., 1., 1., 1., 1.],\n",
              "       [1., 1., 1., 1., 1., 1., 1., 1., 1., 1., 1., 1., 1., 1., 1.],\n",
              "       [1., 1., 1., 1., 1., 1., 1., 1., 1., 1., 1., 1., 1., 1., 1.],\n",
              "       [1., 1., 1., 1., 1., 1., 1., 1., 1., 1., 1., 1., 1., 1., 1.],\n",
              "       [1., 1., 1., 1., 1., 1., 1., 1., 1., 1., 1., 1., 1., 1., 1.],\n",
              "       [1., 1., 1., 1., 1., 1., 1., 1., 1., 1., 1., 1., 1., 1., 1.],\n",
              "       [1., 1., 1., 1., 1., 1., 1., 1., 1., 1., 1., 1., 1., 1., 1.],\n",
              "       [1., 1., 1., 1., 1., 1., 1., 1., 1., 1., 1., 1., 1., 1., 1.],\n",
              "       [1., 1., 1., 1., 1., 1., 1., 1., 1., 1., 1., 1., 1., 1., 1.],\n",
              "       [1., 1., 1., 1., 1., 1., 1., 1., 1., 1., 1., 1., 1., 1., 1.],\n",
              "       [1., 1., 1., 1., 1., 1., 1., 1., 1., 1., 1., 1., 1., 1., 1.],\n",
              "       [1., 1., 1., 1., 1., 1., 1., 1., 1., 1., 1., 1., 1., 1., 1.],\n",
              "       [1., 1., 1., 1., 1., 1., 1., 1., 1., 1., 1., 1., 1., 1., 1.],\n",
              "       [1., 1., 1., 1., 1., 1., 1., 1., 1., 1., 1., 1., 1., 1., 1.]])"
            ]
          },
          "metadata": {},
          "execution_count": 15
        }
      ]
    },
    {
      "cell_type": "code",
      "metadata": {
        "id": "TTROXKYo6YSn",
        "colab": {
          "base_uri": "https://localhost:8080/"
        },
        "outputId": "187ed79a-6c0d-46e3-cdd6-c2271dfd25fa"
      },
      "source": [
        "# Array of zeros\n",
        "x = np.zeros((10, 10))\n",
        "x"
      ],
      "execution_count": 16,
      "outputs": [
        {
          "output_type": "execute_result",
          "data": {
            "text/plain": [
              "array([[0., 0., 0., 0., 0., 0., 0., 0., 0., 0.],\n",
              "       [0., 0., 0., 0., 0., 0., 0., 0., 0., 0.],\n",
              "       [0., 0., 0., 0., 0., 0., 0., 0., 0., 0.],\n",
              "       [0., 0., 0., 0., 0., 0., 0., 0., 0., 0.],\n",
              "       [0., 0., 0., 0., 0., 0., 0., 0., 0., 0.],\n",
              "       [0., 0., 0., 0., 0., 0., 0., 0., 0., 0.],\n",
              "       [0., 0., 0., 0., 0., 0., 0., 0., 0., 0.],\n",
              "       [0., 0., 0., 0., 0., 0., 0., 0., 0., 0.],\n",
              "       [0., 0., 0., 0., 0., 0., 0., 0., 0., 0.],\n",
              "       [0., 0., 0., 0., 0., 0., 0., 0., 0., 0.]])"
            ]
          },
          "metadata": {},
          "execution_count": 16
        }
      ]
    },
    {
      "cell_type": "markdown",
      "metadata": {
        "id": "IGiQ87EjKzh-"
      },
      "source": [
        "**MINI CHALLENGE #2:**\n",
        "- **Write a code that takes in a number x from the user and creates a 1x20 array with random numbers ranging from 0 to x**"
      ]
    },
    {
      "cell_type": "code",
      "metadata": {
        "id": "xg1mPZKKML5j",
        "colab": {
          "base_uri": "https://localhost:8080/"
        },
        "outputId": "2b04f240-6b89-435b-8514-cdd58b31e889"
      },
      "source": [
        "x = int(input('Enter your number: '))\n",
        "\n",
        "i = np.random.randint(1, x, 20)\n",
        "i"
      ],
      "execution_count": 17,
      "outputs": [
        {
          "name": "stdout",
          "output_type": "stream",
          "text": [
            "Enter your number: 30\n"
          ]
        },
        {
          "output_type": "execute_result",
          "data": {
            "text/plain": [
              "array([29, 21,  3, 19,  3,  8, 22, 22,  8,  4, 15,  9, 25, 19,  7, 16, 23,\n",
              "       23,  4, 24])"
            ]
          },
          "metadata": {},
          "execution_count": 17
        }
      ]
    },
    {
      "cell_type": "markdown",
      "metadata": {
        "id": "980PKtbu9Z0k"
      },
      "source": [
        "# 3. SHAPE, LENGTH, TYPE, RESHAPE, AND MAX/MIN VALUES"
      ]
    },
    {
      "cell_type": "code",
      "metadata": {
        "id": "MIxxZhxSADVj",
        "colab": {
          "base_uri": "https://localhost:8080/"
        },
        "outputId": "760b5778-c88f-445e-fb6e-d737eaf7c719"
      },
      "source": [
        "# Let's define a one-dimensional array \n",
        "my_list = [13, -20, 4, 90, 20, 45, -30, 10]\n",
        "my_list\n",
        "x = np.array(my_list)\n",
        "x"
      ],
      "execution_count": 18,
      "outputs": [
        {
          "output_type": "execute_result",
          "data": {
            "text/plain": [
              "array([ 13, -20,   4,  90,  20,  45, -30,  10])"
            ]
          },
          "metadata": {},
          "execution_count": 18
        }
      ]
    },
    {
      "cell_type": "code",
      "metadata": {
        "id": "O9mMBErG6YJr",
        "colab": {
          "base_uri": "https://localhost:8080/"
        },
        "outputId": "dae5a5ce-c736-49f3-cce5-277879298907"
      },
      "source": [
        "# Get Length of a numpy array\n",
        "len(x)"
      ],
      "execution_count": 19,
      "outputs": [
        {
          "output_type": "execute_result",
          "data": {
            "text/plain": [
              "8"
            ]
          },
          "metadata": {},
          "execution_count": 19
        }
      ]
    },
    {
      "cell_type": "code",
      "metadata": {
        "id": "fo3vYjNI9lGF",
        "colab": {
          "base_uri": "https://localhost:8080/"
        },
        "outputId": "e9d9b50c-cf38-4aec-cb38-710c3a8f67a6"
      },
      "source": [
        "# Get shape\n",
        "x.shape"
      ],
      "execution_count": 20,
      "outputs": [
        {
          "output_type": "execute_result",
          "data": {
            "text/plain": [
              "(8,)"
            ]
          },
          "metadata": {},
          "execution_count": 20
        }
      ]
    },
    {
      "cell_type": "code",
      "metadata": {
        "id": "fdkzRVuB9lR6",
        "colab": {
          "base_uri": "https://localhost:8080/"
        },
        "outputId": "f678ce63-d75a-4603-bd90-555842684547"
      },
      "source": [
        "# Obtain the datatype\n",
        "x.dtype"
      ],
      "execution_count": 21,
      "outputs": [
        {
          "output_type": "execute_result",
          "data": {
            "text/plain": [
              "dtype('int64')"
            ]
          },
          "metadata": {},
          "execution_count": 21
        }
      ]
    },
    {
      "cell_type": "code",
      "metadata": {
        "id": "GVnOSYnU9lLU",
        "colab": {
          "base_uri": "https://localhost:8080/"
        },
        "outputId": "ed6d6105-13da-4221-82f8-8bd9d07751fa"
      },
      "source": [
        "# Reshape 1D array into a matrix\n",
        "x = x.reshape(2, 4)\n",
        "x"
      ],
      "execution_count": 22,
      "outputs": [
        {
          "output_type": "execute_result",
          "data": {
            "text/plain": [
              "array([[ 13, -20,   4,  90],\n",
              "       [ 20,  45, -30,  10]])"
            ]
          },
          "metadata": {},
          "execution_count": 22
        }
      ]
    },
    {
      "cell_type": "code",
      "metadata": {
        "id": "zb1UVnsW9lI_",
        "colab": {
          "base_uri": "https://localhost:8080/"
        },
        "outputId": "29881d69-f6b8-48e0-d264-95cda45a5791"
      },
      "source": [
        "# Obtain the maximum element (value)\n",
        "x.min()"
      ],
      "execution_count": 23,
      "outputs": [
        {
          "output_type": "execute_result",
          "data": {
            "text/plain": [
              "-30"
            ]
          },
          "metadata": {},
          "execution_count": 23
        }
      ]
    },
    {
      "cell_type": "code",
      "metadata": {
        "id": "q1yArvkA-R5P",
        "colab": {
          "base_uri": "https://localhost:8080/"
        },
        "outputId": "510f1299-944c-4289-f1bc-fb92cf9ec2ac"
      },
      "source": [
        "# Obtain the minimum element (value)\n",
        "x.max()"
      ],
      "execution_count": 24,
      "outputs": [
        {
          "output_type": "execute_result",
          "data": {
            "text/plain": [
              "90"
            ]
          },
          "metadata": {},
          "execution_count": 24
        }
      ]
    },
    {
      "cell_type": "code",
      "metadata": {
        "id": "ehXgrFee-R3F",
        "colab": {
          "base_uri": "https://localhost:8080/"
        },
        "outputId": "bb605310-6b5a-4c7e-dc79-05960e726936"
      },
      "source": [
        "# Obtain the location of the max element\n",
        "x.argmax()"
      ],
      "execution_count": 25,
      "outputs": [
        {
          "output_type": "execute_result",
          "data": {
            "text/plain": [
              "3"
            ]
          },
          "metadata": {},
          "execution_count": 25
        }
      ]
    },
    {
      "cell_type": "code",
      "metadata": {
        "id": "EnaJTGEy-R0Y",
        "colab": {
          "base_uri": "https://localhost:8080/"
        },
        "outputId": "b276cc19-386c-4579-f089-2ba8c1a87d0a"
      },
      "source": [
        "# Obtain the location of the min element\n",
        "x.argmin()"
      ],
      "execution_count": 26,
      "outputs": [
        {
          "output_type": "execute_result",
          "data": {
            "text/plain": [
              "6"
            ]
          },
          "metadata": {},
          "execution_count": 26
        }
      ]
    },
    {
      "cell_type": "markdown",
      "metadata": {
        "id": "7LavgBBnIIJz"
      },
      "source": [
        "**MINI CHALLENGE #3:**\n",
        "- **Write a code that creates a 4x5 array inwhich numbers range between 300 and 500 such that the difference between elements is 10**"
      ]
    },
    {
      "cell_type": "code",
      "metadata": {
        "id": "CtwsbAQ6NGiN",
        "colab": {
          "base_uri": "https://localhost:8080/"
        },
        "outputId": "875ecf2c-073f-4384-9707-4999ed97ca87"
      },
      "source": [
        "x = np.arange(300, 500, 10)\n",
        "x"
      ],
      "execution_count": 27,
      "outputs": [
        {
          "output_type": "execute_result",
          "data": {
            "text/plain": [
              "array([300, 310, 320, 330, 340, 350, 360, 370, 380, 390, 400, 410, 420,\n",
              "       430, 440, 450, 460, 470, 480, 490])"
            ]
          },
          "metadata": {},
          "execution_count": 27
        }
      ]
    },
    {
      "cell_type": "code",
      "source": [
        "x = x.reshape(4, 5)\n",
        "x"
      ],
      "metadata": {
        "id": "jDlQT79JG0Oc",
        "outputId": "2e95ecea-834a-44ac-a961-3a5d053072c4",
        "colab": {
          "base_uri": "https://localhost:8080/"
        }
      },
      "execution_count": 28,
      "outputs": [
        {
          "output_type": "execute_result",
          "data": {
            "text/plain": [
              "array([[300, 310, 320, 330, 340],\n",
              "       [350, 360, 370, 380, 390],\n",
              "       [400, 410, 420, 430, 440],\n",
              "       [450, 460, 470, 480, 490]])"
            ]
          },
          "metadata": {},
          "execution_count": 28
        }
      ]
    },
    {
      "cell_type": "code",
      "source": [
        "x.shape"
      ],
      "metadata": {
        "id": "PXrVlV-RHcn1",
        "outputId": "6168ed8e-0663-4a6d-b3cd-ca2ea3936a56",
        "colab": {
          "base_uri": "https://localhost:8080/"
        }
      },
      "execution_count": 29,
      "outputs": [
        {
          "output_type": "execute_result",
          "data": {
            "text/plain": [
              "(4, 5)"
            ]
          },
          "metadata": {},
          "execution_count": 29
        }
      ]
    },
    {
      "cell_type": "markdown",
      "metadata": {
        "id": "zQ-QhrsgM2x8"
      },
      "source": [
        "**MINI CHALLENGE #4:**\n",
        "- **Write a code that creates a 20x20 numpy array of random values that ranges from -1000 to 1000 and obtain the maximum, minimum, and mean values** "
      ]
    },
    {
      "cell_type": "code",
      "metadata": {
        "id": "PS3ofoabMb9V",
        "colab": {
          "base_uri": "https://localhost:8080/"
        },
        "outputId": "1f13e622-db41-4087-bbfd-f42fc47872e2"
      },
      "source": [
        "z = np.random.randint(-1000, 1000, (20, 20))\n",
        "z"
      ],
      "execution_count": 30,
      "outputs": [
        {
          "output_type": "execute_result",
          "data": {
            "text/plain": [
              "array([[-375, -260,  294,  198,  155,  482,   -5, -289,  762,  829, -892,\n",
              "        -434,  589, -296,  102,  335,  564, -946, -573,  907],\n",
              "       [-400, -146,   96,  374,   95, -561, -326, -615,  934,  591, -477,\n",
              "         280,  173, -303, -577, -204,  591, -462,  619,  326],\n",
              "       [ 867, -162, -905,  303, -966, -602,  737,  840, -574,  873,   69,\n",
              "         605, -781,  525,  -47,  806, -711,  352, -458,  621],\n",
              "       [ 546,  -80, -511, -720,  115,  334, -181,  529,  292, -214, -867,\n",
              "        -599, -227,  550, -761,  136,   74,  744, -855, -848],\n",
              "       [ 148,  -96, -284,   13, -655,  719, -539, -164, -960, -822, -446,\n",
              "        -475, -574, -124,  474,  888,  745, -914, -965,  549],\n",
              "       [-487, -436,  692,  279,  277,  540,  -56,  711,  903, -989, -642,\n",
              "         -74,  795, -886,  756,  976,  681, -472,  982,  -16],\n",
              "       [ 203, -316, -663,  -25,  -17,   53,  696, -760, -155,  643,  459,\n",
              "         626,  495, -618, -413, -549,  803, -775, -928,  280],\n",
              "       [-452, -519,  343, -112,  210, -461, -850,  601,  222,   40, -340,\n",
              "        -752, -439,  975,  226,   69,  381, -550,  137,  313],\n",
              "       [-451, -224,  109, -468,  712,  304,  820, -765, -997, -726,  586,\n",
              "         456, -508, -552,  482, -465, -312, -296,  344, -826],\n",
              "       [ 995, -740,  672, -200,  109,   71, -600,  -28, -989,  803, -521,\n",
              "         770,  536,  395,  758,  338,  347,  321, -241, -923],\n",
              "       [-612,  924,  297,  582, -282, -466,   -3, -337, -134,   38, -448,\n",
              "        -864,  868, -783, -942, -145,  860,  682, -273,  830],\n",
              "       [-226,  627, -539, -957, -263, -672,   57,  142,  489,  598,  108,\n",
              "         336,    3, -162,  170, -771,   17,  435, -587,  234],\n",
              "       [ 682, -251, -130,  532, -956, -470,  571, -265,   41,  198,  793,\n",
              "         743,  671,  302,  349,  934, -198,  688,  -71, -493],\n",
              "       [-701,  549, -411,  827,  480,   81,  804,  171, -898, -502,  204,\n",
              "        -392, -299, -463, -601,  190, -625, -513, -634, -718],\n",
              "       [ 176,  421,  727,  132,  820, -645, -739, -253,  937, -893,  210,\n",
              "        -131,  -88,  813,  945,   58,  140, -546,  182, -588],\n",
              "       [ 769, -880,  -87,  802,  924,  -81,  815,  210, -200,  746,  718,\n",
              "        -187, -235,  852,  206,  269,  -92,    8, -763, -827],\n",
              "       [ 310,  110, -203,  679,  776,  342,  439, -144, -806,  746,  -72,\n",
              "         538,  939,  739, -804,  121,  309, -975,  420, -364],\n",
              "       [ -97,  560, -698,  374,  -83, -659, -541, -519, -123,  462,  663,\n",
              "         777,  368, -728,   40,  285, -662,  281, -151, -454],\n",
              "       [ 166, -204, -761, -592,  486, -570,  753,  -38,  309, -298,  847,\n",
              "         -15,  918, -325,  -49, -923, -328,  903, -420,  642],\n",
              "       [-554, -537, -988, -731,  426,   44,  294, -358, -182,  -25,  827,\n",
              "         182,  639,  743, -188,  381, -330, -153,  226,  633]])"
            ]
          },
          "metadata": {},
          "execution_count": 30
        }
      ]
    },
    {
      "cell_type": "code",
      "source": [
        "z.shape"
      ],
      "metadata": {
        "id": "73w5aK47Hgnc",
        "outputId": "eeb1962a-88c1-492a-d65f-0ddbf16f9576",
        "colab": {
          "base_uri": "https://localhost:8080/"
        }
      },
      "execution_count": 31,
      "outputs": [
        {
          "output_type": "execute_result",
          "data": {
            "text/plain": [
              "(20, 20)"
            ]
          },
          "metadata": {},
          "execution_count": 31
        }
      ]
    },
    {
      "cell_type": "code",
      "source": [
        "z.min()"
      ],
      "metadata": {
        "id": "z-ue7-JrHk20",
        "outputId": "b5d30372-37ca-4886-8de5-d8ee3f657f79",
        "colab": {
          "base_uri": "https://localhost:8080/"
        }
      },
      "execution_count": 32,
      "outputs": [
        {
          "output_type": "execute_result",
          "data": {
            "text/plain": [
              "-997"
            ]
          },
          "metadata": {},
          "execution_count": 32
        }
      ]
    },
    {
      "cell_type": "code",
      "source": [
        "z.max()"
      ],
      "metadata": {
        "id": "WwoHKTrjHnUt",
        "outputId": "b8953276-6c87-4c81-ed0e-41024067531f",
        "colab": {
          "base_uri": "https://localhost:8080/"
        }
      },
      "execution_count": 33,
      "outputs": [
        {
          "output_type": "execute_result",
          "data": {
            "text/plain": [
              "995"
            ]
          },
          "metadata": {},
          "execution_count": 33
        }
      ]
    },
    {
      "cell_type": "code",
      "source": [
        "z.mean()"
      ],
      "metadata": {
        "id": "lj58O97kHqgZ",
        "outputId": "a5f2d963-79cd-4cc0-a31b-47041fabd938",
        "colab": {
          "base_uri": "https://localhost:8080/"
        }
      },
      "execution_count": 34,
      "outputs": [
        {
          "output_type": "execute_result",
          "data": {
            "text/plain": [
              "9.9325"
            ]
          },
          "metadata": {},
          "execution_count": 34
        }
      ]
    },
    {
      "cell_type": "code",
      "source": [
        "print('Therefore the minimum value is {}, maximum value is {} and the average value is {}'.format(z.min(), z.max(), z.mean()))"
      ],
      "metadata": {
        "id": "syyUXR3cH8fb",
        "outputId": "6f304753-5316-4d43-b680-c7c2835b1cf2",
        "colab": {
          "base_uri": "https://localhost:8080/"
        }
      },
      "execution_count": 35,
      "outputs": [
        {
          "output_type": "stream",
          "name": "stdout",
          "text": [
            "Therefore the minimum value is -997, maximum value is 995 and the average value is 9.9325\n"
          ]
        }
      ]
    },
    {
      "cell_type": "markdown",
      "metadata": {
        "id": "VRyk_VYQArV3"
      },
      "source": [
        "# 4. MATHEMATICAL OPERATIONS"
      ]
    },
    {
      "cell_type": "code",
      "metadata": {
        "id": "vm-gmaQG-Vvd",
        "colab": {
          "base_uri": "https://localhost:8080/"
        },
        "outputId": "f827b1e2-4e70-4144-d149-25f197a10a76"
      },
      "source": [
        "# np.arange() returns an evenly spaced values within a given interval\n",
        "x = np.arange(1, 10)\n",
        "x"
      ],
      "execution_count": 36,
      "outputs": [
        {
          "output_type": "execute_result",
          "data": {
            "text/plain": [
              "array([1, 2, 3, 4, 5, 6, 7, 8, 9])"
            ]
          },
          "metadata": {},
          "execution_count": 36
        }
      ]
    },
    {
      "cell_type": "code",
      "metadata": {
        "id": "yzC5WGBIAzNk",
        "colab": {
          "base_uri": "https://localhost:8080/"
        },
        "outputId": "f6b9fbe0-6282-461a-a793-e7e33df4e894"
      },
      "source": [
        "y = np.arange(1, 10)\n",
        "y"
      ],
      "execution_count": 37,
      "outputs": [
        {
          "output_type": "execute_result",
          "data": {
            "text/plain": [
              "array([1, 2, 3, 4, 5, 6, 7, 8, 9])"
            ]
          },
          "metadata": {},
          "execution_count": 37
        }
      ]
    },
    {
      "cell_type": "code",
      "metadata": {
        "id": "ED0OSzpw2p9R",
        "colab": {
          "base_uri": "https://localhost:8080/"
        },
        "outputId": "83b80f90-dae5-42f4-c76f-5bffba4db551"
      },
      "source": [
        "# Add 2 numpy arrays together\n",
        "sum = x + y\n",
        "sum"
      ],
      "execution_count": 38,
      "outputs": [
        {
          "output_type": "execute_result",
          "data": {
            "text/plain": [
              "array([ 2,  4,  6,  8, 10, 12, 14, 16, 18])"
            ]
          },
          "metadata": {},
          "execution_count": 38
        }
      ]
    },
    {
      "cell_type": "code",
      "metadata": {
        "id": "TH6xTJcuAzK-",
        "colab": {
          "base_uri": "https://localhost:8080/"
        },
        "outputId": "ace651d3-d6cb-4231-f571-475c4be81e76"
      },
      "source": [
        "squared = x**2\n",
        "squared"
      ],
      "execution_count": 39,
      "outputs": [
        {
          "output_type": "execute_result",
          "data": {
            "text/plain": [
              "array([ 1,  4,  9, 16, 25, 36, 49, 64, 81])"
            ]
          },
          "metadata": {},
          "execution_count": 39
        }
      ]
    },
    {
      "cell_type": "code",
      "metadata": {
        "id": "A0T25q5bAzIw",
        "colab": {
          "base_uri": "https://localhost:8080/"
        },
        "outputId": "21ff7ecf-9960-412d-fd45-67ac4da16150"
      },
      "source": [
        "sqrt = np.sqrt(squared)\n",
        "sqrt"
      ],
      "execution_count": 40,
      "outputs": [
        {
          "output_type": "execute_result",
          "data": {
            "text/plain": [
              "array([1., 2., 3., 4., 5., 6., 7., 8., 9.])"
            ]
          },
          "metadata": {},
          "execution_count": 40
        }
      ]
    },
    {
      "cell_type": "code",
      "metadata": {
        "id": "1HvrjH4fAzGd",
        "colab": {
          "base_uri": "https://localhost:8080/"
        },
        "outputId": "54b10091-a98b-4327-ffaf-99faabeaa228"
      },
      "source": [
        "expo = np.exp(y)\n",
        "expo"
      ],
      "execution_count": 41,
      "outputs": [
        {
          "output_type": "execute_result",
          "data": {
            "text/plain": [
              "array([2.71828183e+00, 7.38905610e+00, 2.00855369e+01, 5.45981500e+01,\n",
              "       1.48413159e+02, 4.03428793e+02, 1.09663316e+03, 2.98095799e+03,\n",
              "       8.10308393e+03])"
            ]
          },
          "metadata": {},
          "execution_count": 41
        }
      ]
    },
    {
      "cell_type": "markdown",
      "metadata": {
        "id": "-mj5Mwc2MmY2"
      },
      "source": [
        "**MINI CHALLENGE #5:**\n",
        "- **Given the X and Y values below, obtain the distance between them**\n",
        "\n",
        "\n",
        "```\n",
        "X = [3, 20, 30]\n",
        "Y = [4, 6, 7]\n",
        "```"
      ]
    },
    {
      "cell_type": "code",
      "source": [
        "x = [3, 20, 30]\n",
        "y = [4, 6, 7]"
      ],
      "metadata": {
        "id": "K8-z-5xFgvle"
      },
      "execution_count": 44,
      "outputs": []
    },
    {
      "cell_type": "code",
      "metadata": {
        "id": "LfvrGIb83zCA",
        "colab": {
          "base_uri": "https://localhost:8080/"
        },
        "outputId": "997ff264-81f8-432f-b69a-64c1dc92a798"
      },
      "source": [
        "# the formula for distance is: sq(x^2 + y^2)\n",
        "x = np.array([3, 20, 30])\n",
        "y = np.array([4, 6, 7])\n",
        "\n",
        "distance = list(np.sqrt(x**2 + y**2))\n",
        "distance"
      ],
      "execution_count": 45,
      "outputs": [
        {
          "output_type": "execute_result",
          "data": {
            "text/plain": [
              "[5.0, 20.8806130178211, 30.805843601498726]"
            ]
          },
          "metadata": {},
          "execution_count": 45
        }
      ]
    },
    {
      "cell_type": "markdown",
      "metadata": {
        "id": "ZA-Yb20mCYLl"
      },
      "source": [
        "# 5. SLICING AND INDEXING "
      ]
    },
    {
      "cell_type": "code",
      "metadata": {
        "id": "Bu6rhQ99BFCp",
        "colab": {
          "base_uri": "https://localhost:8080/"
        },
        "outputId": "b8fc6158-c6aa-4515-ed2e-1138ecb88165"
      },
      "source": [
        "x = np.array([12, 28, 5, 21, 15, 6])\n",
        "x"
      ],
      "execution_count": 62,
      "outputs": [
        {
          "output_type": "execute_result",
          "data": {
            "text/plain": [
              "array([12, 28,  5, 21, 15,  6])"
            ]
          },
          "metadata": {},
          "execution_count": 62
        }
      ]
    },
    {
      "cell_type": "code",
      "metadata": {
        "id": "9TuEXJxgCdi_",
        "colab": {
          "base_uri": "https://localhost:8080/"
        },
        "outputId": "e0ce0a31-80af-40d1-fcf4-b33172acbf81"
      },
      "source": [
        "# Access specific index from the numpy array\n",
        "x[2]"
      ],
      "execution_count": 63,
      "outputs": [
        {
          "output_type": "execute_result",
          "data": {
            "text/plain": [
              "5"
            ]
          },
          "metadata": {},
          "execution_count": 63
        }
      ]
    },
    {
      "cell_type": "code",
      "metadata": {
        "id": "EjisujRgCdh4",
        "colab": {
          "base_uri": "https://localhost:8080/"
        },
        "outputId": "37706a09-bf11-4c0e-b715-04f83e00790a"
      },
      "source": [
        "# Starting from the first index 0 up until and NOT inlcluding the last element\n",
        "x[:3]"
      ],
      "execution_count": 64,
      "outputs": [
        {
          "output_type": "execute_result",
          "data": {
            "text/plain": [
              "array([12, 28,  5])"
            ]
          },
          "metadata": {},
          "execution_count": 64
        }
      ]
    },
    {
      "cell_type": "code",
      "metadata": {
        "id": "1nWlP602Cdg3",
        "colab": {
          "base_uri": "https://localhost:8080/"
        },
        "outputId": "9723941a-9ef5-4a9c-f902-1a63f70f1161"
      },
      "source": [
        "# Broadcasting, altering several values in a numpy array at once\n",
        "x[0:2] = 10\n",
        "x"
      ],
      "execution_count": 65,
      "outputs": [
        {
          "output_type": "execute_result",
          "data": {
            "text/plain": [
              "array([10, 10,  5, 21, 15,  6])"
            ]
          },
          "metadata": {},
          "execution_count": 65
        }
      ]
    },
    {
      "cell_type": "code",
      "metadata": {
        "id": "fVKbwHguCddn",
        "colab": {
          "base_uri": "https://localhost:8080/"
        },
        "outputId": "5f2e589a-a814-479e-e7a7-e7dc6dc10808"
      },
      "source": [
        "# Let's define a two dimensional numpy array\n",
        "x = np.random.randint(1, 10, (5, 5))\n",
        "x"
      ],
      "execution_count": 66,
      "outputs": [
        {
          "output_type": "execute_result",
          "data": {
            "text/plain": [
              "array([[2, 1, 6, 5, 3],\n",
              "       [3, 8, 3, 4, 2],\n",
              "       [6, 2, 3, 3, 3],\n",
              "       [2, 9, 3, 7, 4],\n",
              "       [5, 6, 9, 5, 6]])"
            ]
          },
          "metadata": {},
          "execution_count": 66
        }
      ]
    },
    {
      "cell_type": "code",
      "metadata": {
        "id": "Ea7ukwEzCda-",
        "colab": {
          "base_uri": "https://localhost:8080/"
        },
        "outputId": "c1503ab4-7338-4c1d-d633-e42367b4923a"
      },
      "source": [
        "# Get a row from a mtrix\n",
        "x[0]"
      ],
      "execution_count": 67,
      "outputs": [
        {
          "output_type": "execute_result",
          "data": {
            "text/plain": [
              "array([2, 1, 6, 5, 3])"
            ]
          },
          "metadata": {},
          "execution_count": 67
        }
      ]
    },
    {
      "cell_type": "code",
      "metadata": {
        "id": "8KJk10J8Ci8k",
        "colab": {
          "base_uri": "https://localhost:8080/"
        },
        "outputId": "77ba70c6-a19e-45a4-ee21-bba0e3dca885"
      },
      "source": [
        "# Get one element\n",
        "x[2][3]"
      ],
      "execution_count": 68,
      "outputs": [
        {
          "output_type": "execute_result",
          "data": {
            "text/plain": [
              "3"
            ]
          },
          "metadata": {},
          "execution_count": 68
        }
      ]
    },
    {
      "cell_type": "code",
      "metadata": {
        "id": "lWsIgHYRCi5e",
        "colab": {
          "base_uri": "https://localhost:8080/"
        },
        "outputId": "9dbffdaa-ec15-4ca5-f0c1-4d2ce85af986"
      },
      "source": [
        "x[:3]"
      ],
      "execution_count": 71,
      "outputs": [
        {
          "output_type": "execute_result",
          "data": {
            "text/plain": [
              "array([[2, 1, 6, 5, 3],\n",
              "       [3, 8, 3, 4, 2],\n",
              "       [6, 2, 3, 3, 3]])"
            ]
          },
          "metadata": {},
          "execution_count": 71
        }
      ]
    },
    {
      "cell_type": "code",
      "metadata": {
        "id": "Gn7-PKS9Ci4c",
        "colab": {
          "base_uri": "https://localhost:8080/"
        },
        "outputId": "b8555844-5b8d-436b-a8db-e869af245f23"
      },
      "source": [
        "mini_x = x[:, 2:]\n",
        "mini_x"
      ],
      "execution_count": 72,
      "outputs": [
        {
          "output_type": "execute_result",
          "data": {
            "text/plain": [
              "array([[6, 5, 3],\n",
              "       [3, 4, 2],\n",
              "       [3, 3, 3],\n",
              "       [3, 7, 4],\n",
              "       [9, 5, 6]])"
            ]
          },
          "metadata": {},
          "execution_count": 72
        }
      ]
    },
    {
      "cell_type": "code",
      "metadata": {
        "id": "MGap8pfACi1M",
        "colab": {
          "base_uri": "https://localhost:8080/"
        },
        "outputId": "08c002d8-a9bb-4dfe-ad94-7f7b5cca1b18"
      },
      "source": [
        "mini_x = x[:, :2]\n",
        "mini_x"
      ],
      "execution_count": 74,
      "outputs": [
        {
          "output_type": "execute_result",
          "data": {
            "text/plain": [
              "array([[2, 1],\n",
              "       [3, 8],\n",
              "       [6, 2],\n",
              "       [2, 9],\n",
              "       [5, 6]])"
            ]
          },
          "metadata": {},
          "execution_count": 74
        }
      ]
    },
    {
      "cell_type": "code",
      "metadata": {
        "id": "ANJFZWTdCdX9"
      },
      "source": [
        ""
      ],
      "execution_count": null,
      "outputs": []
    },
    {
      "cell_type": "markdown",
      "metadata": {
        "id": "zgyFPV5R8dUS"
      },
      "source": [
        "**MINI CHALLENGE #6:**\n",
        "- **In the following matrix, replace the last row with -1**\n",
        "- **Multiply the 2x2 matrix in the upper right corner by 2**\n",
        "\n",
        "\n",
        "\n",
        "```\n",
        "X = [2 30 20 -2 -4]\n",
        "    [3 4  40 -3 -2]\n",
        "    [-3 4 -6 90 10]\n",
        "    [25 45 34 22 12]\n",
        "    [13 24 22 32 37]\n",
        "```\n",
        "\n"
      ]
    },
    {
      "cell_type": "code",
      "source": [
        "x = np.array([[2, 30, 20, -2, -4],\n",
        "    [3, 4, 40, -3, -2],\n",
        "    [-3, 4, -6, 90, 10],\n",
        "    [25, 45, 34, 22, 12],\n",
        "    [13, 24, 22, 32, 37]])\n",
        "\n",
        "x"
      ],
      "metadata": {
        "colab": {
          "base_uri": "https://localhost:8080/"
        },
        "id": "xXbXwNqlpuw1",
        "outputId": "0e6432af-8d53-4f9f-b9e4-1026edad364a"
      },
      "execution_count": 83,
      "outputs": [
        {
          "output_type": "execute_result",
          "data": {
            "text/plain": [
              "array([[ 2, 30, 20, -2, -4],\n",
              "       [ 3,  4, 40, -3, -2],\n",
              "       [-3,  4, -6, 90, 10],\n",
              "       [25, 45, 34, 22, 12],\n",
              "       [13, 24, 22, 32, 37]])"
            ]
          },
          "metadata": {},
          "execution_count": 83
        }
      ]
    },
    {
      "cell_type": "code",
      "source": [
        "x[-1] = -1\n",
        "x"
      ],
      "metadata": {
        "colab": {
          "base_uri": "https://localhost:8080/"
        },
        "id": "xQf8iZ2Zpui9",
        "outputId": "fa252023-c74c-4c4e-92c8-50aeda4fba63"
      },
      "execution_count": 84,
      "outputs": [
        {
          "output_type": "execute_result",
          "data": {
            "text/plain": [
              "array([[ 2, 30, 20, -2, -4],\n",
              "       [ 3,  4, 40, -3, -2],\n",
              "       [-3,  4, -6, 90, 10],\n",
              "       [25, 45, 34, 22, 12],\n",
              "       [-1, -1, -1, -1, -1]])"
            ]
          },
          "metadata": {},
          "execution_count": 84
        }
      ]
    },
    {
      "cell_type": "code",
      "source": [
        "x[:2, 3:] = x[:2, 3:] * 2"
      ],
      "metadata": {
        "id": "P7ksiIT-pucy"
      },
      "execution_count": 87,
      "outputs": []
    },
    {
      "cell_type": "code",
      "source": [
        "x"
      ],
      "metadata": {
        "colab": {
          "base_uri": "https://localhost:8080/"
        },
        "id": "y9R8HPoPs98I",
        "outputId": "157dc267-4637-42ea-ff3c-e583c5fbbd1d"
      },
      "execution_count": 88,
      "outputs": [
        {
          "output_type": "execute_result",
          "data": {
            "text/plain": [
              "array([[ 2, 30, 20, -4, -8],\n",
              "       [ 3,  4, 40, -6, -4],\n",
              "       [-3,  4, -6, 90, 10],\n",
              "       [25, 45, 34, 22, 12],\n",
              "       [-1, -1, -1, -1, -1]])"
            ]
          },
          "metadata": {},
          "execution_count": 88
        }
      ]
    },
    {
      "cell_type": "markdown",
      "metadata": {
        "id": "juuMOEq7Col_"
      },
      "source": [
        "# 6. ELEMENTS SELECTION (CONDITIONAL)"
      ]
    },
    {
      "cell_type": "code",
      "metadata": {
        "id": "UujCvuhMCt4K",
        "colab": {
          "base_uri": "https://localhost:8080/"
        },
        "outputId": "963936d8-86d2-4f81-8626-22b93353842c"
      },
      "source": [
        "x = np.random.randint(1, 10, (5, 5))\n",
        "x"
      ],
      "execution_count": 89,
      "outputs": [
        {
          "output_type": "execute_result",
          "data": {
            "text/plain": [
              "array([[1, 3, 2, 4, 2],\n",
              "       [1, 3, 6, 6, 4],\n",
              "       [6, 7, 9, 2, 1],\n",
              "       [3, 1, 1, 9, 1],\n",
              "       [5, 1, 2, 1, 7]])"
            ]
          },
          "metadata": {},
          "execution_count": 89
        }
      ]
    },
    {
      "cell_type": "code",
      "metadata": {
        "id": "JBgJ8ugyCvht",
        "colab": {
          "base_uri": "https://localhost:8080/"
        },
        "outputId": "69305b3e-a23e-4257-ff4a-54ed9fff8ddd"
      },
      "source": [
        "new_x = x[  x > 3  ]\n",
        "new_x"
      ],
      "execution_count": 90,
      "outputs": [
        {
          "output_type": "execute_result",
          "data": {
            "text/plain": [
              "array([4, 6, 6, 4, 6, 7, 9, 9, 5, 7])"
            ]
          },
          "metadata": {},
          "execution_count": 90
        }
      ]
    },
    {
      "cell_type": "code",
      "metadata": {
        "id": "TIQ-A7IBCvgl",
        "colab": {
          "base_uri": "https://localhost:8080/"
        },
        "outputId": "c839a0d6-95f1-4c4a-b3da-5ecf2639dbd2"
      },
      "source": [
        "new_x = x[  x%2 == 0  ]\n",
        "new_x"
      ],
      "execution_count": 91,
      "outputs": [
        {
          "output_type": "execute_result",
          "data": {
            "text/plain": [
              "array([2, 4, 2, 6, 6, 4, 6, 2, 2])"
            ]
          },
          "metadata": {},
          "execution_count": 91
        }
      ]
    },
    {
      "cell_type": "markdown",
      "metadata": {
        "id": "39QiMh-W8ogs"
      },
      "source": [
        "**MINI CHALLENGE #7:**\n",
        "- **In the following matrix, replace negative elements by 0 and replace odd elements with 25**\n",
        "\n",
        "\n",
        "```\n",
        "X = [2 30 20 -2 -4]\n",
        "    [3 4  40 -3 -2]\n",
        "    [-3 4 -6 90 10]\n",
        "    [25 45 34 22 12]\n",
        "    [13 24 22 32 37]\n",
        "```\n"
      ]
    },
    {
      "cell_type": "code",
      "metadata": {
        "id": "AbN-vySf9gen",
        "colab": {
          "base_uri": "https://localhost:8080/"
        },
        "outputId": "dedef93e-ce23-46d9-8031-95d6dff2a000"
      },
      "source": [
        "x = np.array([[2, 30, 20, -2, -4],\n",
        "    [3, 4, 40, -3, -2],\n",
        "    [-3, 4, -6, 90, 10],\n",
        "    [25, 45, 34, 22, 12],\n",
        "    [13, 24, 22, 32, 37]])\n",
        "\n",
        "x"
      ],
      "execution_count": 92,
      "outputs": [
        {
          "output_type": "execute_result",
          "data": {
            "text/plain": [
              "array([[ 2, 30, 20, -2, -4],\n",
              "       [ 3,  4, 40, -3, -2],\n",
              "       [-3,  4, -6, 90, 10],\n",
              "       [25, 45, 34, 22, 12],\n",
              "       [13, 24, 22, 32, 37]])"
            ]
          },
          "metadata": {},
          "execution_count": 92
        }
      ]
    },
    {
      "cell_type": "code",
      "source": [
        "x[x < 0] = 0\n",
        "x[x%2 == 1] = 25"
      ],
      "metadata": {
        "id": "K_8tE-V5wTad"
      },
      "execution_count": 93,
      "outputs": []
    },
    {
      "cell_type": "code",
      "source": [
        "x"
      ],
      "metadata": {
        "colab": {
          "base_uri": "https://localhost:8080/"
        },
        "id": "Q_jW00PjwqaQ",
        "outputId": "38bcf502-cb96-43fe-ea90-7f8b7998a4da"
      },
      "execution_count": 94,
      "outputs": [
        {
          "output_type": "execute_result",
          "data": {
            "text/plain": [
              "array([[ 2, 30, 20,  0,  0],\n",
              "       [25,  4, 40,  0,  0],\n",
              "       [ 0,  4,  0, 90, 10],\n",
              "       [25, 25, 34, 22, 12],\n",
              "       [25, 24, 22, 32, 25]])"
            ]
          },
          "metadata": {},
          "execution_count": 94
        }
      ]
    },
    {
      "cell_type": "markdown",
      "metadata": {
        "id": "dakv7iPFgw7Y"
      },
      "source": [
        "# EXCELLENT JOB!"
      ]
    },
    {
      "cell_type": "markdown",
      "metadata": {
        "id": "pNWQrMz6KnIF"
      },
      "source": [
        "# MINI CHALLENGES SOLUTIONS"
      ]
    },
    {
      "cell_type": "markdown",
      "metadata": {
        "id": "6AMqSvtAKj6o"
      },
      "source": [
        "**MINI CHALLENGE #1 SOLUTION:** \n",
        "- **Write a code that creates the following 2x4 numpy array**\n",
        "\n",
        "```\n",
        "[[4 6 8 7] \n",
        "[20 5 6 9]]\n",
        "```"
      ]
    },
    {
      "cell_type": "code",
      "metadata": {
        "id": "ivvFzDy-KlQP"
      },
      "source": [
        "x = np.array([[[4, 6, 8, 7] , [20, 5, 6, 9]]])\n",
        "x"
      ],
      "execution_count": null,
      "outputs": []
    },
    {
      "cell_type": "markdown",
      "metadata": {
        "id": "2GskzNkOMFu0"
      },
      "source": [
        "**MINI CHALLENGE #2 SOLUTION:**\n",
        "- **Write a code that takes in a number x from the user and creates a 1x20 array with random numbers ranging from 0 to x**"
      ]
    },
    {
      "cell_type": "code",
      "metadata": {
        "id": "0vnDfvwFMFu3"
      },
      "source": [
        "x = int(input(\"Please enter a positive integer value: \"))\n",
        "x = np.random.randint(1, x, 20)\n",
        "x"
      ],
      "execution_count": null,
      "outputs": []
    },
    {
      "cell_type": "markdown",
      "metadata": {
        "id": "LOVruiHdMRMd"
      },
      "source": [
        "**MINI CHALLENGE #3 SOLUTION:**\n",
        "- **Write a code that creates a 4x5 array inwhich numbers ranging between 300 and 500 such that the difference between elements is 10**"
      ]
    },
    {
      "cell_type": "code",
      "metadata": {
        "id": "WtSncbsHMRMg"
      },
      "source": [
        "x = np.arange(300, 500, 10)\n",
        "x.shape"
      ],
      "execution_count": null,
      "outputs": []
    },
    {
      "cell_type": "code",
      "metadata": {
        "id": "2_8vFVF7MRMp"
      },
      "source": [
        "x = x.reshape(4, 5)\n",
        "print(x)"
      ],
      "execution_count": null,
      "outputs": []
    },
    {
      "cell_type": "markdown",
      "metadata": {
        "id": "NSuiOFRx1pSY"
      },
      "source": [
        "**MINI CHALLENGE #4 SOLUTION:**\n",
        "- **Write a code that creates a 20x20 numpy array of random values that ranges from -1000 to 1000 and obtain the maximum, minimum, and mean values** "
      ]
    },
    {
      "cell_type": "code",
      "metadata": {
        "id": "445Vi21GMYS7"
      },
      "source": [
        "x = np.random.randint(-1000, 1000, (20, 20))\n",
        "print(x)\n",
        "print('The maximum value is: {} and the minimum value is:{}'.format(x.min(), x.max()))"
      ],
      "execution_count": null,
      "outputs": []
    },
    {
      "cell_type": "code",
      "metadata": {
        "id": "tIVL0uEr4xsC"
      },
      "source": [
        ""
      ],
      "execution_count": null,
      "outputs": []
    },
    {
      "cell_type": "markdown",
      "metadata": {
        "id": "s1p4WaNB4yFf"
      },
      "source": [
        "**MINI CHALLENGE #5 SOLUTION:**\n",
        "- **Given the X and Y values below, obtain the distance between them**\n",
        "\n",
        "\n",
        "```\n",
        "X = [3, 20, 30]\n",
        "Y = [4, 6, 7]\n",
        "```\n",
        "\n",
        "\n"
      ]
    },
    {
      "cell_type": "code",
      "metadata": {
        "id": "_GJmf2Pl4yFi"
      },
      "source": [
        "X = np.array([3, 20, 30])\n",
        "Y = np.array([4, 6, 7])\n",
        "Z = np.sqrt(X**2 + Y**2)\n",
        "Z"
      ],
      "execution_count": null,
      "outputs": []
    },
    {
      "cell_type": "markdown",
      "metadata": {
        "id": "EZ9i2CLm6Iuf"
      },
      "source": [
        "**MINI CHALLENGE #6 SOLUTION:**\n",
        "- **In the following matrix, replace the last row with -1**\n",
        "- **Multiply the 2x2 matrix in the upper right corner by 2**\n",
        "\n",
        "\n",
        "\n",
        "```\n",
        "X = [2 30 20 -2 -4]\n",
        "    [3 4  40 -3 -2]\n",
        "    [-3 4 -6 90 10]\n",
        "    [25 45 34 22 12]\n",
        "    [13 24 22 32 37]\n",
        "```\n",
        "\n",
        "\n"
      ]
    },
    {
      "cell_type": "code",
      "metadata": {
        "id": "qB7S_wIx6Hsm"
      },
      "source": [
        "X = np.array([[2, 30, 20, -2, -4],\n",
        "    [3, 4,  40, -3, -2],\n",
        "    [-3, 4, -6, 90, 10],\n",
        "    [25, 45, 34, 22, 12],\n",
        "    [13, 24, 22, 32, 37]])\n"
      ],
      "execution_count": null,
      "outputs": []
    },
    {
      "cell_type": "code",
      "metadata": {
        "id": "y98hmGRe7Qtl"
      },
      "source": [
        "X[4] = 0\n",
        "X"
      ],
      "execution_count": null,
      "outputs": []
    },
    {
      "cell_type": "code",
      "metadata": {
        "id": "6pLZ5lF87UFs"
      },
      "source": [
        "X[:2, 3:]  = X[:2, 3:] * 2"
      ],
      "execution_count": null,
      "outputs": []
    },
    {
      "cell_type": "code",
      "metadata": {
        "id": "WsqjANlB8Kva"
      },
      "source": [
        "X"
      ],
      "execution_count": null,
      "outputs": []
    },
    {
      "cell_type": "markdown",
      "metadata": {
        "id": "2oikl6JS9YUs"
      },
      "source": [
        "**MINI CHALLENGE #7 SOLUTION:**\n",
        "- **In the following matrix, replace negative elements by 0 and replace odd elements with 25**\n",
        "\n",
        "\n",
        "```\n",
        "X = [2 30 20 -2 -4]\n",
        "    [3 4  40 -3 -2]\n",
        "    [-3 4 -6 90 10]\n",
        "    [25 45 34 22 12]\n",
        "    [13 24 22 32 37]\n",
        "```\n"
      ]
    },
    {
      "cell_type": "code",
      "metadata": {
        "id": "h105KzGr9YUu"
      },
      "source": [
        "X = np.array([[2, 30, 20, -2, -4],\n",
        "    [3, 4,  40, -3, -2],\n",
        "    [-3, 4, -6, 90, 10],\n",
        "    [25, 45, 34, 22, 12],\n",
        "    [13, 24, 22, 32, 37]])\n",
        "\n",
        "X[X%2==1] = 25\n",
        "X[X<0] = 0\n",
        "X"
      ],
      "execution_count": null,
      "outputs": []
    }
  ]
}